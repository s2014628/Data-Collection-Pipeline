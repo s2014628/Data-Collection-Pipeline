{
 "cells": [
  {
   "cell_type": "code",
   "execution_count": 24,
   "metadata": {},
   "outputs": [
    {
     "name": "stdout",
     "output_type": "stream",
     "text": [
      "Requirement already satisfied: webdriver-manager in c:\\users\\44772\\miniconda3\\envs\\data_collection_aic\\lib\\site-packages (3.8.2)\n",
      "\n",
      "Requirement already satisfied: requests in c:\\users\\44772\\miniconda3\\envs\\data_collection_aic\\lib\\site-packages (from webdriver-manager) (2.28.1)\n",
      "Requirement already satisfied: python-dotenv in c:\\users\\44772\\miniconda3\\envs\\data_collection_aic\\lib\\site-packages (from webdriver-manager) (0.20.0)\n",
      "Requirement already satisfied: urllib3<1.27,>=1.21.1 in c:\\users\\44772\\miniconda3\\envs\\data_collection_aic\\lib\\site-packages (from requests->webdriver-manager) (1.26.10)\n",
      "Requirement already satisfied: charset-normalizer<3,>=2 in c:\\users\\44772\\miniconda3\\envs\\data_collection_aic\\lib\\site-packages (from requests->webdriver-manager) (2.1.0)\n",
      "Requirement already satisfied: certifi>=2017.4.17 in c:\\users\\44772\\miniconda3\\envs\\data_collection_aic\\lib\\site-packages (from requests->webdriver-manager) (2022.6.15)\n",
      "Requirement already satisfied: idna<4,>=2.5 in c:\\users\\44772\\miniconda3\\envs\\data_collection_aic\\lib\\site-packages (from requests->webdriver-manager) (3.3)\n"
     ]
    },
    {
     "name": "stderr",
     "output_type": "stream",
     "text": [
      "C:\\Users\\44772\\AppData\\Local\\Temp\\ipykernel_19320\\2533435379.py:7: DeprecationWarning: executable_path has been deprecated, please pass in a Service object\n",
      "  driver=Chrome(ChromeDriverManager().install())\n"
     ]
    },
    {
     "name": "stdout",
     "output_type": "stream",
     "text": [
      "Requirement already satisfied: webdriver-manager in c:\\users\\44772\\miniconda3\\envs\\data_collection_aic\\lib\\site-packages (3.8.2)\n",
      "\n",
      "Requirement already satisfied: python-dotenv in c:\\users\\44772\\miniconda3\\envs\\data_collection_aic\\lib\\site-packages (from webdriver-manager) (0.20.0)\n",
      "Requirement already satisfied: requests in c:\\users\\44772\\miniconda3\\envs\\data_collection_aic\\lib\\site-packages (from webdriver-manager) (2.28.1)\n",
      "Requirement already satisfied: idna<4,>=2.5 in c:\\users\\44772\\miniconda3\\envs\\data_collection_aic\\lib\\site-packages (from requests->webdriver-manager) (3.3)\n",
      "Requirement already satisfied: urllib3<1.27,>=1.21.1 in c:\\users\\44772\\miniconda3\\envs\\data_collection_aic\\lib\\site-packages (from requests->webdriver-manager) (1.26.10)\n",
      "Requirement already satisfied: charset-normalizer<3,>=2 in c:\\users\\44772\\miniconda3\\envs\\data_collection_aic\\lib\\site-packages (from requests->webdriver-manager) (2.1.0)\n",
      "Requirement already satisfied: certifi>=2017.4.17 in c:\\users\\44772\\miniconda3\\envs\\data_collection_aic\\lib\\site-packages (from requests->webdriver-manager) (2022.6.15)\n"
     ]
    },
    {
     "name": "stderr",
     "output_type": "stream",
     "text": [
      "C:\\Users\\44772\\AppData\\Local\\Temp\\ipykernel_19320\\2533435379.py:29: DeprecationWarning: executable_path has been deprecated, please pass in a Service object\n",
      "  driver=Chrome(ChromeDriverManager().install())\n"
     ]
    }
   ],
   "source": [
    "import requests\n",
    "import selenium\n",
    "from selenium.webdriver import Chrome\n",
    "!pip install webdriver-manager\n",
    "from webdriver_manager.chrome import ChromeDriverManager\n",
    "from selenium.webdriver.common.by import By\n",
    "driver=Chrome(ChromeDriverManager().install())\n",
    "from selenium import webdriver\n",
    "from selenium.webdriver.common.by import By\n",
    "import time\n",
    "from multiprocessing.sharedctypes import Value\n",
    "from selenium import webdriver\n",
    "import uuid\n",
    "from selenium.webdriver.support.ui import WebDriverWait\n",
    "from selenium.webdriver.support import expected_conditions as EC\n",
    "from selenium.webdriver.common.by import By\n",
    "from selenium.webdriver.common.keys import Keys\n",
    "import time\n",
    "import os\n",
    "import shutil\n",
    "import urllib.request\n",
    "import json\n",
    "import requests\n",
    "import selenium\n",
    "from selenium.webdriver import Chrome\n",
    "!pip install webdriver-manager\n",
    "from webdriver_manager.chrome import ChromeDriverManager\n",
    "from selenium.webdriver.common.by import By\n",
    "driver=Chrome(ChromeDriverManager().install())\n",
    "from selenium import webdriver\n",
    "from selenium.webdriver.common.by import By\n",
    "import time"
   ]
  },
  {
   "cell_type": "code",
   "execution_count": 26,
   "metadata": {},
   "outputs": [
    {
     "ename": "InvalidSelectorException",
     "evalue": "Message: invalid selector: Unable to locate an element with the xpath expression //h2[@class=\"bop-price__current \"]] because of the following error:\nSyntaxError: Failed to execute 'evaluate' on 'Document': The string '//h2[@class=\"bop-price__current \"]]' is not a valid XPath expression.\n  (Session info: chrome=103.0.5060.134)\nStacktrace:\nBacktrace:\n\tOrdinal0 [0x00F46463+2188387]\n\tOrdinal0 [0x00EDE461+1762401]\n\tOrdinal0 [0x00DF3D78+802168]\n\tOrdinal0 [0x00DF6754+812884]\n\tOrdinal0 [0x00DF6612+812562]\n\tOrdinal0 [0x00DF68A0+813216]\n\tOrdinal0 [0x00E21595+988565]\n\tOrdinal0 [0x00E21B1B+989979]\n\tOrdinal0 [0x00E4E912+1173778]\n\tOrdinal0 [0x00E3C824+1099812]\n\tOrdinal0 [0x00E4CC22+1166370]\n\tOrdinal0 [0x00E3C5F6+1099254]\n\tOrdinal0 [0x00E16BE0+945120]\n\tOrdinal0 [0x00E17AD6+948950]\n\tGetHandleVerifier [0x011E71F2+2712546]\n\tGetHandleVerifier [0x011D886D+2652765]\n\tGetHandleVerifier [0x00FD002A+520730]\n\tGetHandleVerifier [0x00FCEE06+516086]\n\tOrdinal0 [0x00EE468B+1787531]\n\tOrdinal0 [0x00EE8E88+1805960]\n\tOrdinal0 [0x00EE8F75+1806197]\n\tOrdinal0 [0x00EF1DF1+1842673]\n\tBaseThreadInitThunk [0x765A6739+25]\n\tRtlGetFullPathName_UEx [0x77638FEF+1215]\n\tRtlGetFullPathName_UEx [0x77638FBD+1165]\n",
     "output_type": "error",
     "traceback": [
      "\u001b[1;31m---------------------------------------------------------------------------\u001b[0m",
      "\u001b[1;31mInvalidSelectorException\u001b[0m                  Traceback (most recent call last)",
      "\u001b[1;32mc:\\Users\\44772\\Documents\\GitHub\\Data-Collection-Pipeline\\test.ipynb Cell 2\u001b[0m in \u001b[0;36m<cell line: 15>\u001b[1;34m()\u001b[0m\n\u001b[0;32m     <a href='vscode-notebook-cell:/c%3A/Users/44772/Documents/GitHub/Data-Collection-Pipeline/test.ipynb#ch0000001?line=12'>13</a>\u001b[0m food\u001b[39m=\u001b[39mproduct_container\u001b[39m.\u001b[39mfind_elements(by\u001b[39m=\u001b[39mBy\u001b[39m.\u001b[39mXPATH,value\u001b[39m=\u001b[39m\u001b[39m'\u001b[39m\u001b[39m./li\u001b[39m\u001b[39m'\u001b[39m)[\u001b[39m0\u001b[39m]\n\u001b[0;32m     <a href='vscode-notebook-cell:/c%3A/Users/44772/Documents/GitHub/Data-Collection-Pipeline/test.ipynb#ch0000001?line=13'>14</a>\u001b[0m food\u001b[39m.\u001b[39mclick()\n\u001b[1;32m---> <a href='vscode-notebook-cell:/c%3A/Users/44772/Documents/GitHub/Data-Collection-Pipeline/test.ipynb#ch0000001?line=14'>15</a>\u001b[0m a\u001b[39m=\u001b[39mdriver\u001b[39m.\u001b[39;49mfind_element(by\u001b[39m=\u001b[39;49mBy\u001b[39m.\u001b[39;49mXPATH,value\u001b[39m=\u001b[39;49m\u001b[39m'\u001b[39;49m\u001b[39m//h2[@class=\u001b[39;49m\u001b[39m\"\u001b[39;49m\u001b[39mbop-price__current \u001b[39;49m\u001b[39m\"\u001b[39;49m\u001b[39m]]\u001b[39;49m\u001b[39m'\u001b[39;49m)\u001b[39m.\u001b[39mtext\n\u001b[0;32m     <a href='vscode-notebook-cell:/c%3A/Users/44772/Documents/GitHub/Data-Collection-Pipeline/test.ipynb#ch0000001?line=15'>16</a>\u001b[0m \u001b[39m#b=a.find_element(by=By.XPATH,value='./meta[@itemprop=\"priceCurrency\"]').text\u001b[39;00m\n\u001b[0;32m     <a href='vscode-notebook-cell:/c%3A/Users/44772/Documents/GitHub/Data-Collection-Pipeline/test.ipynb#ch0000001?line=16'>17</a>\u001b[0m driver\u001b[39m.\u001b[39mclose()\n",
      "File \u001b[1;32mc:\\Users\\44772\\miniconda3\\envs\\Data_Collection_AiC\\lib\\site-packages\\selenium\\webdriver\\remote\\webdriver.py:857\u001b[0m, in \u001b[0;36mWebDriver.find_element\u001b[1;34m(self, by, value)\u001b[0m\n\u001b[0;32m    854\u001b[0m     by \u001b[39m=\u001b[39m By\u001b[39m.\u001b[39mCSS_SELECTOR\n\u001b[0;32m    855\u001b[0m     value \u001b[39m=\u001b[39m \u001b[39m'\u001b[39m\u001b[39m[name=\u001b[39m\u001b[39m\"\u001b[39m\u001b[39m%s\u001b[39;00m\u001b[39m\"\u001b[39m\u001b[39m]\u001b[39m\u001b[39m'\u001b[39m \u001b[39m%\u001b[39m value\n\u001b[1;32m--> 857\u001b[0m \u001b[39mreturn\u001b[39;00m \u001b[39mself\u001b[39;49m\u001b[39m.\u001b[39;49mexecute(Command\u001b[39m.\u001b[39;49mFIND_ELEMENT, {\n\u001b[0;32m    858\u001b[0m     \u001b[39m'\u001b[39;49m\u001b[39musing\u001b[39;49m\u001b[39m'\u001b[39;49m: by,\n\u001b[0;32m    859\u001b[0m     \u001b[39m'\u001b[39;49m\u001b[39mvalue\u001b[39;49m\u001b[39m'\u001b[39;49m: value})[\u001b[39m'\u001b[39m\u001b[39mvalue\u001b[39m\u001b[39m'\u001b[39m]\n",
      "File \u001b[1;32mc:\\Users\\44772\\miniconda3\\envs\\Data_Collection_AiC\\lib\\site-packages\\selenium\\webdriver\\remote\\webdriver.py:435\u001b[0m, in \u001b[0;36mWebDriver.execute\u001b[1;34m(self, driver_command, params)\u001b[0m\n\u001b[0;32m    433\u001b[0m response \u001b[39m=\u001b[39m \u001b[39mself\u001b[39m\u001b[39m.\u001b[39mcommand_executor\u001b[39m.\u001b[39mexecute(driver_command, params)\n\u001b[0;32m    434\u001b[0m \u001b[39mif\u001b[39;00m response:\n\u001b[1;32m--> 435\u001b[0m     \u001b[39mself\u001b[39;49m\u001b[39m.\u001b[39;49merror_handler\u001b[39m.\u001b[39;49mcheck_response(response)\n\u001b[0;32m    436\u001b[0m     response[\u001b[39m'\u001b[39m\u001b[39mvalue\u001b[39m\u001b[39m'\u001b[39m] \u001b[39m=\u001b[39m \u001b[39mself\u001b[39m\u001b[39m.\u001b[39m_unwrap_value(\n\u001b[0;32m    437\u001b[0m         response\u001b[39m.\u001b[39mget(\u001b[39m'\u001b[39m\u001b[39mvalue\u001b[39m\u001b[39m'\u001b[39m, \u001b[39mNone\u001b[39;00m))\n\u001b[0;32m    438\u001b[0m     \u001b[39mreturn\u001b[39;00m response\n",
      "File \u001b[1;32mc:\\Users\\44772\\miniconda3\\envs\\Data_Collection_AiC\\lib\\site-packages\\selenium\\webdriver\\remote\\errorhandler.py:247\u001b[0m, in \u001b[0;36mErrorHandler.check_response\u001b[1;34m(self, response)\u001b[0m\n\u001b[0;32m    245\u001b[0m         alert_text \u001b[39m=\u001b[39m value[\u001b[39m'\u001b[39m\u001b[39malert\u001b[39m\u001b[39m'\u001b[39m]\u001b[39m.\u001b[39mget(\u001b[39m'\u001b[39m\u001b[39mtext\u001b[39m\u001b[39m'\u001b[39m)\n\u001b[0;32m    246\u001b[0m     \u001b[39mraise\u001b[39;00m exception_class(message, screen, stacktrace, alert_text)  \u001b[39m# type: ignore[call-arg]  # mypy is not smart enough here\u001b[39;00m\n\u001b[1;32m--> 247\u001b[0m \u001b[39mraise\u001b[39;00m exception_class(message, screen, stacktrace)\n",
      "\u001b[1;31mInvalidSelectorException\u001b[0m: Message: invalid selector: Unable to locate an element with the xpath expression //h2[@class=\"bop-price__current \"]] because of the following error:\nSyntaxError: Failed to execute 'evaluate' on 'Document': The string '//h2[@class=\"bop-price__current \"]]' is not a valid XPath expression.\n  (Session info: chrome=103.0.5060.134)\nStacktrace:\nBacktrace:\n\tOrdinal0 [0x00F46463+2188387]\n\tOrdinal0 [0x00EDE461+1762401]\n\tOrdinal0 [0x00DF3D78+802168]\n\tOrdinal0 [0x00DF6754+812884]\n\tOrdinal0 [0x00DF6612+812562]\n\tOrdinal0 [0x00DF68A0+813216]\n\tOrdinal0 [0x00E21595+988565]\n\tOrdinal0 [0x00E21B1B+989979]\n\tOrdinal0 [0x00E4E912+1173778]\n\tOrdinal0 [0x00E3C824+1099812]\n\tOrdinal0 [0x00E4CC22+1166370]\n\tOrdinal0 [0x00E3C5F6+1099254]\n\tOrdinal0 [0x00E16BE0+945120]\n\tOrdinal0 [0x00E17AD6+948950]\n\tGetHandleVerifier [0x011E71F2+2712546]\n\tGetHandleVerifier [0x011D886D+2652765]\n\tGetHandleVerifier [0x00FD002A+520730]\n\tGetHandleVerifier [0x00FCEE06+516086]\n\tOrdinal0 [0x00EE468B+1787531]\n\tOrdinal0 [0x00EE8E88+1805960]\n\tOrdinal0 [0x00EE8F75+1806197]\n\tOrdinal0 [0x00EF1DF1+1842673]\n\tBaseThreadInitThunk [0x765A6739+25]\n\tRtlGetFullPathName_UEx [0x77638FEF+1215]\n\tRtlGetFullPathName_UEx [0x77638FBD+1165]\n"
     ]
    }
   ],
   "source": [
    "from multiprocessing.sharedctypes import Value\n",
    "## error occur here!\n",
    "\n",
    "driver = webdriver.Chrome() \n",
    "URL = \"https://www.ocado.com/browse/fresh-chilled-food-20002/meat-poultry-42114\"\n",
    "driver.get(URL)\n",
    "cookies_button=driver.find_element(by=By.XPATH,value='//*[@id=\"onetrust-accept-btn-handler\"]')\n",
    "cookies_button.click()\n",
    "time.sleep(2)\n",
    "product_link_list=[]\n",
    "product_container=driver.find_element(by=By.XPATH,value='//*[@id=\"main-content\"]/div[2]/div[2]/ul')\n",
    "product_list=product_container.find_elements(by=By.XPATH,value='./li')\n",
    "food=product_container.find_elements(by=By.XPATH,value='./li')[0]\n",
    "food.click()\n",
    "a=driver.find_element(by=By.XPATH,value='//h2[@class=\"bop-price__current \" ]').text\n",
    "#b=a.find_element(by=By.XPATH,value='./meta[@itemprop=\"priceCurrency\"]').text\n",
    "driver.close()\n"
   ]
  },
  {
   "cell_type": "code",
   "execution_count": 22,
   "metadata": {},
   "outputs": [
    {
     "ename": "NameError",
     "evalue": "name 'jupyter' is not defined",
     "output_type": "error",
     "traceback": [
      "\u001b[1;31m---------------------------------------------------------------------------\u001b[0m",
      "\u001b[1;31mNameError\u001b[0m                                 Traceback (most recent call last)",
      "\u001b[1;32mc:\\Users\\44772\\Documents\\GitHub\\Data-Collection-Pipeline\\test.ipynb Cell 3\u001b[0m in \u001b[0;36m<cell line: 1>\u001b[1;34m()\u001b[0m\n\u001b[1;32m----> <a href='vscode-notebook-cell:/c%3A/Users/44772/Documents/GitHub/Data-Collection-Pipeline/test.ipynb#ch0000021?line=0'>1</a>\u001b[0m jupyter\u001b[39m.\u001b[39mmax\n",
      "\u001b[1;31mNameError\u001b[0m: name 'jupyter' is not defined"
     ]
    }
   ],
   "source": [
    "jupyter.max"
   ]
  },
  {
   "cell_type": "code",
   "execution_count": 9,
   "metadata": {},
   "outputs": [
    {
     "data": {
      "text/plain": [
       "[]"
      ]
     },
     "execution_count": 9,
     "metadata": {},
     "output_type": "execute_result"
    }
   ],
   "source": [
    "a"
   ]
  },
  {
   "cell_type": "code",
   "execution_count": null,
   "metadata": {},
   "outputs": [],
   "source": [
    "from selenium import webdriver\n",
    "from selenium.webdriver.common.by import By\n",
    "import time\n",
    "\n",
    "driver = webdriver.Chrome() \n",
    "URL = \"https://www.ocado.com/browse/fresh-chilled-food-20002/meat-poultry-42114\"\n",
    "driver.get(URL)\n",
    "cookies_button=driver.find_element(by=By.XPATH,value='//*[@id=\"onetrust-accept-btn-handler\"]')\n",
    "cookies_button.click()\n",
    "time.sleep(2)\n",
    "product_information_container=driver.find_element(by=By.XPATH,value='//*[@id=\"main-content\"]/div[2]/div[2]/ul')"
   ]
  },
  {
   "cell_type": "code",
   "execution_count": null,
   "metadata": {},
   "outputs": [],
   "source": [
    "driver = webdriver.Chrome() \n",
    "URL = \"https://www.ocado.com/browse/fresh-chilled-food-20002/meat-poultry-42114\"\n",
    "driver.get(URL)\n",
    "cookies_button=driver.find_element(by=By.XPATH,value='//*[@id=\"onetrust-accept-btn-handler\"]')\n",
    "cookies_button.click()\n",
    "time.sleep(2)\n",
    "product_container=driver.find_element(by=By.XPATH,value='//*[@id=\"main-content\"]/div[2]/div[2]/ul')\n",
    "product_list=product_container.find_elements(by=By.XPATH,value='./li')\n",
    "num_list=len(product_list)\n",
    "data={\"Product_name\":[],\"weight\":[],\"price\":[],\"Description\":[]}\n",
    "for i in range(num_list):\n",
    "    product_container=driver.find_element(by=By.XPATH,value='//*[@id=\"main-content\"]/div[2]/div[2]/ul')\n",
    "    food=product_container.find_elements(by=By.XPATH,value='./li')[i]\n",
    "    food.click()\n",
    "    time.sleep(5)\n",
    "    driver.back()\n",
    "    time.sleep(2)\n",
    "\n",
    "\n",
    "\n",
    "\n"
   ]
  },
  {
   "cell_type": "code",
   "execution_count": null,
   "metadata": {},
   "outputs": [],
   "source": []
  },
  {
   "cell_type": "code",
   "execution_count": 10,
   "metadata": {},
   "outputs": [],
   "source": [
    "from multiprocessing.sharedctypes import Value\n",
    "## error occur here!\n",
    "\n",
    "driver = webdriver.Chrome() \n",
    "URL = \"https://www.ocado.com/browse/fresh-chilled-food-20002/meat-poultry-42114\"\n",
    "driver.get(URL)\n",
    "cookies_button=driver.find_element(by=By.XPATH,value='//*[@id=\"onetrust-accept-btn-handler\"]')\n",
    "cookies_button.click()\n",
    "time.sleep(2)\n",
    "product_link_list=[]\n",
    "product_container=driver.find_element(by=By.XPATH,value='//*[@id=\"main-content\"]/div[2]/div[2]/ul')\n",
    "product_list=product_container.find_elements(by=By.XPATH,value='./li')\n",
    "food=product_container.find_elements(by=By.XPATH,value='./li')[0]\n",
    "food.click()\n",
    "time.sleep(1)\n",
    "a=driver.find_element(by=By.CLASS_NAME ,value=\"bop-title\")\n",
    "b=a.find_element(by=By.XPATH,value='.//span[@class=\"bop-catchWeight\"]').text\n",
    "\n",
    "time.sleep(1)\n",
    "driver.back()\n",
    "\n",
    "\n",
    "\n"
   ]
  },
  {
   "cell_type": "code",
   "execution_count": null,
   "metadata": {},
   "outputs": [],
   "source": [
    "from multiprocessing.sharedctypes import Value\n",
    "from selenium import webdriver\n",
    "import uuid\n",
    "from selenium.webdriver.support.ui import WebDriverWait\n",
    "from selenium.webdriver.support import expected_conditions as EC\n",
    "from selenium.webdriver.common.by import By\n",
    "from selenium.webdriver.common.keys import Keys\n",
    "import time\n",
    "import os\n",
    "import shutil\n",
    "import urllib.request\n",
    "import json\n",
    "import requests\n",
    "import selenium\n",
    "from selenium.webdriver import Chrome\n",
    "!pip install webdriver-manager\n",
    "from webdriver_manager.chrome import ChromeDriverManager\n",
    "from selenium.webdriver.common.by import By\n",
    "driver=Chrome(ChromeDriverManager().install())\n",
    "from selenium import webdriver\n",
    "from selenium.webdriver.common.by import By\n",
    "import time"
   ]
  },
  {
   "cell_type": "code",
   "execution_count": 11,
   "metadata": {},
   "outputs": [
    {
     "data": {
      "text/plain": [
       "'650g'"
      ]
     },
     "execution_count": 11,
     "metadata": {},
     "output_type": "execute_result"
    }
   ],
   "source": [
    "b"
   ]
  },
  {
   "cell_type": "code",
   "execution_count": null,
   "metadata": {},
   "outputs": [],
   "source": [
    "for product in product_list:\n",
    "    tag=product.find_element(By.TAG_NAME,'a')\n",
    "    link=tag.get_attribute('href')\n",
    "    product_link_list.append(product_list)\n",
    "    time.sleep(2)\n",
    "num_list=len(product_list)"
   ]
  },
  {
   "cell_type": "code",
   "execution_count": null,
   "metadata": {},
   "outputs": [],
   "source": [
    "\n",
    "time.sleep(2)\n",
    "\n",
    "product_list=product_information_container.find_elements(by=By.XPATH,value='./div')\n",
    "product_list\n",
    "\n"
   ]
  },
  {
   "cell_type": "code",
   "execution_count": null,
   "metadata": {},
   "outputs": [],
   "source": [
    "len(product_list)"
   ]
  },
  {
   "cell_type": "code",
   "execution_count": null,
   "metadata": {},
   "outputs": [],
   "source": [
    "link"
   ]
  },
  {
   "cell_type": "code",
   "execution_count": null,
   "metadata": {},
   "outputs": [],
   "source": []
  },
  {
   "cell_type": "code",
   "execution_count": null,
   "metadata": {},
   "outputs": [],
   "source": []
  },
  {
   "cell_type": "code",
   "execution_count": null,
   "metadata": {},
   "outputs": [],
   "source": []
  },
  {
   "cell_type": "code",
   "execution_count": null,
   "metadata": {},
   "outputs": [],
   "source": []
  },
  {
   "cell_type": "code",
   "execution_count": null,
   "metadata": {},
   "outputs": [],
   "source": []
  },
  {
   "cell_type": "code",
   "execution_count": null,
   "metadata": {},
   "outputs": [],
   "source": []
  },
  {
   "cell_type": "code",
   "execution_count": null,
   "metadata": {},
   "outputs": [],
   "source": []
  },
  {
   "cell_type": "code",
   "execution_count": null,
   "metadata": {},
   "outputs": [],
   "source": []
  }
 ],
 "metadata": {
  "kernelspec": {
   "display_name": "Python 3.10.4 ('Data_Collection_AiC')",
   "language": "python",
   "name": "python3"
  },
  "language_info": {
   "codemirror_mode": {
    "name": "ipython",
    "version": 3
   },
   "file_extension": ".py",
   "mimetype": "text/x-python",
   "name": "python",
   "nbconvert_exporter": "python",
   "pygments_lexer": "ipython3",
   "version": "3.10.4"
  },
  "orig_nbformat": 4,
  "vscode": {
   "interpreter": {
    "hash": "53ec01ca0f0aec13aedb9a7a504d27dddcf537b0c3fda53760a67f820ca51f3f"
   }
  }
 },
 "nbformat": 4,
 "nbformat_minor": 2
}
