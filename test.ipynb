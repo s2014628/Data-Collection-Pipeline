{
 "cells": [
  {
   "cell_type": "code",
   "execution_count": 3,
   "metadata": {},
   "outputs": [
    {
     "name": "stdout",
     "output_type": "stream",
     "text": [
      "Requirement already satisfied: webdriver-manager in c:\\users\\44772\\miniconda3\\envs\\data_collection_aic\\lib\\site-packages (3.8.2)\n",
      "Requirement already satisfied: requests in c:\\users\\44772\\miniconda3\\envs\\data_collection_aic\\lib\\site-packages (from webdriver-manager) (2.28.1)\n",
      "Requirement already satisfied: python-dotenv in c:\\users\\44772\\miniconda3\\envs\\data_collection_aic\\lib\\site-packages (from webdriver-manager) (0.20.0)\n",
      "Requirement already satisfied: certifi>=2017.4.17 in c:\\users\\44772\\miniconda3\\envs\\data_collection_aic\\lib\\site-packages (from requests->webdriver-manager) (2022.6.15)\n",
      "Requirement already satisfied: urllib3<1.27,>=1.21.1 in c:\\users\\44772\\miniconda3\\envs\\data_collection_aic\\lib\\site-packages (from requests->webdriver-manager) (1.26.10)\n",
      "Requirement already satisfied: idna<4,>=2.5 in c:\\users\\44772\\miniconda3\\envs\\data_collection_aic\\lib\\site-packages (from requests->webdriver-manager) (3.3)\n",
      "Requirement already satisfied: charset-normalizer<3,>=2 in c:\\users\\44772\\miniconda3\\envs\\data_collection_aic\\lib\\site-packages (from requests->webdriver-manager) (2.1.0)\n",
      "\n"
     ]
    },
    {
     "name": "stderr",
     "output_type": "stream",
     "text": [
      "C:\\Users\\44772\\AppData\\Local\\Temp\\ipykernel_15852\\2457094611.py:6: DeprecationWarning: executable_path has been deprecated, please pass in a Service object\n",
      "  driver=Chrome(ChromeDriverManager().install())\n"
     ]
    }
   ],
   "source": [
    "import requests\n",
    "import selenium\n",
    "from selenium.webdriver import Chrome\n",
    "!pip install webdriver-manager\n",
    "from webdriver_manager.chrome import ChromeDriverManager\n",
    "driver=Chrome(ChromeDriverManager().install())\n",
    "driver.get('https://www.ocado.com/browse')"
   ]
  },
  {
   "cell_type": "code",
   "execution_count": null,
   "metadata": {},
   "outputs": [],
   "source": []
  },
  {
   "cell_type": "code",
   "execution_count": null,
   "metadata": {},
   "outputs": [],
   "source": []
  },
  {
   "cell_type": "code",
   "execution_count": null,
   "metadata": {},
   "outputs": [],
   "source": []
  },
  {
   "cell_type": "code",
   "execution_count": null,
   "metadata": {},
   "outputs": [],
   "source": []
  },
  {
   "cell_type": "code",
   "execution_count": null,
   "metadata": {},
   "outputs": [],
   "source": []
  },
  {
   "cell_type": "code",
   "execution_count": null,
   "metadata": {},
   "outputs": [],
   "source": []
  },
  {
   "cell_type": "code",
   "execution_count": null,
   "metadata": {},
   "outputs": [],
   "source": []
  },
  {
   "cell_type": "code",
   "execution_count": null,
   "metadata": {},
   "outputs": [],
   "source": []
  }
 ],
 "metadata": {
  "kernelspec": {
   "display_name": "Python 3.10.4 ('Data_Collection_AiC')",
   "language": "python",
   "name": "python3"
  },
  "language_info": {
   "codemirror_mode": {
    "name": "ipython",
    "version": 3
   },
   "file_extension": ".py",
   "mimetype": "text/x-python",
   "name": "python",
   "nbconvert_exporter": "python",
   "pygments_lexer": "ipython3",
   "version": "3.10.4"
  },
  "orig_nbformat": 4,
  "vscode": {
   "interpreter": {
    "hash": "53ec01ca0f0aec13aedb9a7a504d27dddcf537b0c3fda53760a67f820ca51f3f"
   }
  }
 },
 "nbformat": 4,
 "nbformat_minor": 2
}
