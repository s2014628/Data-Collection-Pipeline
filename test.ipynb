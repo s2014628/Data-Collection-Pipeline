{
 "cells": [
  {
   "cell_type": "code",
   "execution_count": 1,
   "metadata": {},
   "outputs": [
    {
     "name": "stdout",
     "output_type": "stream",
     "text": [
      "Requirement already satisfied: webdriver-manager in c:\\users\\44772\\miniconda3\\envs\\data_collection_aic\\lib\\site-packages (3.8.2)\n",
      "Requirement already satisfied: python-dotenv in c:\\users\\44772\\miniconda3\\envs\\data_collection_aic\\lib\\site-packages (from webdriver-manager) (0.20.0)\n",
      "Requirement already satisfied: requests in c:\\users\\44772\\miniconda3\\envs\\data_collection_aic\\lib\\site-packages (from webdriver-manager) (2.28.1)\n",
      "Requirement already satisfied: certifi>=2017.4.17 in c:\\users\\44772\\miniconda3\\envs\\data_collection_aic\\lib\\site-packages (from requests->webdriver-manager) (2022.6.15)\n",
      "Requirement already satisfied: idna<4,>=2.5 in c:\\users\\44772\\miniconda3\\envs\\data_collection_aic\\lib\\site-packages (from requests->webdriver-manager) (3.3)\n",
      "Requirement already satisfied: urllib3<1.27,>=1.21.1 in c:\\users\\44772\\miniconda3\\envs\\data_collection_aic\\lib\\site-packages (from requests->webdriver-manager) (1.26.10)\n",
      "Requirement already satisfied: charset-normalizer<3,>=2 in c:\\users\\44772\\miniconda3\\envs\\data_collection_aic\\lib\\site-packages (from requests->webdriver-manager) (2.1.0)\n",
      "\n"
     ]
    },
    {
     "name": "stderr",
     "output_type": "stream",
     "text": [
      "C:\\Users\\44772\\AppData\\Local\\Temp\\ipykernel_28180\\1722348033.py:7: DeprecationWarning: executable_path has been deprecated, please pass in a Service object\n",
      "  driver=Chrome(ChromeDriverManager().install())\n"
     ]
    },
    {
     "name": "stdout",
     "output_type": "stream",
     "text": [
      "Requirement already satisfied: webdriver-manager in c:\\users\\44772\\miniconda3\\envs\\data_collection_aic\\lib\\site-packages (3.8.2)\n",
      "Requirement already satisfied: requests in c:\\users\\44772\\miniconda3\\envs\\data_collection_aic\\lib\\site-packages (from webdriver-manager) (2.28.1)\n",
      "Requirement already satisfied: python-dotenv in c:\\users\\44772\\miniconda3\\envs\\data_collection_aic\\lib\\site-packages (from webdriver-manager) (0.20.0)\n",
      "Requirement already satisfied: certifi>=2017.4.17 in c:\\users\\44772\\miniconda3\\envs\\data_collection_aic\\lib\\site-packages (from requests->webdriver-manager) (2022.6.15)\n",
      "Requirement already satisfied: idna<4,>=2.5 in c:\\users\\44772\\miniconda3\\envs\\data_collection_aic\\lib\\site-packages (from requests->webdriver-manager) (3.3)\n",
      "Requirement already satisfied: charset-normalizer<3,>=2 in c:\\users\\44772\\miniconda3\\envs\\data_collection_aic\\lib\\site-packages (from requests->webdriver-manager) (2.1.0)\n",
      "Requirement already satisfied: urllib3<1.27,>=1.21.1 in c:\\users\\44772\\miniconda3\\envs\\data_collection_aic\\lib\\site-packages (from requests->webdriver-manager) (1.26.10)\n",
      "\n"
     ]
    },
    {
     "name": "stderr",
     "output_type": "stream",
     "text": [
      "C:\\Users\\44772\\AppData\\Local\\Temp\\ipykernel_28180\\1722348033.py:29: DeprecationWarning: executable_path has been deprecated, please pass in a Service object\n",
      "  driver=Chrome(ChromeDriverManager().install())\n"
     ]
    }
   ],
   "source": [
    "import requests\n",
    "import selenium\n",
    "from selenium.webdriver import Chrome\n",
    "!pip install webdriver-manager\n",
    "from webdriver_manager.chrome import ChromeDriverManager\n",
    "from selenium.webdriver.common.by import By\n",
    "driver=Chrome(ChromeDriverManager().install())\n",
    "from selenium import webdriver\n",
    "from selenium.webdriver.common.by import By\n",
    "import time\n",
    "from multiprocessing.sharedctypes import Value\n",
    "from selenium import webdriver\n",
    "import uuid\n",
    "from selenium.webdriver.support.ui import WebDriverWait\n",
    "from selenium.webdriver.support import expected_conditions as EC\n",
    "from selenium.webdriver.common.by import By\n",
    "from selenium.webdriver.common.keys import Keys\n",
    "import time\n",
    "import os\n",
    "import shutil\n",
    "import urllib.request\n",
    "import json\n",
    "import requests\n",
    "import selenium\n",
    "from selenium.webdriver import Chrome\n",
    "!pip install webdriver-manager\n",
    "from webdriver_manager.chrome import ChromeDriverManager\n",
    "from selenium.webdriver.common.by import By\n",
    "driver=Chrome(ChromeDriverManager().install())\n",
    "from selenium import webdriver\n",
    "from selenium.webdriver.common.by import By\n",
    "import time\n"
   ]
  },
  {
   "cell_type": "code",
   "execution_count": 26,
   "metadata": {},
   "outputs": [
    {
     "ename": "TypeError",
     "evalue": "Scraper.__init__() missing 1 required positional argument: 'url'",
     "output_type": "error",
     "traceback": [
      "\u001b[1;31m---------------------------------------------------------------------------\u001b[0m",
      "\u001b[1;31mTypeError\u001b[0m                                 Traceback (most recent call last)",
      "\u001b[1;32mc:\\Users\\44772\\Documents\\GitHub\\Data-Collection-Pipeline\\test.ipynb Cell 2\u001b[0m in \u001b[0;36m<cell line: 3>\u001b[1;34m()\u001b[0m\n\u001b[0;32m      <a href='vscode-notebook-cell:/c%3A/Users/44772/Documents/GitHub/Data-Collection-Pipeline/test.ipynb#X45sZmlsZQ%3D%3D?line=0'>1</a>\u001b[0m \u001b[39mfrom\u001b[39;00m \u001b[39mscraper\u001b[39;00m \u001b[39mimport\u001b[39;00m Scraper\n\u001b[0;32m      <a href='vscode-notebook-cell:/c%3A/Users/44772/Documents/GitHub/Data-Collection-Pipeline/test.ipynb#X45sZmlsZQ%3D%3D?line=1'>2</a>\u001b[0m \u001b[39mimport\u001b[39;00m \u001b[39mtime\u001b[39;00m\n\u001b[1;32m----> <a href='vscode-notebook-cell:/c%3A/Users/44772/Documents/GitHub/Data-Collection-Pipeline/test.ipynb#X45sZmlsZQ%3D%3D?line=2'>3</a>\u001b[0m Scraper \u001b[39m=\u001b[39m Scraper()\n\u001b[0;32m      <a href='vscode-notebook-cell:/c%3A/Users/44772/Documents/GitHub/Data-Collection-Pipeline/test.ipynb#X45sZmlsZQ%3D%3D?line=3'>4</a>\u001b[0m bot\u001b[39m=\u001b[39mScraper(\u001b[39m'\u001b[39m\u001b[39mhttps://www.ocado.com/\u001b[39m\u001b[39m'\u001b[39m)\n\u001b[0;32m      <a href='vscode-notebook-cell:/c%3A/Users/44772/Documents/GitHub/Data-Collection-Pipeline/test.ipynb#X45sZmlsZQ%3D%3D?line=4'>5</a>\u001b[0m bot\u001b[39m.\u001b[39maccept_cookies()\n",
      "\u001b[1;31mTypeError\u001b[0m: Scraper.__init__() missing 1 required positional argument: 'url'"
     ]
    }
   ],
   "source": [
    "from scraper import Scraper\n",
    "import time\n",
    "Scraper = Scraper()\n",
    "bot=Scraper('https://www.ocado.com/')\n",
    "bot.accept_cookies()\n",
    "time.sleep(1)\n",
    "bot.browse_button()\n",
    "time.sleep(1)\n",
    "bot.search_bar()\n",
    "time.sleep(1)\n",
    "bot.find_product()\n",
    "time.sleep(10)\n"
   ]
  },
  {
   "cell_type": "code",
   "execution_count": 28,
   "metadata": {},
   "outputs": [
    {
     "ename": "NameError",
     "evalue": "name 'ChromeDriverManager' is not defined",
     "output_type": "error",
     "traceback": [
      "\u001b[1;31m---------------------------------------------------------------------------\u001b[0m",
      "\u001b[1;31mNameError\u001b[0m                                 Traceback (most recent call last)",
      "\u001b[1;32mc:\\Users\\44772\\Documents\\GitHub\\Data-Collection-Pipeline\\test.ipynb Cell 3\u001b[0m in \u001b[0;36m<cell line: 4>\u001b[1;34m()\u001b[0m\n\u001b[0;32m      <a href='vscode-notebook-cell:/c%3A/Users/44772/Documents/GitHub/Data-Collection-Pipeline/test.ipynb#X46sZmlsZQ%3D%3D?line=1'>2</a>\u001b[0m \u001b[39mimport\u001b[39;00m \u001b[39mtime\u001b[39;00m\n\u001b[0;32m      <a href='vscode-notebook-cell:/c%3A/Users/44772/Documents/GitHub/Data-Collection-Pipeline/test.ipynb#X46sZmlsZQ%3D%3D?line=3'>4</a>\u001b[0m \u001b[39mif\u001b[39;00m \u001b[39m__name__\u001b[39m\u001b[39m==\u001b[39m\u001b[39m'\u001b[39m\u001b[39m__main__\u001b[39m\u001b[39m'\u001b[39m:\n\u001b[1;32m----> <a href='vscode-notebook-cell:/c%3A/Users/44772/Documents/GitHub/Data-Collection-Pipeline/test.ipynb#X46sZmlsZQ%3D%3D?line=4'>5</a>\u001b[0m     bot\u001b[39m=\u001b[39mscraper\u001b[39m.\u001b[39;49mScraper(\u001b[39m'\u001b[39;49m\u001b[39mhttps://www.ocado.com/\u001b[39;49m\u001b[39m'\u001b[39;49m)\n\u001b[0;32m      <a href='vscode-notebook-cell:/c%3A/Users/44772/Documents/GitHub/Data-Collection-Pipeline/test.ipynb#X46sZmlsZQ%3D%3D?line=5'>6</a>\u001b[0m     bot\u001b[39m.\u001b[39maccept_cookies()\n\u001b[0;32m      <a href='vscode-notebook-cell:/c%3A/Users/44772/Documents/GitHub/Data-Collection-Pipeline/test.ipynb#X46sZmlsZQ%3D%3D?line=6'>7</a>\u001b[0m     time\u001b[39m.\u001b[39msleep(\u001b[39m1\u001b[39m)\n",
      "File \u001b[1;32mc:\\Users\\44772\\Documents\\GitHub\\Data-Collection-Pipeline\\scraper.py:13\u001b[0m, in \u001b[0;36mScraper.__init__\u001b[1;34m(self, url)\u001b[0m\n\u001b[0;32m     12\u001b[0m \u001b[39mdef\u001b[39;00m \u001b[39m__init__\u001b[39m(\u001b[39mself\u001b[39m,url):\n\u001b[1;32m---> 13\u001b[0m     \u001b[39mself\u001b[39m\u001b[39m.\u001b[39mdriver\u001b[39m=\u001b[39mwebdriver\u001b[39m.\u001b[39mChrome(ChromeDriverManager()\u001b[39m.\u001b[39minstall())\n\u001b[0;32m     14\u001b[0m     \u001b[39mself\u001b[39m\u001b[39m.\u001b[39mdriver\u001b[39m.\u001b[39mget(url)\n",
      "\u001b[1;31mNameError\u001b[0m: name 'ChromeDriverManager' is not defined"
     ]
    }
   ],
   "source": [
    "import scraper\n",
    "import time\n",
    "\n",
    "if __name__=='__main__':\n",
    "    bot=scraper.Scraper('https://www.ocado.com/')\n",
    "    bot.accept_cookies()\n",
    "    time.sleep(1)\n",
    "    bot.browse_button()\n",
    "    time.sleep(1)\n",
    "    bot.search_bar()\n",
    "    time.sleep(1)\n",
    "    bot.find_product()\n",
    "    time.sleep(10)\n"
   ]
  },
  {
   "cell_type": "code",
   "execution_count": null,
   "metadata": {},
   "outputs": [],
   "source": [
    "from selenium.webdriver.support.ui import WebDriverWait"
   ]
  },
  {
   "cell_type": "code",
   "execution_count": 2,
   "metadata": {},
   "outputs": [
    {
     "name": "stdout",
     "output_type": "stream",
     "text": [
      "\n"
     ]
    },
    {
     "name": "stderr",
     "output_type": "stream",
     "text": [
      "C:\\Users\\44772\\AppData\\Local\\Temp\\ipykernel_28180\\2900047521.py:6: DeprecationWarning: executable_path has been deprecated, please pass in a Service object\n",
      "  driver = webdriver.Chrome(ChromeDriverManager().install())\n"
     ]
    }
   ],
   "source": [
    "from typing import Container\n",
    "\n",
    "from numpy import product\n",
    "\n",
    "\n",
    "driver = webdriver.Chrome(ChromeDriverManager().install())\n",
    "url='https://www.ocado.com/'\n",
    "driver.get('https://www.ocado.com/')\n",
    "accept_cookies=driver.find_element(By.XPATH,value='//div[@class=\"banner-actions-container\"]')\n",
    "accept_cookies.click()\n",
    "driver.implicitly_wait(2)\n",
    "browse_button=driver.find_element(By.XPATH,value='//*[@id=\"browseShopContainer\"]/div/a/span')\n",
    "browse_button.click()\n",
    "time.sleep(3)\n",
    "search_bar=driver.find_element(By.XPATH,value='//input[@id=\"search\"]')\n",
    "driver.implicitly_wait(2)\n",
    "search_bar.click()\n",
    "driver.implicitly_wait(2)\n",
    "search_bar.send_keys('meat')\n",
    "search_bar.send_keys(Keys.ENTER)\n",
    "container=driver.find_element(By.XPATH,value='//ul[@class=\"fops fops-regular fops-shelf\"]')\n",
    "products=container.find_elements(By.XPATH,value='./li')\n",
    "\n",
    "\n",
    "\n",
    "\n",
    "\n",
    "\n",
    "\n",
    "\n",
    "\n"
   ]
  },
  {
   "cell_type": "code",
   "execution_count": 9,
   "metadata": {},
   "outputs": [
    {
     "ename": "NameError",
     "evalue": "name 'find_product' is not defined",
     "output_type": "error",
     "traceback": [
      "\u001b[1;31m---------------------------------------------------------------------------\u001b[0m",
      "\u001b[1;31mNameError\u001b[0m                                 Traceback (most recent call last)",
      "\u001b[1;32mc:\\Users\\44772\\Documents\\GitHub\\Data-Collection-Pipeline\\test.ipynb Cell 6\u001b[0m in \u001b[0;36m<cell line: 3>\u001b[1;34m()\u001b[0m\n\u001b[0;32m      <a href='vscode-notebook-cell:/c%3A/Users/44772/Documents/GitHub/Data-Collection-Pipeline/test.ipynb#X10sZmlsZQ%3D%3D?line=0'>1</a>\u001b[0m \u001b[39mfrom\u001b[39;00m \u001b[39mscraper\u001b[39;00m \u001b[39mimport\u001b[39;00m Scraper\n\u001b[1;32m----> <a href='vscode-notebook-cell:/c%3A/Users/44772/Documents/GitHub/Data-Collection-Pipeline/test.ipynb#X10sZmlsZQ%3D%3D?line=2'>3</a>\u001b[0m bot\u001b[39m=\u001b[39mfind_product()\n",
      "\u001b[1;31mNameError\u001b[0m: name 'find_product' is not defined"
     ]
    }
   ],
   "source": [
    "from scraper import Scraper\n",
    "\n",
    "bot=find_product()"
   ]
  },
  {
   "cell_type": "markdown",
   "metadata": {},
   "source": []
  },
  {
   "cell_type": "code",
   "execution_count": 3,
   "metadata": {},
   "outputs": [
    {
     "ename": "ModuleNotFoundError",
     "evalue": "No module named 'pandas'",
     "output_type": "error",
     "traceback": [
      "\u001b[1;31m---------------------------------------------------------------------------\u001b[0m",
      "\u001b[1;31mModuleNotFoundError\u001b[0m                       Traceback (most recent call last)",
      "\u001b[1;32mc:\\Users\\44772\\Documents\\GitHub\\Data-Collection-Pipeline\\test.ipynb Cell 6\u001b[0m in \u001b[0;36m<cell line: 1>\u001b[1;34m()\u001b[0m\n\u001b[1;32m----> <a href='vscode-notebook-cell:/c%3A/Users/44772/Documents/GitHub/Data-Collection-Pipeline/test.ipynb#W6sZmlsZQ%3D%3D?line=0'>1</a>\u001b[0m \u001b[39mimport\u001b[39;00m \u001b[39mpandas\u001b[39;00m \u001b[39mas\u001b[39;00m \u001b[39mpd\u001b[39;00m\n",
      "\u001b[1;31mModuleNotFoundError\u001b[0m: No module named 'pandas'"
     ]
    }
   ],
   "source": []
  },
  {
   "cell_type": "code",
   "execution_count": 42,
   "metadata": {},
   "outputs": [
    {
     "data": {
      "text/plain": [
       "[<selenium.webdriver.remote.webelement.WebElement (session=\"fdbcabe4b08f68a65dce32e2dc9e31f3\", element=\"506ece11-8f69-4e25-ac55-47ffc11c9ddb\")>,\n",
       " <selenium.webdriver.remote.webelement.WebElement (session=\"fdbcabe4b08f68a65dce32e2dc9e31f3\", element=\"60494363-b97a-429f-850c-4010f2f82061\")>,\n",
       " <selenium.webdriver.remote.webelement.WebElement (session=\"fdbcabe4b08f68a65dce32e2dc9e31f3\", element=\"8d340956-a94f-40e1-b2b1-c520264bd34f\")>,\n",
       " <selenium.webdriver.remote.webelement.WebElement (session=\"fdbcabe4b08f68a65dce32e2dc9e31f3\", element=\"afcf5f66-d164-4fac-8c1f-95674d66ec2d\")>,\n",
       " <selenium.webdriver.remote.webelement.WebElement (session=\"fdbcabe4b08f68a65dce32e2dc9e31f3\", element=\"38727b57-e164-48ca-96b3-592dd877febb\")>,\n",
       " <selenium.webdriver.remote.webelement.WebElement (session=\"fdbcabe4b08f68a65dce32e2dc9e31f3\", element=\"fa4de7c5-cddd-413e-b3ec-ff62fbb5d8c8\")>,\n",
       " <selenium.webdriver.remote.webelement.WebElement (session=\"fdbcabe4b08f68a65dce32e2dc9e31f3\", element=\"838cf9a1-dd49-4af9-89f6-6768fcbbb8f3\")>,\n",
       " <selenium.webdriver.remote.webelement.WebElement (session=\"fdbcabe4b08f68a65dce32e2dc9e31f3\", element=\"be19c8fd-010b-42c1-bb92-c84b66f0aebc\")>,\n",
       " <selenium.webdriver.remote.webelement.WebElement (session=\"fdbcabe4b08f68a65dce32e2dc9e31f3\", element=\"7297613a-371d-43c7-b59c-8429501d47de\")>,\n",
       " <selenium.webdriver.remote.webelement.WebElement (session=\"fdbcabe4b08f68a65dce32e2dc9e31f3\", element=\"6e2613b8-2b09-4a61-9bf1-40fe4803efe2\")>,\n",
       " <selenium.webdriver.remote.webelement.WebElement (session=\"fdbcabe4b08f68a65dce32e2dc9e31f3\", element=\"57c8243b-bcb1-49af-b94f-f1f48097688d\")>,\n",
       " <selenium.webdriver.remote.webelement.WebElement (session=\"fdbcabe4b08f68a65dce32e2dc9e31f3\", element=\"975dbb82-4cb3-4541-87f2-e1fca70e9fd8\")>,\n",
       " <selenium.webdriver.remote.webelement.WebElement (session=\"fdbcabe4b08f68a65dce32e2dc9e31f3\", element=\"bb95118f-152f-4eb1-a910-e6138ad572b0\")>,\n",
       " <selenium.webdriver.remote.webelement.WebElement (session=\"fdbcabe4b08f68a65dce32e2dc9e31f3\", element=\"5aee7eb3-ac7b-42e6-ba2d-2548e3470419\")>,\n",
       " <selenium.webdriver.remote.webelement.WebElement (session=\"fdbcabe4b08f68a65dce32e2dc9e31f3\", element=\"3b573457-f281-448c-8d61-ce2c77eab529\")>,\n",
       " <selenium.webdriver.remote.webelement.WebElement (session=\"fdbcabe4b08f68a65dce32e2dc9e31f3\", element=\"b88a7b1f-229e-4ce1-a0c7-e0e54b177f24\")>,\n",
       " <selenium.webdriver.remote.webelement.WebElement (session=\"fdbcabe4b08f68a65dce32e2dc9e31f3\", element=\"f392c2c1-aaa4-496f-934a-b56f07f795ac\")>,\n",
       " <selenium.webdriver.remote.webelement.WebElement (session=\"fdbcabe4b08f68a65dce32e2dc9e31f3\", element=\"6301a043-df10-4b3d-be41-01493dc22370\")>,\n",
       " <selenium.webdriver.remote.webelement.WebElement (session=\"fdbcabe4b08f68a65dce32e2dc9e31f3\", element=\"2622b4fa-7f92-432f-9c59-63831dc5f6f6\")>,\n",
       " <selenium.webdriver.remote.webelement.WebElement (session=\"fdbcabe4b08f68a65dce32e2dc9e31f3\", element=\"cfbbd543-e567-41f7-8316-10dd31954d57\")>,\n",
       " <selenium.webdriver.remote.webelement.WebElement (session=\"fdbcabe4b08f68a65dce32e2dc9e31f3\", element=\"f4dde105-f11b-472c-980c-5683783c0802\")>,\n",
       " <selenium.webdriver.remote.webelement.WebElement (session=\"fdbcabe4b08f68a65dce32e2dc9e31f3\", element=\"1b4d360c-9830-4bb8-8bf4-fa81f096ec81\")>,\n",
       " <selenium.webdriver.remote.webelement.WebElement (session=\"fdbcabe4b08f68a65dce32e2dc9e31f3\", element=\"367f1f39-73ba-4ee0-965a-de23e118660f\")>,\n",
       " <selenium.webdriver.remote.webelement.WebElement (session=\"fdbcabe4b08f68a65dce32e2dc9e31f3\", element=\"64b205fd-9880-4725-9461-6e3425c67ebb\")>,\n",
       " <selenium.webdriver.remote.webelement.WebElement (session=\"fdbcabe4b08f68a65dce32e2dc9e31f3\", element=\"1071360d-ed99-4055-85a0-285e0bc7f22d\")>,\n",
       " <selenium.webdriver.remote.webelement.WebElement (session=\"fdbcabe4b08f68a65dce32e2dc9e31f3\", element=\"4a94993c-383c-43e4-aae2-ec20aab64163\")>,\n",
       " <selenium.webdriver.remote.webelement.WebElement (session=\"fdbcabe4b08f68a65dce32e2dc9e31f3\", element=\"bd59c098-90a4-4d92-9bed-deaeb43d9ca0\")>,\n",
       " <selenium.webdriver.remote.webelement.WebElement (session=\"fdbcabe4b08f68a65dce32e2dc9e31f3\", element=\"be4019b9-8bb4-413e-b562-56525988507e\")>,\n",
       " <selenium.webdriver.remote.webelement.WebElement (session=\"fdbcabe4b08f68a65dce32e2dc9e31f3\", element=\"f8a1941a-887c-4cb9-aaef-2f2e02bb6202\")>,\n",
       " <selenium.webdriver.remote.webelement.WebElement (session=\"fdbcabe4b08f68a65dce32e2dc9e31f3\", element=\"491906d3-e6ad-4b01-99e5-9c00a6bcd420\")>,\n",
       " <selenium.webdriver.remote.webelement.WebElement (session=\"fdbcabe4b08f68a65dce32e2dc9e31f3\", element=\"aaec8d6b-0838-4bef-b1e0-f6a6d56f80d5\")>,\n",
       " <selenium.webdriver.remote.webelement.WebElement (session=\"fdbcabe4b08f68a65dce32e2dc9e31f3\", element=\"6b999b6a-f769-4ac3-b77c-d9347b7b91c5\")>,\n",
       " <selenium.webdriver.remote.webelement.WebElement (session=\"fdbcabe4b08f68a65dce32e2dc9e31f3\", element=\"77841e3c-2825-4d0b-a969-6ac9a01f86e6\")>,\n",
       " <selenium.webdriver.remote.webelement.WebElement (session=\"fdbcabe4b08f68a65dce32e2dc9e31f3\", element=\"04894210-cfe9-4ab8-8188-e723f0c21a10\")>,\n",
       " <selenium.webdriver.remote.webelement.WebElement (session=\"fdbcabe4b08f68a65dce32e2dc9e31f3\", element=\"43d870d8-7582-4b80-944d-3f4878563572\")>,\n",
       " <selenium.webdriver.remote.webelement.WebElement (session=\"fdbcabe4b08f68a65dce32e2dc9e31f3\", element=\"a025a1d0-e961-4f8e-9b0d-a8f7cc6eb04a\")>,\n",
       " <selenium.webdriver.remote.webelement.WebElement (session=\"fdbcabe4b08f68a65dce32e2dc9e31f3\", element=\"546b2743-ba57-4e53-8ab6-9669080e6718\")>,\n",
       " <selenium.webdriver.remote.webelement.WebElement (session=\"fdbcabe4b08f68a65dce32e2dc9e31f3\", element=\"88b8ed49-c5ff-4559-8de1-ea201aeb2460\")>,\n",
       " <selenium.webdriver.remote.webelement.WebElement (session=\"fdbcabe4b08f68a65dce32e2dc9e31f3\", element=\"3b4905ed-0b6b-4570-a87a-9c2756454040\")>,\n",
       " <selenium.webdriver.remote.webelement.WebElement (session=\"fdbcabe4b08f68a65dce32e2dc9e31f3\", element=\"53fe693b-d9bc-4f88-af2b-e602252bd4d0\")>,\n",
       " <selenium.webdriver.remote.webelement.WebElement (session=\"fdbcabe4b08f68a65dce32e2dc9e31f3\", element=\"be954614-51bf-4f25-bcd8-edd122810ea4\")>,\n",
       " <selenium.webdriver.remote.webelement.WebElement (session=\"fdbcabe4b08f68a65dce32e2dc9e31f3\", element=\"acd18423-acc9-43a8-aea3-d06202a37fcc\")>,\n",
       " <selenium.webdriver.remote.webelement.WebElement (session=\"fdbcabe4b08f68a65dce32e2dc9e31f3\", element=\"b7acde9d-a74a-4059-9294-d092085007f5\")>,\n",
       " <selenium.webdriver.remote.webelement.WebElement (session=\"fdbcabe4b08f68a65dce32e2dc9e31f3\", element=\"d0482743-29ed-48a3-b30d-d0235103b54f\")>,\n",
       " <selenium.webdriver.remote.webelement.WebElement (session=\"fdbcabe4b08f68a65dce32e2dc9e31f3\", element=\"1ce56056-0b39-4706-b753-98e77f97036a\")>,\n",
       " <selenium.webdriver.remote.webelement.WebElement (session=\"fdbcabe4b08f68a65dce32e2dc9e31f3\", element=\"0df0d924-0bc9-43a1-a4e1-45ed71c5438a\")>,\n",
       " <selenium.webdriver.remote.webelement.WebElement (session=\"fdbcabe4b08f68a65dce32e2dc9e31f3\", element=\"66a9206a-1165-4b10-b59d-c74daf077e1a\")>,\n",
       " <selenium.webdriver.remote.webelement.WebElement (session=\"fdbcabe4b08f68a65dce32e2dc9e31f3\", element=\"a90a2098-e386-447f-9b66-4ab95c8a121c\")>,\n",
       " <selenium.webdriver.remote.webelement.WebElement (session=\"fdbcabe4b08f68a65dce32e2dc9e31f3\", element=\"b9a399c8-aa9e-49c6-a7a3-38a52afddde7\")>,\n",
       " <selenium.webdriver.remote.webelement.WebElement (session=\"fdbcabe4b08f68a65dce32e2dc9e31f3\", element=\"fd2f3366-5716-445f-853f-5aa6b8c0ec84\")>,\n",
       " <selenium.webdriver.remote.webelement.WebElement (session=\"fdbcabe4b08f68a65dce32e2dc9e31f3\", element=\"c25b5aa4-6589-4fde-b92d-39a4a2142753\")>,\n",
       " <selenium.webdriver.remote.webelement.WebElement (session=\"fdbcabe4b08f68a65dce32e2dc9e31f3\", element=\"7658ce5e-8e48-4610-9a53-7fe4f104b4b3\")>,\n",
       " <selenium.webdriver.remote.webelement.WebElement (session=\"fdbcabe4b08f68a65dce32e2dc9e31f3\", element=\"95f8159c-d898-4718-8226-c5bdb9cf6a0e\")>,\n",
       " <selenium.webdriver.remote.webelement.WebElement (session=\"fdbcabe4b08f68a65dce32e2dc9e31f3\", element=\"ff6a0292-9e4a-4684-90ce-0d7b32cd029c\")>,\n",
       " <selenium.webdriver.remote.webelement.WebElement (session=\"fdbcabe4b08f68a65dce32e2dc9e31f3\", element=\"35c42a9c-d025-4be4-9def-44eae2da0525\")>,\n",
       " <selenium.webdriver.remote.webelement.WebElement (session=\"fdbcabe4b08f68a65dce32e2dc9e31f3\", element=\"abfd0ddb-03bb-472e-a918-9e43020eee51\")>,\n",
       " <selenium.webdriver.remote.webelement.WebElement (session=\"fdbcabe4b08f68a65dce32e2dc9e31f3\", element=\"83befa6c-bf56-40be-b961-cde50b0a30a2\")>,\n",
       " <selenium.webdriver.remote.webelement.WebElement (session=\"fdbcabe4b08f68a65dce32e2dc9e31f3\", element=\"7efbfc0c-be31-4a6a-9b85-5f7d1cb8a7d7\")>,\n",
       " <selenium.webdriver.remote.webelement.WebElement (session=\"fdbcabe4b08f68a65dce32e2dc9e31f3\", element=\"9cf5d466-9255-4be1-b693-444f4db4358a\")>,\n",
       " <selenium.webdriver.remote.webelement.WebElement (session=\"fdbcabe4b08f68a65dce32e2dc9e31f3\", element=\"a7b9733b-6725-4502-bd77-05cc9460a2b1\")>,\n",
       " <selenium.webdriver.remote.webelement.WebElement (session=\"fdbcabe4b08f68a65dce32e2dc9e31f3\", element=\"7c442dab-bace-4340-8cb7-1036ec189542\")>,\n",
       " <selenium.webdriver.remote.webelement.WebElement (session=\"fdbcabe4b08f68a65dce32e2dc9e31f3\", element=\"f0bdb791-8ea9-4ec5-a685-a1256c47230e\")>,\n",
       " <selenium.webdriver.remote.webelement.WebElement (session=\"fdbcabe4b08f68a65dce32e2dc9e31f3\", element=\"cdaac77e-1133-4508-a681-8ebd81171c70\")>,\n",
       " <selenium.webdriver.remote.webelement.WebElement (session=\"fdbcabe4b08f68a65dce32e2dc9e31f3\", element=\"46614d8e-304c-407c-89b7-18d722ea115e\")>,\n",
       " <selenium.webdriver.remote.webelement.WebElement (session=\"fdbcabe4b08f68a65dce32e2dc9e31f3\", element=\"74e74c88-5694-4714-a6c4-0090786d9bd1\")>,\n",
       " <selenium.webdriver.remote.webelement.WebElement (session=\"fdbcabe4b08f68a65dce32e2dc9e31f3\", element=\"416666fa-2c62-4c85-b7eb-b4a37a8dd74c\")>,\n",
       " <selenium.webdriver.remote.webelement.WebElement (session=\"fdbcabe4b08f68a65dce32e2dc9e31f3\", element=\"7be074fe-bb27-44b5-933e-f0f402518d53\")>,\n",
       " <selenium.webdriver.remote.webelement.WebElement (session=\"fdbcabe4b08f68a65dce32e2dc9e31f3\", element=\"8dc20127-0478-4adf-a72a-c7e5dfc3eaa9\")>,\n",
       " <selenium.webdriver.remote.webelement.WebElement (session=\"fdbcabe4b08f68a65dce32e2dc9e31f3\", element=\"5ed92fc7-c70b-45fb-9b95-382317f554d0\")>,\n",
       " <selenium.webdriver.remote.webelement.WebElement (session=\"fdbcabe4b08f68a65dce32e2dc9e31f3\", element=\"c169c3b6-a2b8-4a66-95ee-d29c4b352f25\")>,\n",
       " <selenium.webdriver.remote.webelement.WebElement (session=\"fdbcabe4b08f68a65dce32e2dc9e31f3\", element=\"f245f63d-0c76-4ab9-a89f-7bbeb9ed561f\")>,\n",
       " <selenium.webdriver.remote.webelement.WebElement (session=\"fdbcabe4b08f68a65dce32e2dc9e31f3\", element=\"8d911c84-3ef7-44ec-b6cb-8ab52f77b645\")>,\n",
       " <selenium.webdriver.remote.webelement.WebElement (session=\"fdbcabe4b08f68a65dce32e2dc9e31f3\", element=\"8f2256f8-edec-4f67-a49a-72222fdb22c1\")>,\n",
       " <selenium.webdriver.remote.webelement.WebElement (session=\"fdbcabe4b08f68a65dce32e2dc9e31f3\", element=\"b835215b-fc6a-4dc8-b374-96c2cf5146df\")>,\n",
       " <selenium.webdriver.remote.webelement.WebElement (session=\"fdbcabe4b08f68a65dce32e2dc9e31f3\", element=\"84816def-5434-4d01-8efb-93c90073f65d\")>,\n",
       " <selenium.webdriver.remote.webelement.WebElement (session=\"fdbcabe4b08f68a65dce32e2dc9e31f3\", element=\"beca9d0a-801c-48a4-8d1e-7bf4033b699a\")>,\n",
       " <selenium.webdriver.remote.webelement.WebElement (session=\"fdbcabe4b08f68a65dce32e2dc9e31f3\", element=\"5ec09b2e-528a-4390-9b4d-e6184a39b2ec\")>,\n",
       " <selenium.webdriver.remote.webelement.WebElement (session=\"fdbcabe4b08f68a65dce32e2dc9e31f3\", element=\"25e6d8fd-b60c-4af2-8e6d-3eafb3d41732\")>,\n",
       " <selenium.webdriver.remote.webelement.WebElement (session=\"fdbcabe4b08f68a65dce32e2dc9e31f3\", element=\"e6cb3553-a197-4e97-90b2-7c3d01cf303c\")>,\n",
       " <selenium.webdriver.remote.webelement.WebElement (session=\"fdbcabe4b08f68a65dce32e2dc9e31f3\", element=\"f3f8acef-2edb-47df-ab4f-b5956caab5a2\")>,\n",
       " <selenium.webdriver.remote.webelement.WebElement (session=\"fdbcabe4b08f68a65dce32e2dc9e31f3\", element=\"7541eac4-ef74-4ff5-839a-09f49928954d\")>,\n",
       " <selenium.webdriver.remote.webelement.WebElement (session=\"fdbcabe4b08f68a65dce32e2dc9e31f3\", element=\"53fcb7c7-7153-4110-a8a1-7c2b4ad3f30d\")>,\n",
       " <selenium.webdriver.remote.webelement.WebElement (session=\"fdbcabe4b08f68a65dce32e2dc9e31f3\", element=\"e5bd4f2f-a281-4b66-bf79-c0da9be2ff3c\")>,\n",
       " <selenium.webdriver.remote.webelement.WebElement (session=\"fdbcabe4b08f68a65dce32e2dc9e31f3\", element=\"ebe57028-41ce-4860-9ca4-148615b670ba\")>,\n",
       " <selenium.webdriver.remote.webelement.WebElement (session=\"fdbcabe4b08f68a65dce32e2dc9e31f3\", element=\"094df493-0ac5-4f73-9b70-98028bb09b71\")>,\n",
       " <selenium.webdriver.remote.webelement.WebElement (session=\"fdbcabe4b08f68a65dce32e2dc9e31f3\", element=\"2441050e-b68e-4840-a5e6-dd89f78e772c\")>,\n",
       " <selenium.webdriver.remote.webelement.WebElement (session=\"fdbcabe4b08f68a65dce32e2dc9e31f3\", element=\"03bee21a-75c1-4cc8-95fd-a81a9d673b2f\")>,\n",
       " <selenium.webdriver.remote.webelement.WebElement (session=\"fdbcabe4b08f68a65dce32e2dc9e31f3\", element=\"2b50d808-df8c-4de8-863f-982858c53146\")>,\n",
       " <selenium.webdriver.remote.webelement.WebElement (session=\"fdbcabe4b08f68a65dce32e2dc9e31f3\", element=\"c66121be-4677-465e-a98f-4bdf190d12d2\")>,\n",
       " <selenium.webdriver.remote.webelement.WebElement (session=\"fdbcabe4b08f68a65dce32e2dc9e31f3\", element=\"5196acda-e1f1-465f-9a04-09472dd427c7\")>,\n",
       " <selenium.webdriver.remote.webelement.WebElement (session=\"fdbcabe4b08f68a65dce32e2dc9e31f3\", element=\"e3e5d568-1245-4595-86e2-c6891d4c79d3\")>,\n",
       " <selenium.webdriver.remote.webelement.WebElement (session=\"fdbcabe4b08f68a65dce32e2dc9e31f3\", element=\"1b8f37a0-011c-44fb-8e4b-e8f35aa9dca0\")>,\n",
       " <selenium.webdriver.remote.webelement.WebElement (session=\"fdbcabe4b08f68a65dce32e2dc9e31f3\", element=\"4fa9650e-88f3-4d42-af1f-ed80e342e978\")>,\n",
       " <selenium.webdriver.remote.webelement.WebElement (session=\"fdbcabe4b08f68a65dce32e2dc9e31f3\", element=\"418d3006-349c-474a-bb03-bc62ad24a6ec\")>,\n",
       " <selenium.webdriver.remote.webelement.WebElement (session=\"fdbcabe4b08f68a65dce32e2dc9e31f3\", element=\"785f892a-6176-4c4b-ab65-dc42cab19d53\")>,\n",
       " <selenium.webdriver.remote.webelement.WebElement (session=\"fdbcabe4b08f68a65dce32e2dc9e31f3\", element=\"123c01cb-49b6-4175-aacb-d265b4d5f186\")>,\n",
       " <selenium.webdriver.remote.webelement.WebElement (session=\"fdbcabe4b08f68a65dce32e2dc9e31f3\", element=\"cdf9a4b6-6d3c-4cfd-98eb-f2abfd7e37a5\")>,\n",
       " <selenium.webdriver.remote.webelement.WebElement (session=\"fdbcabe4b08f68a65dce32e2dc9e31f3\", element=\"44246f1e-a33b-4a53-9609-a306367edbe4\")>,\n",
       " <selenium.webdriver.remote.webelement.WebElement (session=\"fdbcabe4b08f68a65dce32e2dc9e31f3\", element=\"185085c8-17b2-47e1-ac68-98f562f0a5d2\")>,\n",
       " <selenium.webdriver.remote.webelement.WebElement (session=\"fdbcabe4b08f68a65dce32e2dc9e31f3\", element=\"ebda19d2-5d38-4aef-b80e-633017471354\")>,\n",
       " <selenium.webdriver.remote.webelement.WebElement (session=\"fdbcabe4b08f68a65dce32e2dc9e31f3\", element=\"647e8217-946c-4f1e-b94b-6428f9f4c693\")>,\n",
       " <selenium.webdriver.remote.webelement.WebElement (session=\"fdbcabe4b08f68a65dce32e2dc9e31f3\", element=\"e3d4047e-c1bb-4eff-abc1-1afb874d5613\")>,\n",
       " <selenium.webdriver.remote.webelement.WebElement (session=\"fdbcabe4b08f68a65dce32e2dc9e31f3\", element=\"2d586586-8720-4679-914b-5bbe1a4ce79e\")>,\n",
       " <selenium.webdriver.remote.webelement.WebElement (session=\"fdbcabe4b08f68a65dce32e2dc9e31f3\", element=\"aa459efa-79fb-4b92-a2d0-cb7059b156aa\")>,\n",
       " <selenium.webdriver.remote.webelement.WebElement (session=\"fdbcabe4b08f68a65dce32e2dc9e31f3\", element=\"4ff75e98-ed8c-4cbc-a0f3-7cc0c84ac404\")>,\n",
       " <selenium.webdriver.remote.webelement.WebElement (session=\"fdbcabe4b08f68a65dce32e2dc9e31f3\", element=\"fc51c1a9-1378-4c3d-bdd3-98ce5fe4ea28\")>,\n",
       " <selenium.webdriver.remote.webelement.WebElement (session=\"fdbcabe4b08f68a65dce32e2dc9e31f3\", element=\"3fcd469d-4f27-40d1-aa78-2c34f7707cea\")>,\n",
       " <selenium.webdriver.remote.webelement.WebElement (session=\"fdbcabe4b08f68a65dce32e2dc9e31f3\", element=\"cec61265-e7c8-4d38-bfb7-3ec15b7bcc02\")>,\n",
       " <selenium.webdriver.remote.webelement.WebElement (session=\"fdbcabe4b08f68a65dce32e2dc9e31f3\", element=\"e176420f-2e64-4f3a-b794-bed77e7801a0\")>,\n",
       " <selenium.webdriver.remote.webelement.WebElement (session=\"fdbcabe4b08f68a65dce32e2dc9e31f3\", element=\"828731ba-8a12-4a1e-9988-515713d36a77\")>,\n",
       " <selenium.webdriver.remote.webelement.WebElement (session=\"fdbcabe4b08f68a65dce32e2dc9e31f3\", element=\"d6df2ec2-cf8e-4180-b7cb-9e7e0a94cb78\")>,\n",
       " <selenium.webdriver.remote.webelement.WebElement (session=\"fdbcabe4b08f68a65dce32e2dc9e31f3\", element=\"8dba794f-db3a-492d-b04a-dd4a8a1001ed\")>,\n",
       " <selenium.webdriver.remote.webelement.WebElement (session=\"fdbcabe4b08f68a65dce32e2dc9e31f3\", element=\"2451f8f8-127e-49b4-819c-cb25322073e1\")>,\n",
       " <selenium.webdriver.remote.webelement.WebElement (session=\"fdbcabe4b08f68a65dce32e2dc9e31f3\", element=\"5929b653-fdbd-4d4c-af3f-949fab53be38\")>,\n",
       " <selenium.webdriver.remote.webelement.WebElement (session=\"fdbcabe4b08f68a65dce32e2dc9e31f3\", element=\"3be3cb15-58dd-4386-8aef-51a316eecd31\")>,\n",
       " <selenium.webdriver.remote.webelement.WebElement (session=\"fdbcabe4b08f68a65dce32e2dc9e31f3\", element=\"d391e667-4b4c-4a62-9eac-cb82d48e0892\")>,\n",
       " <selenium.webdriver.remote.webelement.WebElement (session=\"fdbcabe4b08f68a65dce32e2dc9e31f3\", element=\"ab622d13-2d62-46d5-a70a-55332489ddf8\")>,\n",
       " <selenium.webdriver.remote.webelement.WebElement (session=\"fdbcabe4b08f68a65dce32e2dc9e31f3\", element=\"ffa7701e-c189-4b43-bbd3-b41c38cffb90\")>,\n",
       " <selenium.webdriver.remote.webelement.WebElement (session=\"fdbcabe4b08f68a65dce32e2dc9e31f3\", element=\"909db573-a1f7-47d7-be25-753b8e576826\")>,\n",
       " <selenium.webdriver.remote.webelement.WebElement (session=\"fdbcabe4b08f68a65dce32e2dc9e31f3\", element=\"9188959d-634b-4e40-a854-2eba16095237\")>,\n",
       " <selenium.webdriver.remote.webelement.WebElement (session=\"fdbcabe4b08f68a65dce32e2dc9e31f3\", element=\"a6b0ad7b-442f-44c7-8f79-60d379cc7f0e\")>,\n",
       " <selenium.webdriver.remote.webelement.WebElement (session=\"fdbcabe4b08f68a65dce32e2dc9e31f3\", element=\"37b505fc-e845-44b6-93c2-b57574d027c3\")>,\n",
       " <selenium.webdriver.remote.webelement.WebElement (session=\"fdbcabe4b08f68a65dce32e2dc9e31f3\", element=\"325a20f3-32dc-4f65-b33b-f7e1e764a98f\")>,\n",
       " <selenium.webdriver.remote.webelement.WebElement (session=\"fdbcabe4b08f68a65dce32e2dc9e31f3\", element=\"28dd120f-b579-4ef7-ba58-b89e4b252855\")>,\n",
       " <selenium.webdriver.remote.webelement.WebElement (session=\"fdbcabe4b08f68a65dce32e2dc9e31f3\", element=\"7429d526-8445-4fcd-a2a3-eb080e001a76\")>,\n",
       " <selenium.webdriver.remote.webelement.WebElement (session=\"fdbcabe4b08f68a65dce32e2dc9e31f3\", element=\"b1da9b9a-bfe2-4f8b-ac7e-34efbdc06008\")>,\n",
       " <selenium.webdriver.remote.webelement.WebElement (session=\"fdbcabe4b08f68a65dce32e2dc9e31f3\", element=\"c6b3fe7a-82f8-44bf-aa5c-6147da338e2b\")>,\n",
       " <selenium.webdriver.remote.webelement.WebElement (session=\"fdbcabe4b08f68a65dce32e2dc9e31f3\", element=\"87ddc2b1-b028-404d-82d6-af8538843168\")>,\n",
       " <selenium.webdriver.remote.webelement.WebElement (session=\"fdbcabe4b08f68a65dce32e2dc9e31f3\", element=\"0fabd97b-d272-4fa4-ade1-7c023f630f32\")>,\n",
       " <selenium.webdriver.remote.webelement.WebElement (session=\"fdbcabe4b08f68a65dce32e2dc9e31f3\", element=\"d8efc729-3238-41fd-b05a-0d35aae70b0a\")>,\n",
       " <selenium.webdriver.remote.webelement.WebElement (session=\"fdbcabe4b08f68a65dce32e2dc9e31f3\", element=\"a311d08b-909d-4322-80d7-e84d244c19aa\")>,\n",
       " <selenium.webdriver.remote.webelement.WebElement (session=\"fdbcabe4b08f68a65dce32e2dc9e31f3\", element=\"d50e566e-56ef-47e5-a36b-bfd5a5c4121d\")>,\n",
       " <selenium.webdriver.remote.webelement.WebElement (session=\"fdbcabe4b08f68a65dce32e2dc9e31f3\", element=\"c4e1e2e1-c19f-47cd-9037-cbeb5d765c31\")>,\n",
       " <selenium.webdriver.remote.webelement.WebElement (session=\"fdbcabe4b08f68a65dce32e2dc9e31f3\", element=\"610e302c-c928-403d-bfdb-008c3ba89176\")>,\n",
       " <selenium.webdriver.remote.webelement.WebElement (session=\"fdbcabe4b08f68a65dce32e2dc9e31f3\", element=\"5ccd51e3-3e58-402d-b63f-7c6066c3ecbc\")>,\n",
       " <selenium.webdriver.remote.webelement.WebElement (session=\"fdbcabe4b08f68a65dce32e2dc9e31f3\", element=\"cc48a185-e952-4245-b48c-0782043e1574\")>,\n",
       " <selenium.webdriver.remote.webelement.WebElement (session=\"fdbcabe4b08f68a65dce32e2dc9e31f3\", element=\"416248cc-876f-42bd-b566-0c888adb8d5c\")>,\n",
       " <selenium.webdriver.remote.webelement.WebElement (session=\"fdbcabe4b08f68a65dce32e2dc9e31f3\", element=\"2db072d7-dfaf-44c4-bbba-695774b2a0b4\")>,\n",
       " <selenium.webdriver.remote.webelement.WebElement (session=\"fdbcabe4b08f68a65dce32e2dc9e31f3\", element=\"a7f1ebe9-127c-4030-93ce-38a6e1a5469e\")>,\n",
       " <selenium.webdriver.remote.webelement.WebElement (session=\"fdbcabe4b08f68a65dce32e2dc9e31f3\", element=\"e7c36320-2f87-4ec3-8906-4c1631769767\")>,\n",
       " <selenium.webdriver.remote.webelement.WebElement (session=\"fdbcabe4b08f68a65dce32e2dc9e31f3\", element=\"f8f4dc5d-f52e-4ca3-a47c-9cdfe3ea65bf\")>,\n",
       " <selenium.webdriver.remote.webelement.WebElement (session=\"fdbcabe4b08f68a65dce32e2dc9e31f3\", element=\"ae3595d6-c2c5-4a1b-a5e3-8eec2bf60c8f\")>,\n",
       " <selenium.webdriver.remote.webelement.WebElement (session=\"fdbcabe4b08f68a65dce32e2dc9e31f3\", element=\"5c95e3be-6da4-4a5f-b767-f9c578b5a3b3\")>,\n",
       " <selenium.webdriver.remote.webelement.WebElement (session=\"fdbcabe4b08f68a65dce32e2dc9e31f3\", element=\"c41fb2ce-e6da-45aa-a177-f09d707c26b1\")>,\n",
       " <selenium.webdriver.remote.webelement.WebElement (session=\"fdbcabe4b08f68a65dce32e2dc9e31f3\", element=\"4110edaa-3ac3-4866-8320-c3722239776e\")>,\n",
       " <selenium.webdriver.remote.webelement.WebElement (session=\"fdbcabe4b08f68a65dce32e2dc9e31f3\", element=\"0eaf9710-1b0d-4b9b-89db-fe2555495abd\")>,\n",
       " <selenium.webdriver.remote.webelement.WebElement (session=\"fdbcabe4b08f68a65dce32e2dc9e31f3\", element=\"785ccfa4-62cd-402e-8e02-6ccf327372d0\")>,\n",
       " <selenium.webdriver.remote.webelement.WebElement (session=\"fdbcabe4b08f68a65dce32e2dc9e31f3\", element=\"2cc896f1-18ed-49c3-b12b-c5a8f02ca2c2\")>,\n",
       " <selenium.webdriver.remote.webelement.WebElement (session=\"fdbcabe4b08f68a65dce32e2dc9e31f3\", element=\"9949a1b2-a5f9-490a-93dd-3629044fd292\")>,\n",
       " <selenium.webdriver.remote.webelement.WebElement (session=\"fdbcabe4b08f68a65dce32e2dc9e31f3\", element=\"6c7a1370-d2b4-4c4a-bb48-005308a0dae3\")>,\n",
       " <selenium.webdriver.remote.webelement.WebElement (session=\"fdbcabe4b08f68a65dce32e2dc9e31f3\", element=\"a61d4e81-7bda-413e-983d-03b898b6c3e8\")>,\n",
       " <selenium.webdriver.remote.webelement.WebElement (session=\"fdbcabe4b08f68a65dce32e2dc9e31f3\", element=\"b1a3e2ea-6897-440f-9e9f-773ad817dd4b\")>,\n",
       " <selenium.webdriver.remote.webelement.WebElement (session=\"fdbcabe4b08f68a65dce32e2dc9e31f3\", element=\"726922b8-a6c3-4b11-b5eb-bd5b46747336\")>,\n",
       " <selenium.webdriver.remote.webelement.WebElement (session=\"fdbcabe4b08f68a65dce32e2dc9e31f3\", element=\"09c92af6-792e-4a6f-866b-6074e4250f88\")>,\n",
       " <selenium.webdriver.remote.webelement.WebElement (session=\"fdbcabe4b08f68a65dce32e2dc9e31f3\", element=\"689b07a3-f7c5-4d91-9d1d-e731a7fa19ae\")>,\n",
       " <selenium.webdriver.remote.webelement.WebElement (session=\"fdbcabe4b08f68a65dce32e2dc9e31f3\", element=\"be1b06aa-096f-4069-aff9-3c66fb6ca683\")>,\n",
       " <selenium.webdriver.remote.webelement.WebElement (session=\"fdbcabe4b08f68a65dce32e2dc9e31f3\", element=\"8fb5a21b-cee7-421b-934f-468f8a9df24d\")>,\n",
       " <selenium.webdriver.remote.webelement.WebElement (session=\"fdbcabe4b08f68a65dce32e2dc9e31f3\", element=\"3cc3d3c4-c81d-4b6d-b8f9-9af135a87f49\")>,\n",
       " <selenium.webdriver.remote.webelement.WebElement (session=\"fdbcabe4b08f68a65dce32e2dc9e31f3\", element=\"d972b238-8381-47d7-8d34-db4474a28986\")>,\n",
       " <selenium.webdriver.remote.webelement.WebElement (session=\"fdbcabe4b08f68a65dce32e2dc9e31f3\", element=\"132add67-1995-4a3a-a687-39e425675eb9\")>,\n",
       " <selenium.webdriver.remote.webelement.WebElement (session=\"fdbcabe4b08f68a65dce32e2dc9e31f3\", element=\"312fa3db-10cf-4490-84cc-230beed60f60\")>,\n",
       " <selenium.webdriver.remote.webelement.WebElement (session=\"fdbcabe4b08f68a65dce32e2dc9e31f3\", element=\"b52971da-ccaa-4886-bf92-3dbd9da70be9\")>,\n",
       " <selenium.webdriver.remote.webelement.WebElement (session=\"fdbcabe4b08f68a65dce32e2dc9e31f3\", element=\"a3c419bc-d213-4623-8a18-d6d617402a66\")>,\n",
       " <selenium.webdriver.remote.webelement.WebElement (session=\"fdbcabe4b08f68a65dce32e2dc9e31f3\", element=\"266bf11e-d0e2-4a41-919f-6cdac94f742c\")>,\n",
       " <selenium.webdriver.remote.webelement.WebElement (session=\"fdbcabe4b08f68a65dce32e2dc9e31f3\", element=\"25687c9f-cf9c-447d-a763-ba31c6bca35e\")>,\n",
       " <selenium.webdriver.remote.webelement.WebElement (session=\"fdbcabe4b08f68a65dce32e2dc9e31f3\", element=\"cddb1027-91f7-4955-91bc-b98e22fe514e\")>,\n",
       " <selenium.webdriver.remote.webelement.WebElement (session=\"fdbcabe4b08f68a65dce32e2dc9e31f3\", element=\"b3a3a754-731f-4b0b-9a55-396b204fd350\")>,\n",
       " <selenium.webdriver.remote.webelement.WebElement (session=\"fdbcabe4b08f68a65dce32e2dc9e31f3\", element=\"9bdf8d89-5f7e-4757-ad7d-f313f1a8650b\")>,\n",
       " <selenium.webdriver.remote.webelement.WebElement (session=\"fdbcabe4b08f68a65dce32e2dc9e31f3\", element=\"1ff26c49-bd53-494d-a5c7-6e1653a8ee5d\")>,\n",
       " <selenium.webdriver.remote.webelement.WebElement (session=\"fdbcabe4b08f68a65dce32e2dc9e31f3\", element=\"42ed2f79-436b-4ec8-a274-e354a255b7a8\")>,\n",
       " <selenium.webdriver.remote.webelement.WebElement (session=\"fdbcabe4b08f68a65dce32e2dc9e31f3\", element=\"e4570cc4-3aa6-4b56-8321-1ce65b78eaff\")>,\n",
       " <selenium.webdriver.remote.webelement.WebElement (session=\"fdbcabe4b08f68a65dce32e2dc9e31f3\", element=\"8c49b814-164b-430c-8992-e81ef0763ce7\")>,\n",
       " <selenium.webdriver.remote.webelement.WebElement (session=\"fdbcabe4b08f68a65dce32e2dc9e31f3\", element=\"051816a6-f88c-4cd1-8e52-80145a5ad7b9\")>,\n",
       " <selenium.webdriver.remote.webelement.WebElement (session=\"fdbcabe4b08f68a65dce32e2dc9e31f3\", element=\"029bb580-f09e-4db2-9444-49018970f474\")>,\n",
       " <selenium.webdriver.remote.webelement.WebElement (session=\"fdbcabe4b08f68a65dce32e2dc9e31f3\", element=\"acb38f2d-09bb-4702-b224-870f93a67c8b\")>,\n",
       " <selenium.webdriver.remote.webelement.WebElement (session=\"fdbcabe4b08f68a65dce32e2dc9e31f3\", element=\"49592532-78d5-4222-b60c-6caf66855d79\")>,\n",
       " <selenium.webdriver.remote.webelement.WebElement (session=\"fdbcabe4b08f68a65dce32e2dc9e31f3\", element=\"88d8d017-4a94-4f7e-97f6-b54e5d1210a0\")>,\n",
       " <selenium.webdriver.remote.webelement.WebElement (session=\"fdbcabe4b08f68a65dce32e2dc9e31f3\", element=\"05d64212-2107-42ee-8b24-1adc04d07ccf\")>,\n",
       " <selenium.webdriver.remote.webelement.WebElement (session=\"fdbcabe4b08f68a65dce32e2dc9e31f3\", element=\"8290ee3f-a223-4892-b577-44055450d27f\")>,\n",
       " <selenium.webdriver.remote.webelement.WebElement (session=\"fdbcabe4b08f68a65dce32e2dc9e31f3\", element=\"ef4f205d-42b8-4847-bb16-2f287a44103a\")>,\n",
       " <selenium.webdriver.remote.webelement.WebElement (session=\"fdbcabe4b08f68a65dce32e2dc9e31f3\", element=\"21bf0c66-c124-4cc9-825d-defa85966a6d\")>,\n",
       " <selenium.webdriver.remote.webelement.WebElement (session=\"fdbcabe4b08f68a65dce32e2dc9e31f3\", element=\"c3674c33-73ff-485b-a7b7-a67afd8c6798\")>,\n",
       " <selenium.webdriver.remote.webelement.WebElement (session=\"fdbcabe4b08f68a65dce32e2dc9e31f3\", element=\"8d9d1592-2c41-493a-a088-0a0b50771859\")>,\n",
       " <selenium.webdriver.remote.webelement.WebElement (session=\"fdbcabe4b08f68a65dce32e2dc9e31f3\", element=\"f1be4b5c-9563-4662-aead-b9c975cfb1f8\")>,\n",
       " <selenium.webdriver.remote.webelement.WebElement (session=\"fdbcabe4b08f68a65dce32e2dc9e31f3\", element=\"b52a7d0c-ed01-476d-a917-84bda016defb\")>]"
      ]
     },
     "execution_count": 42,
     "metadata": {},
     "output_type": "execute_result"
    }
   ],
   "source": [
    "products"
   ]
  }
 ],
 "metadata": {
  "kernelspec": {
   "display_name": "Python 3.10.4 ('Data_Collection_AiC')",
   "language": "python",
   "name": "python3"
  },
  "language_info": {
   "codemirror_mode": {
    "name": "ipython",
    "version": 3
   },
   "file_extension": ".py",
   "mimetype": "text/x-python",
   "name": "python",
   "nbconvert_exporter": "python",
   "pygments_lexer": "ipython3",
   "version": "3.10.4"
  },
  "orig_nbformat": 4,
  "vscode": {
   "interpreter": {
    "hash": "53ec01ca0f0aec13aedb9a7a504d27dddcf537b0c3fda53760a67f820ca51f3f"
   }
  }
 },
 "nbformat": 4,
 "nbformat_minor": 2
}
