{
 "cells": [
  {
   "cell_type": "code",
   "execution_count": 2,
   "metadata": {},
   "outputs": [
    {
     "name": "stdout",
     "output_type": "stream",
     "text": [
      "Requirement already satisfied: webdriver-manager in c:\\users\\44772\\miniconda3\\envs\\data_collection_aic\\lib\\site-packages (3.8.2)\n",
      "Requirement already satisfied: python-dotenv in c:\\users\\44772\\miniconda3\\envs\\data_collection_aic\\lib\\site-packages (from webdriver-manager) (0.20.0)\n",
      "Requirement already satisfied: requests in c:\\users\\44772\\miniconda3\\envs\\data_collection_aic\\lib\\site-packages (from webdriver-manager) (2.28.1)\n",
      "Requirement already satisfied: charset-normalizer<3,>=2 in c:\\users\\44772\\miniconda3\\envs\\data_collection_aic\\lib\\site-packages (from requests->webdriver-manager) (2.1.0)\n",
      "Requirement already satisfied: certifi>=2017.4.17 in c:\\users\\44772\\miniconda3\\envs\\data_collection_aic\\lib\\site-packages (from requests->webdriver-manager) (2022.6.15)\n",
      "Requirement already satisfied: idna<4,>=2.5 in c:\\users\\44772\\miniconda3\\envs\\data_collection_aic\\lib\\site-packages (from requests->webdriver-manager) (3.3)\n",
      "Requirement already satisfied: urllib3<1.27,>=1.21.1 in c:\\users\\44772\\miniconda3\\envs\\data_collection_aic\\lib\\site-packages (from requests->webdriver-manager) (1.26.10)\n",
      "\n"
     ]
    },
    {
     "name": "stderr",
     "output_type": "stream",
     "text": [
      "C:\\Users\\44772\\AppData\\Local\\Temp\\ipykernel_7820\\1722348033.py:7: DeprecationWarning: executable_path has been deprecated, please pass in a Service object\n",
      "  driver=Chrome(ChromeDriverManager().install())\n"
     ]
    },
    {
     "name": "stdout",
     "output_type": "stream",
     "text": [
      "Requirement already satisfied: webdriver-manager in c:\\users\\44772\\miniconda3\\envs\\data_collection_aic\\lib\\site-packages (3.8.2)\n",
      "Requirement already satisfied: requests in c:\\users\\44772\\miniconda3\\envs\\data_collection_aic\\lib\\site-packages (from webdriver-manager) (2.28.1)\n",
      "Requirement already satisfied: python-dotenv in c:\\users\\44772\\miniconda3\\envs\\data_collection_aic\\lib\\site-packages (from webdriver-manager) (0.20.0)\n",
      "Requirement already satisfied: certifi>=2017.4.17 in c:\\users\\44772\\miniconda3\\envs\\data_collection_aic\\lib\\site-packages (from requests->webdriver-manager) (2022.6.15)\n",
      "Requirement already satisfied: idna<4,>=2.5 in c:\\users\\44772\\miniconda3\\envs\\data_collection_aic\\lib\\site-packages (from requests->webdriver-manager) (3.3)\n",
      "Requirement already satisfied: charset-normalizer<3,>=2 in c:\\users\\44772\\miniconda3\\envs\\data_collection_aic\\lib\\site-packages (from requests->webdriver-manager) (2.1.0)\n",
      "Requirement already satisfied: urllib3<1.27,>=1.21.1 in c:\\users\\44772\\miniconda3\\envs\\data_collection_aic\\lib\\site-packages (from requests->webdriver-manager) (1.26.10)\n",
      "\n"
     ]
    },
    {
     "name": "stderr",
     "output_type": "stream",
     "text": [
      "C:\\Users\\44772\\AppData\\Local\\Temp\\ipykernel_7820\\1722348033.py:29: DeprecationWarning: executable_path has been deprecated, please pass in a Service object\n",
      "  driver=Chrome(ChromeDriverManager().install())\n"
     ]
    }
   ],
   "source": [
    "import requests\n",
    "import selenium\n",
    "from selenium.webdriver import Chrome\n",
    "!pip install webdriver-manager\n",
    "from webdriver_manager.chrome import ChromeDriverManager\n",
    "from selenium.webdriver.common.by import By\n",
    "driver=Chrome(ChromeDriverManager().install())\n",
    "from selenium import webdriver\n",
    "from selenium.webdriver.common.by import By\n",
    "import time\n",
    "from multiprocessing.sharedctypes import Value\n",
    "from selenium import webdriver\n",
    "import uuid\n",
    "from selenium.webdriver.support.ui import WebDriverWait\n",
    "from selenium.webdriver.support import expected_conditions as EC\n",
    "from selenium.webdriver.common.by import By\n",
    "from selenium.webdriver.common.keys import Keys\n",
    "import time\n",
    "import os\n",
    "import shutil\n",
    "import urllib.request\n",
    "import json\n",
    "import requests\n",
    "import selenium\n",
    "from selenium.webdriver import Chrome\n",
    "!pip install webdriver-manager\n",
    "from webdriver_manager.chrome import ChromeDriverManager\n",
    "from selenium.webdriver.common.by import By\n",
    "driver=Chrome(ChromeDriverManager().install())\n",
    "from selenium import webdriver\n",
    "from selenium.webdriver.common.by import By\n",
    "import time\n"
   ]
  },
  {
   "cell_type": "code",
   "execution_count": null,
   "metadata": {},
   "outputs": [],
   "source": [
    "from selenium.webdriver.support.ui import WebDriverWait"
   ]
  },
  {
   "cell_type": "code",
   "execution_count": 4,
   "metadata": {},
   "outputs": [],
   "source": [
    "from multiprocessing.sharedctypes import Value\n",
    "## error occur here!\n",
    "\n",
    "driver = webdriver.Chrome() \n",
    "URL = \"https://www.ocado.com/browse/fresh-chilled-food-20002/meat-poultry-42114\"\n",
    "driver.get(URL)\n",
    "cookies_button=driver.find_element(by=By.XPATH,value='//*[@id=\"onetrust-accept-btn-handler\"]')\n",
    "cookies_button.click()\n",
    "time.sleep(2)\n",
    "product_link_list=[]\n",
    "product_container=driver.find_element(by=By.XPATH,value='//*[@id=\"main-content\"]/div[2]/div[2]/ul')\n",
    "product_list=product_container.find_elements(by=By.XPATH,value='./li')\n",
    "food=product_container.find_elements(by=By.XPATH,value='./li')[0]\n",
    "food.click()\n",
    "driver.implicitly_wait(3)\n",
    "a=driver.find_element(by=By.XPATH,value='//img[@role=\"presentation\"]')\n",
    "b=a.get_attribute('src')\n",
    "\n",
    "\n",
    "#driver.close()\n"
   ]
  },
  {
   "cell_type": "code",
   "execution_count": 6,
   "metadata": {},
   "outputs": [
    {
     "data": {
      "text/plain": [
       "'/productImages/574/57453011_0_640x640.jpg?identifier=e6138629ff9b896a0dcb2beab9690862'"
      ]
     },
     "execution_count": 6,
     "metadata": {},
     "output_type": "execute_result"
    }
   ],
   "source": [
    "b"
   ]
  },
  {
   "cell_type": "markdown",
   "metadata": {},
   "source": []
  },
  {
   "cell_type": "code",
   "execution_count": null,
   "metadata": {},
   "outputs": [],
   "source": [
    "from selenium import webdriver\n",
    "from selenium.webdriver.common.by import By\n",
    "import time\n",
    "\n",
    "driver = webdriver.Chrome() \n",
    "URL = \"https://www.ocado.com/browse/fresh-chilled-food-20002/meat-poultry-42114\"\n",
    "driver.get(URL)\n",
    "cookies_button=driver.find_element(by=By.XPATH,value='//*[@id=\"onetrust-accept-btn-handler\"]')\n",
    "cookies_button.click()\n",
    "time.sleep(2)\n",
    "product_information_container=driver.find_element(by=By.XPATH,value='//*[@id=\"main-content\"]/div[2]/div[2]/ul')"
   ]
  },
  {
   "cell_type": "code",
   "execution_count": null,
   "metadata": {},
   "outputs": [],
   "source": [
    "driver = webdriver.Chrome() \n",
    "URL = \"https://www.ocado.com/browse/fresh-chilled-food-20002/meat-poultry-42114\"\n",
    "driver.get(URL)\n",
    "cookies_button=driver.find_element(by=By.XPATH,value='//*[@id=\"onetrust-accept-btn-handler\"]')\n",
    "cookies_button.click()\n",
    "time.sleep(2)\n",
    "product_container=driver.find_element(by=By.XPATH,value='//*[@id=\"main-content\"]/div[2]/div[2]/ul')\n",
    "product_list=product_container.find_elements(by=By.XPATH,value='./li')\n",
    "num_list=len(product_list)\n",
    "data={\"Product_name\":[],\"weight\":[],\"price\":[],\"Description\":[]}\n",
    "for i in range(num_list):\n",
    "    product_container=driver.find_element(by=By.XPATH,value='//*[@id=\"main-content\"]/div[2]/div[2]/ul')\n",
    "    food=product_container.find_elements(by=By.XPATH,value='./li')[i]\n",
    "    food.click()\n",
    "    time.sleep(5)\n",
    "    driver.back()\n",
    "    time.sleep(2)\n",
    "\n",
    "\n",
    "\n",
    "\n"
   ]
  },
  {
   "cell_type": "code",
   "execution_count": null,
   "metadata": {},
   "outputs": [],
   "source": []
  },
  {
   "cell_type": "code",
   "execution_count": 10,
   "metadata": {},
   "outputs": [],
   "source": [
    "from multiprocessing.sharedctypes import Value\n",
    "## error occur here!\n",
    "\n",
    "driver = webdriver.Chrome() \n",
    "URL = \"https://www.ocado.com/browse/fresh-chilled-food-20002/meat-poultry-42114\"\n",
    "driver.get(URL)\n",
    "cookies_button=driver.find_element(by=By.XPATH,value='//*[@id=\"onetrust-accept-btn-handler\"]')\n",
    "cookies_button.click()\n",
    "time.sleep(2)\n",
    "product_link_list=[]\n",
    "product_container=driver.find_element(by=By.XPATH,value='//*[@id=\"main-content\"]/div[2]/div[2]/ul')\n",
    "product_list=product_container.find_elements(by=By.XPATH,value='./li')\n",
    "food=product_container.find_elements(by=By.XPATH,value='./li')[0]\n",
    "food.click()\n",
    "time.sleep(1)\n",
    "a=driver.find_element(by=By.CLASS_NAME ,value=\"bop-title\")\n",
    "b=a.find_element(by=By.XPATH,value='.//span[@class=\"bop-catchWeight\"]').text\n",
    "\n",
    "time.sleep(1)\n",
    "driver.back()\n",
    "\n",
    "\n",
    "\n"
   ]
  },
  {
   "cell_type": "code",
   "execution_count": null,
   "metadata": {},
   "outputs": [],
   "source": [
    "from multiprocessing.sharedctypes import Value\n",
    "from selenium import webdriver\n",
    "import uuid\n",
    "from selenium.webdriver.support.ui import WebDriverWait\n",
    "from selenium.webdriver.support import expected_conditions as EC\n",
    "from selenium.webdriver.common.by import By\n",
    "from selenium.webdriver.common.keys import Keys\n",
    "import time\n",
    "import os\n",
    "import shutil\n",
    "import urllib.request\n",
    "import json\n",
    "import requests\n",
    "import selenium\n",
    "from selenium.webdriver import Chrome\n",
    "!pip install webdriver-manager\n",
    "from webdriver_manager.chrome import ChromeDriverManager\n",
    "from selenium.webdriver.common.by import By\n",
    "driver=Chrome(ChromeDriverManager().install())\n",
    "from selenium import webdriver\n",
    "from selenium.webdriver.common.by import By\n",
    "import time"
   ]
  },
  {
   "cell_type": "code",
   "execution_count": 11,
   "metadata": {},
   "outputs": [
    {
     "data": {
      "text/plain": [
       "'650g'"
      ]
     },
     "execution_count": 11,
     "metadata": {},
     "output_type": "execute_result"
    }
   ],
   "source": [
    "b"
   ]
  },
  {
   "cell_type": "code",
   "execution_count": null,
   "metadata": {},
   "outputs": [],
   "source": [
    "for product in product_list:\n",
    "    tag=product.find_element(By.TAG_NAME,'a')\n",
    "    link=tag.get_attribute('href')\n",
    "    product_link_list.append(product_list)\n",
    "    time.sleep(2)\n",
    "num_list=len(product_list)"
   ]
  },
  {
   "cell_type": "code",
   "execution_count": null,
   "metadata": {},
   "outputs": [],
   "source": [
    "\n",
    "time.sleep(2)\n",
    "\n",
    "product_list=product_information_container.find_elements(by=By.XPATH,value='./div')\n",
    "product_list\n",
    "\n"
   ]
  },
  {
   "cell_type": "code",
   "execution_count": null,
   "metadata": {},
   "outputs": [],
   "source": [
    "len(product_list)"
   ]
  },
  {
   "cell_type": "code",
   "execution_count": null,
   "metadata": {},
   "outputs": [],
   "source": [
    "link"
   ]
  },
  {
   "cell_type": "code",
   "execution_count": null,
   "metadata": {},
   "outputs": [],
   "source": []
  },
  {
   "cell_type": "code",
   "execution_count": null,
   "metadata": {},
   "outputs": [],
   "source": []
  },
  {
   "cell_type": "code",
   "execution_count": null,
   "metadata": {},
   "outputs": [],
   "source": []
  },
  {
   "cell_type": "code",
   "execution_count": null,
   "metadata": {},
   "outputs": [],
   "source": []
  },
  {
   "cell_type": "code",
   "execution_count": null,
   "metadata": {},
   "outputs": [],
   "source": []
  },
  {
   "cell_type": "code",
   "execution_count": null,
   "metadata": {},
   "outputs": [],
   "source": []
  },
  {
   "cell_type": "code",
   "execution_count": null,
   "metadata": {},
   "outputs": [],
   "source": []
  },
  {
   "cell_type": "code",
   "execution_count": null,
   "metadata": {},
   "outputs": [],
   "source": []
  }
 ],
 "metadata": {
  "kernelspec": {
   "display_name": "Python 3.10.4 ('Data_Collection_AiC')",
   "language": "python",
   "name": "python3"
  },
  "language_info": {
   "codemirror_mode": {
    "name": "ipython",
    "version": 3
   },
   "file_extension": ".py",
   "mimetype": "text/x-python",
   "name": "python",
   "nbconvert_exporter": "python",
   "pygments_lexer": "ipython3",
   "version": "3.10.4"
  },
  "orig_nbformat": 4,
  "vscode": {
   "interpreter": {
    "hash": "53ec01ca0f0aec13aedb9a7a504d27dddcf537b0c3fda53760a67f820ca51f3f"
   }
  }
 },
 "nbformat": 4,
 "nbformat_minor": 2
}
