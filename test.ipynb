{
 "cells": [
  {
   "cell_type": "code",
   "execution_count": 1,
   "metadata": {},
   "outputs": [
    {
     "name": "stdout",
     "output_type": "stream",
     "text": [
      "Requirement already satisfied: webdriver-manager in c:\\users\\44772\\miniconda3\\envs\\data_collection_aic\\lib\\site-packages (3.8.2)\n",
      "Requirement already satisfied: python-dotenv in c:\\users\\44772\\miniconda3\\envs\\data_collection_aic\\lib\\site-packages (from webdriver-manager) (0.20.0)\n",
      "Requirement already satisfied: requests in c:\\users\\44772\\miniconda3\\envs\\data_collection_aic\\lib\\site-packages (from webdriver-manager) (2.28.1)\n",
      "Requirement already satisfied: charset-normalizer<3,>=2 in c:\\users\\44772\\miniconda3\\envs\\data_collection_aic\\lib\\site-packages (from requests->webdriver-manager) (2.1.0)\n",
      "Requirement already satisfied: urllib3<1.27,>=1.21.1 in c:\\users\\44772\\miniconda3\\envs\\data_collection_aic\\lib\\site-packages (from requests->webdriver-manager) (1.26.10)\n",
      "Requirement already satisfied: idna<4,>=2.5 in c:\\users\\44772\\miniconda3\\envs\\data_collection_aic\\lib\\site-packages (from requests->webdriver-manager) (3.3)\n",
      "Requirement already satisfied: certifi>=2017.4.17 in c:\\users\\44772\\miniconda3\\envs\\data_collection_aic\\lib\\site-packages (from requests->webdriver-manager) (2022.6.15)\n",
      "\n"
     ]
    },
    {
     "name": "stderr",
     "output_type": "stream",
     "text": [
      "C:\\Users\\44772\\AppData\\Local\\Temp\\ipykernel_20584\\1722348033.py:7: DeprecationWarning: executable_path has been deprecated, please pass in a Service object\n",
      "  driver=Chrome(ChromeDriverManager().install())\n"
     ]
    },
    {
     "name": "stdout",
     "output_type": "stream",
     "text": [
      "Requirement already satisfied: webdriver-manager in c:\\users\\44772\\miniconda3\\envs\\data_collection_aic\\lib\\site-packages (3.8.2)\n",
      "Requirement already satisfied: python-dotenv in c:\\users\\44772\\miniconda3\\envs\\data_collection_aic\\lib\\site-packages (from webdriver-manager) (0.20.0)\n",
      "Requirement already satisfied: requests in c:\\users\\44772\\miniconda3\\envs\\data_collection_aic\\lib\\site-packages (from webdriver-manager) (2.28.1)\n",
      "Requirement already satisfied: charset-normalizer<3,>=2 in c:\\users\\44772\\miniconda3\\envs\\data_collection_aic\\lib\\site-packages (from requests->webdriver-manager) (2.1.0)\n",
      "Requirement already satisfied: certifi>=2017.4.17 in c:\\users\\44772\\miniconda3\\envs\\data_collection_aic\\lib\\site-packages (from requests->webdriver-manager) (2022.6.15)\n",
      "Requirement already satisfied: urllib3<1.27,>=1.21.1 in c:\\users\\44772\\miniconda3\\envs\\data_collection_aic\\lib\\site-packages (from requests->webdriver-manager) (1.26.10)\n",
      "Requirement already satisfied: idna<4,>=2.5 in c:\\users\\44772\\miniconda3\\envs\\data_collection_aic\\lib\\site-packages (from requests->webdriver-manager) (3.3)\n",
      "\n"
     ]
    },
    {
     "name": "stderr",
     "output_type": "stream",
     "text": [
      "C:\\Users\\44772\\AppData\\Local\\Temp\\ipykernel_20584\\1722348033.py:29: DeprecationWarning: executable_path has been deprecated, please pass in a Service object\n",
      "  driver=Chrome(ChromeDriverManager().install())\n"
     ]
    }
   ],
   "source": [
    "import requests\n",
    "import selenium\n",
    "from selenium.webdriver import Chrome\n",
    "!pip install webdriver-manager\n",
    "from webdriver_manager.chrome import ChromeDriverManager\n",
    "from selenium.webdriver.common.by import By\n",
    "driver=Chrome(ChromeDriverManager().install())\n",
    "from selenium import webdriver\n",
    "from selenium.webdriver.common.by import By\n",
    "import time\n",
    "from multiprocessing.sharedctypes import Value\n",
    "from selenium import webdriver\n",
    "import uuid\n",
    "from selenium.webdriver.support.ui import WebDriverWait\n",
    "from selenium.webdriver.support import expected_conditions as EC\n",
    "from selenium.webdriver.common.by import By\n",
    "from selenium.webdriver.common.keys import Keys\n",
    "import time\n",
    "import os\n",
    "import shutil\n",
    "import urllib.request\n",
    "import json\n",
    "import requests\n",
    "import selenium\n",
    "from selenium.webdriver import Chrome\n",
    "!pip install webdriver-manager\n",
    "from webdriver_manager.chrome import ChromeDriverManager\n",
    "from selenium.webdriver.common.by import By\n",
    "driver=Chrome(ChromeDriverManager().install())\n",
    "from selenium import webdriver\n",
    "from selenium.webdriver.common.by import By\n",
    "import time\n"
   ]
  },
  {
   "cell_type": "code",
   "execution_count": 1,
   "metadata": {},
   "outputs": [
    {
     "name": "stdout",
     "output_type": "stream",
     "text": [
      "\n"
     ]
    },
    {
     "name": "stderr",
     "output_type": "stream",
     "text": [
      "C:\\Users\\44772\\AppData\\Local\\Temp\\ipykernel_12844\\3423979217.py:11: DeprecationWarning: executable_path has been deprecated, please pass in a Service object\n",
      "  driver=webdriver.Chrome(ChromeDriverManager().install())\n"
     ]
    }
   ],
   "source": [
    "import selenium\n",
    "from selenium import webdriver\n",
    "from selenium.webdriver.common.keys import Keys\n",
    "from selenium.webdriver.common.by import By\n",
    "from selenium.webdriver.support.ui import WebDriverWait\n",
    "from selenium.webdriver.support import expected_conditions as EC\n",
    "from selenium.webdriver.common.action_chains import ActionChains\n",
    "from selenium.webdriver.common.keys import Keys\n",
    "from webdriver_manager.chrome import ChromeDriverManager\n",
    "\n",
    "driver=webdriver.Chrome(ChromeDriverManager().install())\n",
    "driver.get('https://www.ocado.com/')"
   ]
  },
  {
   "cell_type": "code",
   "execution_count": 2,
   "metadata": {},
   "outputs": [
    {
     "name": "stdout",
     "output_type": "stream",
     "text": [
      "\n"
     ]
    },
    {
     "ename": "ImportError",
     "evalue": "cannot import name 'Scraper' from 'scraper' (c:\\Users\\44772\\Documents\\GitHub\\Data-Collection-Pipeline\\scraper.py)",
     "output_type": "error",
     "traceback": [
      "\u001b[1;31m---------------------------------------------------------------------------\u001b[0m",
      "\u001b[1;31mImportError\u001b[0m                               Traceback (most recent call last)",
      "\u001b[1;32mc:\\Users\\44772\\Documents\\GitHub\\Data-Collection-Pipeline\\test.ipynb Cell 3\u001b[0m in \u001b[0;36m<cell line: 1>\u001b[1;34m()\u001b[0m\n\u001b[1;32m----> <a href='vscode-notebook-cell:/c%3A/Users/44772/Documents/GitHub/Data-Collection-Pipeline/test.ipynb#X41sZmlsZQ%3D%3D?line=0'>1</a>\u001b[0m \u001b[39mfrom\u001b[39;00m \u001b[39mscraper\u001b[39;00m \u001b[39mimport\u001b[39;00m Scraper\n\u001b[0;32m      <a href='vscode-notebook-cell:/c%3A/Users/44772/Documents/GitHub/Data-Collection-Pipeline/test.ipynb#X41sZmlsZQ%3D%3D?line=1'>2</a>\u001b[0m \u001b[39mimport\u001b[39;00m \u001b[39mtime\u001b[39;00m\n\u001b[0;32m      <a href='vscode-notebook-cell:/c%3A/Users/44772/Documents/GitHub/Data-Collection-Pipeline/test.ipynb#X41sZmlsZQ%3D%3D?line=3'>4</a>\u001b[0m \u001b[39mif\u001b[39;00m \u001b[39m__name__\u001b[39m\u001b[39m==\u001b[39m\u001b[39m'\u001b[39m\u001b[39m__main__\u001b[39m\u001b[39m'\u001b[39m:\n",
      "\u001b[1;31mImportError\u001b[0m: cannot import name 'Scraper' from 'scraper' (c:\\Users\\44772\\Documents\\GitHub\\Data-Collection-Pipeline\\scraper.py)"
     ]
    }
   ],
   "source": [
    "from scraper import Scraper\n",
    "import time\n",
    "\n",
    "if __name__=='__main__':\n",
    "    bot=Scraper('https://victoriaparkhealthcentre.webgp.com/show-back-problem')\n",
    "\n",
    "   "
   ]
  },
  {
   "cell_type": "code",
   "execution_count": null,
   "metadata": {},
   "outputs": [],
   "source": [
    "from selenium.webdriver.support.ui import WebDriverWait"
   ]
  },
  {
   "cell_type": "code",
   "execution_count": 11,
   "metadata": {},
   "outputs": [
    {
     "name": "stdout",
     "output_type": "stream",
     "text": [
      "26769011\n",
      "Ocado British 3-5 Chicken Breast Fillets 650g\n",
      "650g\n",
      "£4.40\n",
      "£6.77 per kg\n",
      "Ocado British Chicken Breast Fillets\n",
      "Fresh class A. Skinless and boneless\n",
      "\n",
      "Versatile and tender chicken breast fillets are a perfect starting point for any meal. Grill them to complement a healthy salad, stir fry with noodles or roast and stuff into fajitas with peppers, cheese and salsa.\n",
      "\n",
      "Chef's Tip:\n",
      "\"For perfectly pan-cooked chicken, turn frequently in the pan if you're cooking without the skin or, for skin-on chicken, cook skin side down for the best flavour and texture. Finish in the oven to cook through evenly\"\n",
      "\n",
      "Our Ocado chickens live in barns that have natural daylight with bales and perches so that they can express their natural behaviour.\n",
      "\n",
      "There may be a slight odour on opening, which will quickly disappear. This is normal and does not affect the quality or flavour of the chicken.\n",
      "/productImages/574/57453011_0_640x640.jpg?identifier=e6138629ff9b896a0dcb2beab9690862\n"
     ]
    }
   ],
   "source": [
    "from multiprocessing.sharedctypes import Value\n",
    "from operator import itemgetter\n",
    "## error occur here!\n",
    "\n",
    "driver = webdriver.Chrome() \n",
    "URL = \"https://www.ocado.com/browse/fresh-chilled-food-20002/meat-poultry-42114\"\n",
    "driver.get(URL)\n",
    "cookies_button=driver.find_element(by=By.XPATH,value='//*[@id=\"onetrust-accept-btn-handler\"]')\n",
    "cookies_button.click()\n",
    "driver.implicitly_wait(1)\n",
    "product_link_list=[]\n",
    "product_container=driver.find_element(by=By.XPATH,value='//*[@id=\"main-content\"]/div[2]/div[2]/ul')\n",
    "product_list=product_container.find_elements(by=By.XPATH,value='./li')\n",
    "food=product_container.find_elements(by=By.XPATH,value='./li')[0]\n",
    "unique_id_tag=food.find_element(by=By.XPATH,value='//div[@class=\"fop-item fop-item-offer\"]')\n",
    "unique_id=unique_id_tag.get_attribute('data-sku')\n",
    "food.click()\n",
    "driver.implicitly_wait(1)\n",
    "tag_product_name=driver.find_element(by=By.CLASS_NAME ,value=\"bop-title\")\n",
    "name=tag_product_name.find_element(by=By.XPATH,value='.//h1').text\n",
    "tag_product_weight=driver.find_element(by=By.CLASS_NAME ,value=\"bop-title\")\n",
    "weight=tag_product_weight.find_element(by=By.XPATH,value='.//span[@class=\"bop-catchWeight\"]').text\n",
    "product_price=driver.find_element(by=By.XPATH,value='//h2[@class=\"bop-price__current \" ]').text\n",
    "product_price_per=driver.find_element(by=By.XPATH,value='//span[@class=\"bop-price__per\"]').text\n",
    "product_description=driver.find_element(by=By.XPATH,value='//div[@class=\"bop-info__content\"]').text\n",
    "img_tag=driver.find_element(by=By.XPATH,value='//img[@role=\"presentation\"]')\n",
    "img=img_tag.get_attribute('src')\n",
    "print(unique_id)\n",
    "print(name)\n",
    "print(weight)\n",
    "print(product_price)\n",
    "print(product_price_per)\n",
    "print(product_description)\n",
    "print(img)\n",
    "\n",
    "#driver.download_image(b,)\n",
    "\n",
    "\n",
    "\n",
    "driver.close()\n"
   ]
  },
  {
   "cell_type": "code",
   "execution_count": null,
   "metadata": {},
   "outputs": [],
   "source": []
  },
  {
   "cell_type": "code",
   "execution_count": 6,
   "metadata": {},
   "outputs": [
    {
     "data": {
      "text/plain": [
       "uuid.UUID"
      ]
     },
     "execution_count": 6,
     "metadata": {},
     "output_type": "execute_result"
    }
   ],
   "source": [
    "type(uuid.uuid4())"
   ]
  },
  {
   "cell_type": "code",
   "execution_count": 7,
   "metadata": {},
   "outputs": [
    {
     "name": "stdout",
     "output_type": "stream",
     "text": [
      "26769011\n"
     ]
    }
   ],
   "source": [
    "driver = webdriver.Chrome() \n",
    "URL = \"https://www.ocado.com/browse/fresh-chilled-food-20002/meat-poultry-42114\"\n",
    "driver.get(URL)\n",
    "cookies_button=driver.find_element(by=By.XPATH,value='//*[@id=\"onetrust-accept-btn-handler\"]')\n",
    "cookies_button.click()\n",
    "driver.implicitly_wait(1)\n",
    "product_link_list=[]\n",
    "product_container=driver.find_element(by=By.XPATH,value='//*[@id=\"main-content\"]/div[2]/div[2]/ul')\n",
    "product_list=product_container.find_elements(by=By.XPATH,value='./li')\n",
    "food=product_container.find_elements(by=By.XPATH,value='./li')[0]\n",
    "unique_id_tag=food.find_element(by=By.XPATH,value='//div[@class=\"fop-item fop-item-offer\"]')\n",
    "unique_id=unique_id_tag.get_attribute('data-sku')\n",
    "\n",
    "\n",
    "\n",
    "food.click()\n",
    "driver.implicitly_wait(1)\n",
    "print(unique_id)"
   ]
  },
  {
   "cell_type": "code",
   "execution_count": 6,
   "metadata": {},
   "outputs": [
    {
     "data": {
      "text/plain": [
       "'/productImages/574/57453011_0_640x640.jpg?identifier=e6138629ff9b896a0dcb2beab9690862'"
      ]
     },
     "execution_count": 6,
     "metadata": {},
     "output_type": "execute_result"
    }
   ],
   "source": [
    "\n",
    "class scraper:\n",
    "    def __init__(self,url,driver) :\n",
    "        self.url=url\n",
    "        self.driver=driver\n",
    "        self.product_list={\"Product_name\":[],\"weight\":[],\"price\":[],\"Description\":[]}\n",
    "\n",
    "\n",
    "    def accept_cookies(self):\n",
    "        cookies_button=self.driver.find_element(by=By.XPATH,value='//*[@id=\"onetrust-accept-btn-handler\"]')\n",
    "        cookies_button.click()\n",
    "        time.sleep(2)\n",
    "        return self.driver\n",
    "    \n",
    "\n",
    "    def get_product_list(self):\n",
    "        product_container=self.driver.find_element(by=By.XPATH,value='//*[@id=\"main-content\"]/div[2]/div[2]/ul')\n",
    "        product_list=product_container.find_elements(by=By.XPATH,value='./li')\n",
    "        return product_list\n",
    "    \n",
    "    def get_product_name(self):\n",
    "        tag_product_name=self.driver.find_element(by=By.CLASS_NAME ,value=\"bop-title\")\n",
    "        name=tag_product_name.find_element(by=By.XPATH,value='.//h1').text\n",
    "        return name\n",
    "    \n",
    "    def get_product_weight(self):\n",
    "        tag_product_weight=self.driver.find_element(by=By.CLASS_NAME ,value=\"bop-title\")\n",
    "        weight=tag_product_weight.find_element(by=By.XPATH,value='.//span[@class=\"bop-catchWeight\"]').text\n",
    "        return weight\n",
    "    def get_product_price(self):\n",
    "        prduct_price=self.driver.find_element(by=By.XPATH,value='//h2[@class=\"bop-price__current \" ]').text\n",
    "        return prduct_price\n",
    "\n",
    "\n",
    "    def get_product_description(self):\n",
    "        product_description=self.driver.find_element(by=By.XPATH,value='//div[@class=\"bop-info__content\"]').text\n",
    "        return product_description\n",
    "\n",
    "    def get_uuid(self):\n",
    "        '''Generates a random Universally Unique ID (UUID) for each property and appends to the dictionary\n",
    "        '''\n",
    "        uni_uid = str(uuid.uuid4())\n",
    "        return uni_uid\n",
    "    \n",
    "    def get_img_link(self):\n",
    "        img_tag=self.driver.find_element(by=By.XPATH,value='//img[@role=\"presentation\"]')\n",
    "        img_tag=img_tag.get_attribute('src')\n",
    "        return img_tag\n",
    "    \n",
    "    def get_info(self,)"
   ]
  },
  {
   "cell_type": "code",
   "execution_count": null,
   "metadata": {},
   "outputs": [],
   "source": []
  },
  {
   "cell_type": "code",
   "execution_count": null,
   "metadata": {},
   "outputs": [],
   "source": []
  },
  {
   "cell_type": "markdown",
   "metadata": {},
   "source": []
  },
  {
   "cell_type": "code",
   "execution_count": null,
   "metadata": {},
   "outputs": [],
   "source": [
    "from selenium import webdriver\n",
    "from selenium.webdriver.common.by import By\n",
    "import time\n",
    "\n",
    "driver = webdriver.Chrome() \n",
    "URL = \"https://www.ocado.com/browse/fresh-chilled-food-20002/meat-poultry-42114\"\n",
    "driver.get(URL)\n",
    "cookies_button=driver.find_element(by=By.XPATH,value='//*[@id=\"onetrust-accept-btn-handler\"]')\n",
    "cookies_button.click()\n",
    "time.sleep(2)\n",
    "product_information_container=driver.find_element(by=By.XPATH,value='//*[@id=\"main-content\"]/div[2]/div[2]/ul')"
   ]
  },
  {
   "cell_type": "code",
   "execution_count": null,
   "metadata": {},
   "outputs": [],
   "source": [
    "driver = webdriver.Chrome() \n",
    "URL = \"https://www.ocado.com/browse/fresh-chilled-food-20002/meat-poultry-42114\"\n",
    "driver.get(URL)\n",
    "cookies_button=driver.find_element(by=By.XPATH,value='//*[@id=\"onetrust-accept-btn-handler\"]')\n",
    "cookies_button.click()\n",
    "time.sleep(2)\n",
    "product_container=driver.find_element(by=By.XPATH,value='//*[@id=\"main-content\"]/div[2]/div[2]/ul')\n",
    "product_list=product_container.find_elements(by=By.XPATH,value='./li')\n",
    "num_list=len(product_list)\n",
    "data={\"Product_name\":[],\"weight\":[],\"price\":[],\"Description\":[]}\n",
    "for i in range(num_list):\n",
    "    product_container=driver.find_element(by=By.XPATH,value='//*[@id=\"main-content\"]/div[2]/div[2]/ul')\n",
    "    food=product_container.find_elements(by=By.XPATH,value='./li')[i]\n",
    "    food.click()\n",
    "    time.sleep(5)\n",
    "    driver.back()\n",
    "    time.sleep(2)\n",
    "\n",
    "\n",
    "\n",
    "\n"
   ]
  },
  {
   "cell_type": "code",
   "execution_count": null,
   "metadata": {},
   "outputs": [],
   "source": []
  },
  {
   "cell_type": "code",
   "execution_count": 4,
   "metadata": {},
   "outputs": [],
   "source": [
    "from multiprocessing.sharedctypes import Value\n",
    "## error occur here!\n",
    "\n",
    "driver = webdriver.Chrome() \n",
    "URL = \"https://www.ocado.com/browse/fresh-chilled-food-20002/meat-poultry-42114\"\n",
    "driver.get(URL)\n",
    "cookies_button=driver.find_element(by=By.XPATH,value='//*[@id=\"onetrust-accept-btn-handler\"]')\n",
    "cookies_button.click()\n",
    "time.sleep(2)\n",
    "product_link_list=[]\n",
    "product_container=driver.find_element(by=By.XPATH,value='//*[@id=\"main-content\"]/div[2]/div[2]/ul')\n",
    "product_list=product_container.find_elements(by=By.XPATH,value='./li')\n",
    "food=product_container.find_elements(by=By.XPATH,value='./li')[0]\n",
    "food.click()\n",
    "time.sleep(1)\n",
    "a=driver.find_element(by=By.XPATH,value='//div[@class=\"bop-info__content\"]').text\n",
    "\n",
    "\n",
    "time.sleep(1)\n",
    "driver.back()\n",
    "\n",
    "\n",
    "\n"
   ]
  },
  {
   "cell_type": "code",
   "execution_count": null,
   "metadata": {},
   "outputs": [],
   "source": [
    "from multiprocessing.sharedctypes import Value\n",
    "from selenium import webdriver\n",
    "import uuid\n",
    "from selenium.webdriver.support.ui import WebDriverWait\n",
    "from selenium.webdriver.support import expected_conditions as EC\n",
    "from selenium.webdriver.common.by import By\n",
    "from selenium.webdriver.common.keys import Keys\n",
    "import time\n",
    "import os\n",
    "import shutil\n",
    "import urllib.request\n",
    "import json\n",
    "import requests\n",
    "import selenium\n",
    "from selenium.webdriver import Chrome\n",
    "!pip install webdriver-manager\n",
    "from webdriver_manager.chrome import ChromeDriverManager\n",
    "from selenium.webdriver.common.by import By\n",
    "driver=Chrome(ChromeDriverManager().install())\n",
    "from selenium import webdriver\n",
    "from selenium.webdriver.common.by import By\n",
    "import time"
   ]
  },
  {
   "cell_type": "code",
   "execution_count": 5,
   "metadata": {},
   "outputs": [
    {
     "data": {
      "text/plain": [
       "'Ocado British Chicken Breast Fillets\\nFresh class A. Skinless and boneless\\n\\nVersatile and tender chicken breast fillets are a perfect starting point for any meal. Grill them to complement a healthy salad, stir fry with noodles or roast and stuff into fajitas with peppers, cheese and salsa.\\n\\nChef\\'s Tip:\\n\"For perfectly pan-cooked chicken, turn frequently in the pan if you\\'re cooking without the skin or, for skin-on chicken, cook skin side down for the best flavour and texture. Finish in the oven to cook through evenly\"\\n\\nOur Ocado chickens live in barns that have natural daylight with bales and perches so that they can express their natural behaviour.\\n\\nThere may be a slight odour on opening, which will quickly disappear. This is normal and does not affect the quality or flavour of the chicken.'"
      ]
     },
     "execution_count": 5,
     "metadata": {},
     "output_type": "execute_result"
    }
   ],
   "source": [
    "a"
   ]
  },
  {
   "cell_type": "code",
   "execution_count": null,
   "metadata": {},
   "outputs": [],
   "source": [
    "for product in product_list:\n",
    "    tag=product.find_element(By.TAG_NAME,'a')\n",
    "    link=tag.get_attribute('href')\n",
    "    product_link_list.append(product_list)\n",
    "    time.sleep(2)\n",
    "num_list=len(product_list)"
   ]
  },
  {
   "cell_type": "code",
   "execution_count": null,
   "metadata": {},
   "outputs": [],
   "source": [
    "\n",
    "time.sleep(2)\n",
    "\n",
    "product_list=product_information_container.find_elements(by=By.XPATH,value='./div')\n",
    "product_list\n",
    "\n"
   ]
  },
  {
   "cell_type": "code",
   "execution_count": null,
   "metadata": {},
   "outputs": [],
   "source": [
    "len(product_list)"
   ]
  },
  {
   "cell_type": "code",
   "execution_count": null,
   "metadata": {},
   "outputs": [],
   "source": [
    "link"
   ]
  },
  {
   "cell_type": "code",
   "execution_count": null,
   "metadata": {},
   "outputs": [],
   "source": []
  },
  {
   "cell_type": "code",
   "execution_count": null,
   "metadata": {},
   "outputs": [],
   "source": []
  },
  {
   "cell_type": "code",
   "execution_count": null,
   "metadata": {},
   "outputs": [],
   "source": []
  },
  {
   "cell_type": "code",
   "execution_count": null,
   "metadata": {},
   "outputs": [],
   "source": []
  },
  {
   "cell_type": "code",
   "execution_count": null,
   "metadata": {},
   "outputs": [],
   "source": []
  },
  {
   "cell_type": "code",
   "execution_count": null,
   "metadata": {},
   "outputs": [],
   "source": []
  },
  {
   "cell_type": "code",
   "execution_count": null,
   "metadata": {},
   "outputs": [],
   "source": []
  },
  {
   "cell_type": "code",
   "execution_count": null,
   "metadata": {},
   "outputs": [],
   "source": []
  }
 ],
 "metadata": {
  "kernelspec": {
   "display_name": "Python 3.10.4 ('Data_Collection_AiC')",
   "language": "python",
   "name": "python3"
  },
  "language_info": {
   "codemirror_mode": {
    "name": "ipython",
    "version": 3
   },
   "file_extension": ".py",
   "mimetype": "text/x-python",
   "name": "python",
   "nbconvert_exporter": "python",
   "pygments_lexer": "ipython3",
   "version": "3.10.4"
  },
  "orig_nbformat": 4,
  "vscode": {
   "interpreter": {
    "hash": "53ec01ca0f0aec13aedb9a7a504d27dddcf537b0c3fda53760a67f820ca51f3f"
   }
  }
 },
 "nbformat": 4,
 "nbformat_minor": 2
}
