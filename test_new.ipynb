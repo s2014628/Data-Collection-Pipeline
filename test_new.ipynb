{
 "cells": [
  {
   "cell_type": "code",
   "execution_count": 1,
   "metadata": {},
   "outputs": [
    {
     "ename": "ImportError",
     "evalue": "cannot import name 'PaddleScraper' from 'scraper' (c:\\Users\\44772\\Documents\\GitHub\\Data-Collection-Pipeline\\scraper.py)",
     "output_type": "error",
     "traceback": [
      "\u001b[1;31m---------------------------------------------------------------------------\u001b[0m",
      "\u001b[1;31mImportError\u001b[0m                               Traceback (most recent call last)",
      "\u001b[1;32mc:\\Users\\44772\\Documents\\GitHub\\Data-Collection-Pipeline\\test_new.ipynb Cell 1\u001b[0m in \u001b[0;36m<cell line: 2>\u001b[1;34m()\u001b[0m\n\u001b[0;32m      <a href='vscode-notebook-cell:/c%3A/Users/44772/Documents/GitHub/Data-Collection-Pipeline/test_new.ipynb#W0sZmlsZQ%3D%3D?line=0'>1</a>\u001b[0m \u001b[39mfrom\u001b[39;00m \u001b[39mscraper\u001b[39;00m \u001b[39mimport\u001b[39;00m Scraper\n\u001b[1;32m----> <a href='vscode-notebook-cell:/c%3A/Users/44772/Documents/GitHub/Data-Collection-Pipeline/test_new.ipynb#W0sZmlsZQ%3D%3D?line=1'>2</a>\u001b[0m \u001b[39mfrom\u001b[39;00m \u001b[39mscraper\u001b[39;00m \u001b[39mimport\u001b[39;00m PaddleScraper\n\u001b[0;32m      <a href='vscode-notebook-cell:/c%3A/Users/44772/Documents/GitHub/Data-Collection-Pipeline/test_new.ipynb#W0sZmlsZQ%3D%3D?line=2'>3</a>\u001b[0m \u001b[39mimport\u001b[39;00m \u001b[39mtime\u001b[39;00m\n\u001b[0;32m      <a href='vscode-notebook-cell:/c%3A/Users/44772/Documents/GitHub/Data-Collection-Pipeline/test_new.ipynb#W0sZmlsZQ%3D%3D?line=3'>4</a>\u001b[0m \u001b[39mif\u001b[39;00m \u001b[39m__name__\u001b[39m\u001b[39m==\u001b[39m\u001b[39m'\u001b[39m\u001b[39m__main__\u001b[39m\u001b[39m'\u001b[39m:\n",
      "\u001b[1;31mImportError\u001b[0m: cannot import name 'PaddleScraper' from 'scraper' (c:\\Users\\44772\\Documents\\GitHub\\Data-Collection-Pipeline\\scraper.py)"
     ]
    }
   ],
   "source": [
    "from scraper import Scraper\n",
    "from scraper import PaddleScraper\n",
    "import time\n",
    "if __name__=='__main__':\n",
    "  bot=PaddleScraper()\n",
    "  bot.find_all_products()  \n"
   ]
  },
  {
   "cell_type": "code",
   "execution_count": 2,
   "metadata": {},
   "outputs": [],
   "source": [
    "from scraper import Scraper\n",
    "# from scraper import PaddleScraper\n",
    "import time"
   ]
  },
  {
   "cell_type": "code",
   "execution_count": 6,
   "metadata": {},
   "outputs": [],
   "source": [
    "from selenium import webdriver\n",
    "from selenium.webdriver.common.keys import Keys\n",
    "from selenium.webdriver.common.by import By\n",
    "from selenium.webdriver.support.ui import WebDriverWait\n",
    "from selenium.webdriver.support import expected_conditions as EC\n",
    "from selenium.webdriver.common.action_chains import ActionChains\n",
    "from selenium.webdriver.common.keys import Keys\n",
    "from webdriver_manager.chrome import ChromeDriverManager\n",
    "# bot=PaddleScraper()\n",
    "\n",
    "# a=bot.find_all_products()\n"
   ]
  },
  {
   "cell_type": "code",
   "execution_count": 21,
   "metadata": {},
   "outputs": [
    {
     "data": {
      "text/plain": [
       "400"
      ]
     },
     "execution_count": 21,
     "metadata": {},
     "output_type": "execute_result"
    }
   ],
   "source": [
    "len(a)"
   ]
  },
  {
   "cell_type": "code",
   "execution_count": null,
   "metadata": {},
   "outputs": [],
   "source": []
  },
  {
   "cell_type": "code",
   "execution_count": 25,
   "metadata": {},
   "outputs": [
    {
     "name": "stdout",
     "output_type": "stream",
     "text": [
      "https://www.ocado.com/webshop/startWebshop.do\n"
     ]
    }
   ],
   "source": [
    "b=a[0].find_element(By.XPATH,value=).get_attribute('href')\n",
    "print(b)"
   ]
  },
  {
   "cell_type": "code",
   "execution_count": 3,
   "metadata": {},
   "outputs": [
    {
     "name": "stdout",
     "output_type": "stream",
     "text": [
      "\n"
     ]
    }
   ],
   "source": [
    "bot=Scraper()\n",
    "# time.sleep(1)\n",
    "# bot.accept_cookies()\n",
    "# time.sleep(1)\n",
    "# bot.browse_button()\n",
    "# time.sleep(1)\n",
    "# bot.search_bar()\n",
    "# time.sleep(1)\n",
    "a=bot.find_all_products()\n"
   ]
  },
  {
   "cell_type": "code",
   "execution_count": 20,
   "metadata": {},
   "outputs": [],
   "source": [
    "\n",
    "b=a[3].find_elements(By.XPATH,value='./div')\n",
    "c=b[1].get_attribute('data-sku')\n",
    "d=b[1].find_elements(By.XPATH,value='./div')\n",
    "e=d[1].find_element(By.XPATH,value='//a').get_attribute('href')"
   ]
  },
  {
   "cell_type": "code",
   "execution_count": 8,
   "metadata": {},
   "outputs": [
    {
     "data": {
      "text/plain": [
       "2"
      ]
     },
     "execution_count": 8,
     "metadata": {},
     "output_type": "execute_result"
    }
   ],
   "source": [
    "len(b)"
   ]
  },
  {
   "cell_type": "code",
   "execution_count": 21,
   "metadata": {},
   "outputs": [
    {
     "data": {
      "text/plain": [
       "'https://www.ocado.com/webshop/startWebshop.do'"
      ]
     },
     "execution_count": 21,
     "metadata": {},
     "output_type": "execute_result"
    }
   ],
   "source": [
    "e"
   ]
  },
  {
   "cell_type": "code",
   "execution_count": null,
   "metadata": {},
   "outputs": [],
   "source": [
    "a[0].find_element(By.XPATH,value='//a').get_attribute('href')"
   ]
  },
  {
   "cell_type": "code",
   "execution_count": null,
   "metadata": {},
   "outputs": [],
   "source": [
    "len(b)"
   ]
  },
  {
   "cell_type": "code",
   "execution_count": null,
   "metadata": {},
   "outputs": [],
   "source": [
    "container='//ul[@class=\"fops fops-regular fops-shelf\"]',\n",
    "                                              tag= './li'"
   ]
  }
 ],
 "metadata": {
  "kernelspec": {
   "display_name": "Python 3.10.4 ('Data_Collection_AiC')",
   "language": "python",
   "name": "python3"
  },
  "language_info": {
   "codemirror_mode": {
    "name": "ipython",
    "version": 3
   },
   "file_extension": ".py",
   "mimetype": "text/x-python",
   "name": "python",
   "nbconvert_exporter": "python",
   "pygments_lexer": "ipython3",
   "version": "3.10.4"
  },
  "orig_nbformat": 4,
  "vscode": {
   "interpreter": {
    "hash": "53ec01ca0f0aec13aedb9a7a504d27dddcf537b0c3fda53760a67f820ca51f3f"
   }
  }
 },
 "nbformat": 4,
 "nbformat_minor": 2
}
