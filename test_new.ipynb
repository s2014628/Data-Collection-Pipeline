{
 "cells": [
  {
   "cell_type": "code",
   "execution_count": null,
   "metadata": {},
   "outputs": [],
   "source": [
    "from scraper import Scraper\n",
    "from scraper import PaddleScraper\n",
    "import time\n",
    "if __name__=='__main__':\n",
    "  bot=PaddleScraper()\n",
    "  bot.find_all_products()  \n"
   ]
  },
  {
   "cell_type": "code",
   "execution_count": null,
   "metadata": {},
   "outputs": [],
   "source": [
    "%load_ext autoreload\n",
    "%autoreload 2\n",
    "\n",
    "from scraper import Scraper\n",
    "# from scraper import PaddleScraper\n",
    "import time"
   ]
  },
  {
   "cell_type": "code",
   "execution_count": null,
   "metadata": {},
   "outputs": [],
   "source": []
  },
  {
   "cell_type": "code",
   "execution_count": null,
   "metadata": {},
   "outputs": [],
   "source": [
    "from selenium import webdriver\n",
    "from selenium.webdriver.common.keys import Keys\n",
    "from selenium.webdriver.common.by import By\n",
    "from selenium.webdriver.support.ui import WebDriverWait\n",
    "from selenium.webdriver.support import expected_conditions as EC\n",
    "from selenium.webdriver.common.action_chains import ActionChains\n",
    "from selenium.webdriver.common.keys import Keys\n",
    "from webdriver_manager.chrome import ChromeDriverManager\n",
    "# bot=PaddleScraper()\n",
    "\n",
    "# a=bot.find_all_products()\n"
   ]
  },
  {
   "cell_type": "code",
   "execution_count": null,
   "metadata": {},
   "outputs": [],
   "source": [
    "from uuid import uuid4\n",
    "\n",
    "\n",
    "q"
   ]
  },
  {
   "cell_type": "code",
   "execution_count": null,
   "metadata": {},
   "outputs": [],
   "source": [
    "from uuid import uuid4\n",
    "\n",
    "\n",
    "q=[]\n",
    "w=uuid4().hex\n",
    "q.append(w)"
   ]
  },
  {
   "cell_type": "code",
   "execution_count": 114,
   "metadata": {},
   "outputs": [
    {
     "data": {
      "text/html": [
       "<div>\n",
       "<style scoped>\n",
       "    .dataframe tbody tr th:only-of-type {\n",
       "        vertical-align: middle;\n",
       "    }\n",
       "\n",
       "    .dataframe tbody tr th {\n",
       "        vertical-align: top;\n",
       "    }\n",
       "\n",
       "    .dataframe thead th {\n",
       "        text-align: right;\n",
       "    }\n",
       "</style>\n",
       "<table border=\"1\" class=\"dataframe\">\n",
       "  <thead>\n",
       "    <tr style=\"text-align: right;\">\n",
       "      <th></th>\n",
       "      <th>unique_id</th>\n",
       "      <th>uuid</th>\n",
       "      <th>price</th>\n",
       "      <th>product_name</th>\n",
       "      <th>rating_score</th>\n",
       "      <th>five_stars_rating</th>\n",
       "      <th>four_stars_rating</th>\n",
       "      <th>three_stars_rating</th>\n",
       "      <th>two_stars_rating</th>\n",
       "      <th>one_star_rating</th>\n",
       "      <th>recommendation_rate</th>\n",
       "    </tr>\n",
       "  </thead>\n",
       "  <tbody>\n",
       "    <tr>\n",
       "      <th>0</th>\n",
       "      <td>573459011</td>\n",
       "      <td>3652ad40e6754f3db94cff6cd456d090</td>\n",
       "      <td>£2.75</td>\n",
       "      <td>Meatless Farm Plant-Based Chicken Breast 2 x 105g</td>\n",
       "      <td>3.0</td>\n",
       "      <td>13</td>\n",
       "      <td>14</td>\n",
       "      <td>11</td>\n",
       "      <td>8</td>\n",
       "      <td>0</td>\n",
       "      <td>59%</td>\n",
       "    </tr>\n",
       "    <tr>\n",
       "      <th>1</th>\n",
       "      <td>580754011</td>\n",
       "      <td>e09a857f3b364b3d97f19ce3cab06e6c</td>\n",
       "      <td>£3.50</td>\n",
       "      <td>Meatless Farm Plant Based Steak 2 x 105g</td>\n",
       "      <td>3.6</td>\n",
       "      <td>5</td>\n",
       "      <td>11</td>\n",
       "      <td>9</td>\n",
       "      <td>1</td>\n",
       "      <td>0</td>\n",
       "      <td>72%</td>\n",
       "    </tr>\n",
       "    <tr>\n",
       "      <th>2</th>\n",
       "      <td>423741011</td>\n",
       "      <td>e2745fec5a794575b8d36403717cc20d</td>\n",
       "      <td>£3.90</td>\n",
       "      <td>Ross &amp; Ross Gifts Roast Chicken Rub 50g</td>\n",
       "      <td>4.3</td>\n",
       "      <td>9</td>\n",
       "      <td>7</td>\n",
       "      <td>3</td>\n",
       "      <td>0</td>\n",
       "      <td>0</td>\n",
       "      <td>79%</td>\n",
       "    </tr>\n",
       "    <tr>\n",
       "      <th>3</th>\n",
       "      <td>207934011</td>\n",
       "      <td>522b5c51cc5c4c78818569a4d813795d</td>\n",
       "      <td>£2.20</td>\n",
       "      <td>Ocado Lean Beef Steak Mince 5% Fat 250g</td>\n",
       "      <td>4.2</td>\n",
       "      <td>37</td>\n",
       "      <td>8</td>\n",
       "      <td>2</td>\n",
       "      <td>5</td>\n",
       "      <td>0</td>\n",
       "      <td>83%</td>\n",
       "    </tr>\n",
       "    <tr>\n",
       "      <th>4</th>\n",
       "      <td>77760011</td>\n",
       "      <td>f016120cfd2d45498b810cfd7939d60f</td>\n",
       "      <td>£3.20</td>\n",
       "      <td>Ocado Lean Beef Steak Mince 5% Fat 500g</td>\n",
       "      <td>4.3</td>\n",
       "      <td>236</td>\n",
       "      <td>34</td>\n",
       "      <td>17</td>\n",
       "      <td>17</td>\n",
       "      <td>0</td>\n",
       "      <td>82%</td>\n",
       "    </tr>\n",
       "    <tr>\n",
       "      <th>...</th>\n",
       "      <td>...</td>\n",
       "      <td>...</td>\n",
       "      <td>...</td>\n",
       "      <td>...</td>\n",
       "      <td>...</td>\n",
       "      <td>...</td>\n",
       "      <td>...</td>\n",
       "      <td>...</td>\n",
       "      <td>...</td>\n",
       "      <td>...</td>\n",
       "      <td>...</td>\n",
       "    </tr>\n",
       "    <tr>\n",
       "      <th>392</th>\n",
       "      <td>59669011</td>\n",
       "      <td>a1d1591db7b74f96a9c435db91bc8672</td>\n",
       "      <td>£5.75</td>\n",
       "      <td>Ocado 4 British Lamb Chops 340g</td>\n",
       "      <td>3.2</td>\n",
       "      <td>22</td>\n",
       "      <td>28</td>\n",
       "      <td>8</td>\n",
       "      <td>14</td>\n",
       "      <td>0</td>\n",
       "      <td>60%</td>\n",
       "    </tr>\n",
       "    <tr>\n",
       "      <th>393</th>\n",
       "      <td>542036011</td>\n",
       "      <td>6c12c2b09dc049d0918e06634962ab26</td>\n",
       "      <td>£8.25</td>\n",
       "      <td>M&amp;S Select Farms Lamb Half Shoulder Bone In Ty...</td>\n",
       "      <td>2.6</td>\n",
       "      <td>12</td>\n",
       "      <td>5</td>\n",
       "      <td>7</td>\n",
       "      <td>7</td>\n",
       "      <td>0</td>\n",
       "      <td>35%</td>\n",
       "    </tr>\n",
       "    <tr>\n",
       "      <th>394</th>\n",
       "      <td>356034011</td>\n",
       "      <td>1cf0de5840a3438093c742555ec9e29c</td>\n",
       "      <td>£8.25</td>\n",
       "      <td>Ocado 4 British Lamb Leg Steaks 450g</td>\n",
       "      <td>3.1</td>\n",
       "      <td>26</td>\n",
       "      <td>32</td>\n",
       "      <td>15</td>\n",
       "      <td>19</td>\n",
       "      <td>0</td>\n",
       "      <td>51%</td>\n",
       "    </tr>\n",
       "    <tr>\n",
       "      <th>395</th>\n",
       "      <td>99882011</td>\n",
       "      <td>cf7440a3495b4cc0814ca337cde806d5</td>\n",
       "      <td>£9.56</td>\n",
       "      <td>Ocado 4 British Lamb Cutlets Typically: 390g</td>\n",
       "      <td>3.6</td>\n",
       "      <td>31</td>\n",
       "      <td>31</td>\n",
       "      <td>14</td>\n",
       "      <td>4</td>\n",
       "      <td>0</td>\n",
       "      <td>67%</td>\n",
       "    </tr>\n",
       "    <tr>\n",
       "      <th>396</th>\n",
       "      <td>584569011</td>\n",
       "      <td>447cb731e67f405b8b24d4f7fabd75ce</td>\n",
       "      <td>£4</td>\n",
       "      <td>Moy Park Ultimate Garlic Kievs 375g</td>\n",
       "      <td>2.0</td>\n",
       "      <td>0</td>\n",
       "      <td>0</td>\n",
       "      <td>0</td>\n",
       "      <td>1</td>\n",
       "      <td>0</td>\n",
       "      <td>0%</td>\n",
       "    </tr>\n",
       "  </tbody>\n",
       "</table>\n",
       "<p>397 rows × 11 columns</p>\n",
       "</div>"
      ],
      "text/plain": [
       "     unique_id                              uuid  price  \\\n",
       "0    573459011  3652ad40e6754f3db94cff6cd456d090  £2.75   \n",
       "1    580754011  e09a857f3b364b3d97f19ce3cab06e6c  £3.50   \n",
       "2    423741011  e2745fec5a794575b8d36403717cc20d  £3.90   \n",
       "3    207934011  522b5c51cc5c4c78818569a4d813795d  £2.20   \n",
       "4     77760011  f016120cfd2d45498b810cfd7939d60f  £3.20   \n",
       "..         ...                               ...    ...   \n",
       "392   59669011  a1d1591db7b74f96a9c435db91bc8672  £5.75   \n",
       "393  542036011  6c12c2b09dc049d0918e06634962ab26  £8.25   \n",
       "394  356034011  1cf0de5840a3438093c742555ec9e29c  £8.25   \n",
       "395   99882011  cf7440a3495b4cc0814ca337cde806d5  £9.56   \n",
       "396  584569011  447cb731e67f405b8b24d4f7fabd75ce     £4   \n",
       "\n",
       "                                          product_name rating_score  \\\n",
       "0    Meatless Farm Plant-Based Chicken Breast 2 x 105g          3.0   \n",
       "1             Meatless Farm Plant Based Steak 2 x 105g          3.6   \n",
       "2              Ross & Ross Gifts Roast Chicken Rub 50g          4.3   \n",
       "3              Ocado Lean Beef Steak Mince 5% Fat 250g          4.2   \n",
       "4              Ocado Lean Beef Steak Mince 5% Fat 500g          4.3   \n",
       "..                                                 ...          ...   \n",
       "392                    Ocado 4 British Lamb Chops 340g          3.2   \n",
       "393  M&S Select Farms Lamb Half Shoulder Bone In Ty...          2.6   \n",
       "394               Ocado 4 British Lamb Leg Steaks 450g          3.1   \n",
       "395       Ocado 4 British Lamb Cutlets Typically: 390g          3.6   \n",
       "396                Moy Park Ultimate Garlic Kievs 375g          2.0   \n",
       "\n",
       "    five_stars_rating four_stars_rating three_stars_rating two_stars_rating  \\\n",
       "0                  13                14                 11                8   \n",
       "1                   5                11                  9                1   \n",
       "2                   9                 7                  3                0   \n",
       "3                  37                 8                  2                5   \n",
       "4                 236                34                 17               17   \n",
       "..                ...               ...                ...              ...   \n",
       "392                22                28                  8               14   \n",
       "393                12                 5                  7                7   \n",
       "394                26                32                 15               19   \n",
       "395                31                31                 14                4   \n",
       "396                 0                 0                  0                1   \n",
       "\n",
       "    one_star_rating recommendation_rate  \n",
       "0                 0                 59%  \n",
       "1                 0                 72%  \n",
       "2                 0                 79%  \n",
       "3                 0                 83%  \n",
       "4                 0                 82%  \n",
       "..              ...                 ...  \n",
       "392               0                 60%  \n",
       "393               0                 35%  \n",
       "394               0                 51%  \n",
       "395               0                 67%  \n",
       "396               0                  0%  \n",
       "\n",
       "[397 rows x 11 columns]"
      ]
     },
     "execution_count": 114,
     "metadata": {},
     "output_type": "execute_result"
    }
   ],
   "source": [
    "h"
   ]
  },
  {
   "cell_type": "code",
   "execution_count": 113,
   "metadata": {},
   "outputs": [],
   "source": [
    "h=pd.DataFrame(a)"
   ]
  },
  {
   "cell_type": "code",
   "execution_count": null,
   "metadata": {},
   "outputs": [],
   "source": [
    "import uuid\n",
    "a=str(uuid.uuid4())\n",
    "a"
   ]
  },
  {
   "cell_type": "code",
   "execution_count": 112,
   "metadata": {},
   "outputs": [],
   "source": [
    "bot=Scraper()\n",
    "a=bot.get_info()\n",
    "# c=bot.find_product()"
   ]
  },
  {
   "cell_type": "code",
   "execution_count": null,
   "metadata": {},
   "outputs": [],
   "source": [
    "bot=Scraper(c[301])\n",
    "bot.accept_cookies()\n",
    "a=bot.driver.find_element(By.XPATH,value='//*[@id=\"reviews\"]/div[1]/div[4]/div[1]').text\n"
   ]
  },
  {
   "cell_type": "code",
   "execution_count": 102,
   "metadata": {},
   "outputs": [],
   "source": [
    "import pandas as pd"
   ]
  },
  {
   "cell_type": "code",
   "execution_count": null,
   "metadata": {},
   "outputs": [],
   "source": [
    "bot=Scraper()\n",
    "c=bot.find_links()"
   ]
  },
  {
   "cell_type": "code",
   "execution_count": null,
   "metadata": {},
   "outputs": [],
   "source": [
    "bot=Scraper()\n",
    "a=bot.get_info()"
   ]
  },
  {
   "cell_type": "code",
   "execution_count": null,
   "metadata": {},
   "outputs": [],
   "source": [
    "len(a)\n",
    "find_all_div_under_li_class=a[1].find_elements(By.XPATH,value='./div')\n",
    "find_url_tag=find_all_div_under_li_class[1].find_element(By.XPATH,\n",
    "                    value='//div[@class=\"fop-contentWrapper\"]')\n",
    "d=find_url_tag.find_element(By.XPATH,value='//a').get_attribute('href')\n",
    "d\n"
   ]
  },
  {
   "cell_type": "code",
   "execution_count": null,
   "metadata": {},
   "outputs": [],
   "source": [
    "\n",
    "b=a[3].find_elements(By.XPATH,value='./div')\n",
    "c=b[1].get_attribute('data-sku')\n",
    "d=b[1].find_elements(By.XPATH,value='./div')\n",
    "e=d[1].find_element(By.XPATH,value='//a').get_attribute('href')"
   ]
  },
  {
   "cell_type": "code",
   "execution_count": null,
   "metadata": {},
   "outputs": [],
   "source": [
    "len(a)\n",
    "a"
   ]
  },
  {
   "cell_type": "code",
   "execution_count": null,
   "metadata": {},
   "outputs": [],
   "source": [
    "import uuid\n",
    "# from uuid import uuid4\n",
    "\n",
    "\n",
    "str(uuid.uuid4())"
   ]
  },
  {
   "cell_type": "code",
   "execution_count": null,
   "metadata": {},
   "outputs": [],
   "source": [
    "a[0].find_element(By.XPATH,value='//a').get_attribute('href')"
   ]
  },
  {
   "cell_type": "code",
   "execution_count": null,
   "metadata": {},
   "outputs": [],
   "source": [
    "len(b)"
   ]
  },
  {
   "cell_type": "code",
   "execution_count": null,
   "metadata": {},
   "outputs": [],
   "source": [
    "import pandas as pd"
   ]
  },
  {
   "cell_type": "code",
   "execution_count": null,
   "metadata": {},
   "outputs": [],
   "source": [
    "container='//ul[@class=\"fops fops-regular fops-shelf\"]',\n",
    "                                              tag= './li'"
   ]
  }
 ],
 "metadata": {
  "kernelspec": {
   "display_name": "Python 3.9.12 ('base')",
   "language": "python",
   "name": "python3"
  },
  "language_info": {
   "codemirror_mode": {
    "name": "ipython",
    "version": 3
   },
   "file_extension": ".py",
   "mimetype": "text/x-python",
   "name": "python",
   "nbconvert_exporter": "python",
   "pygments_lexer": "ipython3",
   "version": "3.9.12"
  },
  "orig_nbformat": 4,
  "vscode": {
   "interpreter": {
    "hash": "1b3b782e63fbf522679a3ddb6a648670947d439445328eeaba21f11825643340"
   }
  }
 },
 "nbformat": 4,
 "nbformat_minor": 2
}
