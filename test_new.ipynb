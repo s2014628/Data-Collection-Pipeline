{
 "cells": [
  {
   "cell_type": "code",
   "execution_count": null,
   "metadata": {},
   "outputs": [],
   "source": [
    "from scraper import Scraper\n",
    "from scraper import PaddleScraper\n",
    "import time\n",
    "if __name__=='__main__':\n",
    "  bot=PaddleScraper()\n",
    "  bot.find_all_products()  \n"
   ]
  },
  {
   "cell_type": "code",
   "execution_count": 6,
   "metadata": {},
   "outputs": [],
   "source": [
    "%load_ext autoreload\n",
    "%autoreload 2\n",
    "\n",
    "from scraper import Scraper\n",
    "# from scraper import PaddleScraper\n",
    "import time"
   ]
  },
  {
   "cell_type": "code",
   "execution_count": 7,
   "metadata": {},
   "outputs": [
    {
     "name": "stdout",
     "output_type": "stream",
     "text": [
      "\n"
     ]
    }
   ],
   "source": [
    "b=Scraper()\n",
    "a=b.get_info()"
   ]
  },
  {
   "cell_type": "code",
   "execution_count": 8,
   "metadata": {},
   "outputs": [
    {
     "data": {
      "text/plain": [
       "{'unique_id': ['580754011', '573459011', '423750011', '207934011', '77760011'],\n",
       " 'uuid': ['37a61000d816420ebf0efac71384370f',\n",
       "  'd3873c7adf6f4840b6ea270825ce8022',\n",
       "  '2020e0db91ad400da48211823970f3ff',\n",
       "  '56fd27dc8ff449b08cab82347016a109',\n",
       "  'd4801664c7b44cedbeb11861a058de2d'],\n",
       " 'price': ['£3.50', '£2.75', '£3.80', '£2.20', '£3.20'],\n",
       " 'product_name': ['Meatless Farm Plant Based Steak 2 x 105g',\n",
       "  'Meatless Farm Plant-Based Chicken Breast 2 x 105g',\n",
       "  'Ross & Ross Gifts Chilli Rub for Chicken 50g',\n",
       "  'Ocado Lean Beef Steak Mince 5% Fat 250g',\n",
       "  'Ocado Lean Beef Steak Mince 5% Fat 500g'],\n",
       " 'rating_score': ['3.6', '3.0', '4.1', '4.2', '4.3'],\n",
       " 'recommendation_rate': ['73%', '59%', '92%', '83%', '82%'],\n",
       " 'five_stars_rating': ['5', '13', '5', '37', '236'],\n",
       " 'four_stars_rating': ['11', '14', '5', '8', '34'],\n",
       " 'three_stars_rating': ['10', '11', '1', '2', '17'],\n",
       " 'two_stars_rating': ['1', '8', '0', '5', '17'],\n",
       " 'one_star_rating': '30'}"
      ]
     },
     "execution_count": 8,
     "metadata": {},
     "output_type": "execute_result"
    }
   ],
   "source": [
    "a"
   ]
  },
  {
   "cell_type": "code",
   "execution_count": null,
   "metadata": {},
   "outputs": [],
   "source": [
    "from selenium import webdriver\n",
    "from selenium.webdriver.common.keys import Keys\n",
    "from selenium.webdriver.common.by import By\n",
    "from selenium.webdriver.support.ui import WebDriverWait\n",
    "from selenium.webdriver.support import expected_conditions as EC\n",
    "from selenium.webdriver.common.action_chains import ActionChains\n",
    "from selenium.webdriver.common.keys import Keys\n",
    "from webdriver_manager.chrome import ChromeDriverManager\n",
    "# bot=PaddleScraper()\n",
    "\n",
    "# a=bot.find_all_products()\n"
   ]
  },
  {
   "cell_type": "code",
   "execution_count": null,
   "metadata": {},
   "outputs": [],
   "source": [
    "import os\n",
    "directory = \"GeeksforGeeks\"\n",
    "parent_dir = \"C:/Users/44772/Documents/GitHub\\Data-Collection-Pipeline\"\n",
    "path = os.path.join(parent_dir, directory)\n",
    "os.mkdir(path)\n",
    "\n",
    "\n",
    "\n"
   ]
  },
  {
   "cell_type": "code",
   "execution_count": null,
   "metadata": {},
   "outputs": [],
   "source": [
    "from uuid import uuid4\n",
    "\n",
    "\n",
    "q=[]\n",
    "w=uuid4().hex\n",
    "q.append(w)"
   ]
  },
  {
   "cell_type": "code",
   "execution_count": null,
   "metadata": {},
   "outputs": [],
   "source": [
    "a[\"unique_id\",\"uuid\",\"price\",\"product_name\",\"rating_score\"]"
   ]
  },
  {
   "cell_type": "code",
   "execution_count": null,
   "metadata": {},
   "outputs": [],
   "source": [
    "a.pop(\"recommendation_rate\")"
   ]
  },
  {
   "cell_type": "code",
   "execution_count": null,
   "metadata": {},
   "outputs": [],
   "source": [
    "h=pd.DataFrame(a)\n",
    "h['rating_score'].str.contains(\"N/A\", case=False).sum()"
   ]
  },
  {
   "cell_type": "code",
   "execution_count": null,
   "metadata": {},
   "outputs": [],
   "source": [
    "import uuid\n",
    "a=str(uuid.uuid4())\n",
    "a"
   ]
  },
  {
   "cell_type": "code",
   "execution_count": null,
   "metadata": {},
   "outputs": [],
   "source": [
    "bot=Scraper()\n",
    "a=bot.get_info()\n",
    "# c=bot.find_product()"
   ]
  },
  {
   "cell_type": "code",
   "execution_count": null,
   "metadata": {},
   "outputs": [],
   "source": [
    "bot=Scraper(c[301])\n",
    "bot.accept_cookies()\n",
    "a=bot.driver.find_element(By.XPATH,value='//*[@id=\"overview\"]/section[1]/div/div/div[1]/img').get_attribute('src')\n"
   ]
  },
  {
   "cell_type": "code",
   "execution_count": null,
   "metadata": {},
   "outputs": [],
   "source": [
    "import urllib.request\n",
    "urllib.request.urlretrieve(\"https://www.ocado.com/productImages/528/528739011_0_640x640.jpg?identifier=126c6f6ac9eef5a70b9f9a0f5d6fe81a\", \"00000001.jpg\")"
   ]
  },
  {
   "cell_type": "code",
   "execution_count": null,
   "metadata": {},
   "outputs": [],
   "source": [
    "import uuid"
   ]
  },
  {
   "cell_type": "code",
   "execution_count": null,
   "metadata": {},
   "outputs": [],
   "source": [
    "products_dict = [\n",
    "\n",
    "{\n",
    "    \"sku\": 10,\n",
    "    \"title\": \"eggs\",\n",
    "    \"rating\": 5\n",
    "},\n",
    "{\n",
    "    \"sku\": 11,\n",
    "    \"title\": \"bread\",\n",
    "    \"rating\": 5\n",
    "},\n",
    "{\n",
    "    \"sku\": 12,\n",
    "    \"title\": \"milk\",\n",
    "    \"rating\": 5\n",
    "},\n",
    "{\n",
    "    \"sku\": 13,\n",
    "    \"title\": \"salmon\",\n",
    "    \"rating\": 5\n",
    "},\n",
    "{\n",
    "    \"sku\": 14,\n",
    "    \"title\": \"salad\",\n",
    "    \"rating\": 5\n",
    "},\n",
    "\n",
    "]\n",
    "\n",
    "for product in products_dict:\n",
    "    file_name = f\"{product[\"sku\"]}/data.json\"\n",
    "    os.makedirs(os.pathname.dirname(file_name))\n",
    "    with open(file_name, mode=\"w\") as file: \n",
    "        file.write(product\n"
   ]
  },
  {
   "cell_type": "code",
   "execution_count": null,
   "metadata": {},
   "outputs": [],
   "source": [
    "import json\n",
    "\n",
    "# python dictionary with key value pairs\n",
    "dict = {'Python' : '.py', 'C++' : '.cpp', 'Java' : '.java'}\n",
    "\n",
    "# create json object from dictionary\n",
    "json = json.dumps(dict)\n",
    "\n",
    "# open file for writing, \"w\" \n",
    "f = open(\"dict.json\",\"w\")\n",
    "\n",
    "# write json object to file\n",
    "f.write(json)\n",
    "\n",
    "# close file\n",
    "f.close()"
   ]
  },
  {
   "cell_type": "code",
   "execution_count": null,
   "metadata": {},
   "outputs": [],
   "source": [
    "print(a)"
   ]
  },
  {
   "cell_type": "code",
   "execution_count": null,
   "metadata": {},
   "outputs": [],
   "source": [
    "import pandas as pd"
   ]
  },
  {
   "cell_type": "code",
   "execution_count": null,
   "metadata": {},
   "outputs": [],
   "source": [
    "bot=Scraper()\n",
    "c=bot.find_links()"
   ]
  },
  {
   "cell_type": "code",
   "execution_count": null,
   "metadata": {},
   "outputs": [],
   "source": [
    "bot=Scraper()\n",
    "a=bot.get_info()"
   ]
  },
  {
   "cell_type": "code",
   "execution_count": null,
   "metadata": {},
   "outputs": [],
   "source": [
    "len(a)\n",
    "find_all_div_under_li_class=a[1].find_elements(By.XPATH,value='./div')\n",
    "find_url_tag=find_all_div_under_li_class[1].find_element(By.XPATH,\n",
    "                    value='//div[@class=\"fop-contentWrapper\"]')\n",
    "d=find_url_tag.find_element(By.XPATH,value='//a').get_attribute('href')\n",
    "d\n"
   ]
  },
  {
   "cell_type": "code",
   "execution_count": null,
   "metadata": {},
   "outputs": [],
   "source": [
    "\n",
    "b=a[3].find_elements(By.XPATH,value='./div')\n",
    "c=b[1].get_attribute('data-sku')\n",
    "d=b[1].find_elements(By.XPATH,value='./div')\n",
    "e=d[1].find_element(By.XPATH,value='//a').get_attribute('href')"
   ]
  },
  {
   "cell_type": "code",
   "execution_count": null,
   "metadata": {},
   "outputs": [],
   "source": [
    "len(a)\n",
    "a"
   ]
  },
  {
   "cell_type": "code",
   "execution_count": null,
   "metadata": {},
   "outputs": [],
   "source": [
    "import uuid\n",
    "# from uuid import uuid4\n",
    "\n",
    "\n",
    "str(uuid.uuid4())"
   ]
  },
  {
   "cell_type": "code",
   "execution_count": null,
   "metadata": {},
   "outputs": [],
   "source": [
    "a[0].find_element(By.XPATH,value='//a').get_attribute('href')"
   ]
  },
  {
   "cell_type": "code",
   "execution_count": null,
   "metadata": {},
   "outputs": [],
   "source": [
    "len(b)"
   ]
  },
  {
   "cell_type": "code",
   "execution_count": null,
   "metadata": {},
   "outputs": [],
   "source": [
    "import pandas as pd"
   ]
  },
  {
   "cell_type": "code",
   "execution_count": null,
   "metadata": {},
   "outputs": [],
   "source": [
    "container='//ul[@class=\"fops fops-regular fops-shelf\"]',\n",
    "                                              tag= './li'"
   ]
  }
 ],
 "metadata": {
  "kernelspec": {
   "display_name": "Python 3.10.4 ('Data_Collection_AiC')",
   "language": "python",
   "name": "python3"
  },
  "language_info": {
   "codemirror_mode": {
    "name": "ipython",
    "version": 3
   },
   "file_extension": ".py",
   "mimetype": "text/x-python",
   "name": "python",
   "nbconvert_exporter": "python",
   "pygments_lexer": "ipython3",
   "version": "3.10.4"
  },
  "orig_nbformat": 4,
  "vscode": {
   "interpreter": {
    "hash": "53ec01ca0f0aec13aedb9a7a504d27dddcf537b0c3fda53760a67f820ca51f3f"
   }
  }
 },
 "nbformat": 4,
 "nbformat_minor": 2
}
