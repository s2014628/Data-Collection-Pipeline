{
 "cells": [
  {
   "cell_type": "code",
   "execution_count": null,
   "metadata": {},
   "outputs": [],
   "source": [
    "from scraper import Scraper\n",
    "from scraper import PaddleScraper\n",
    "import time\n",
    "if __name__=='__main__':\n",
    "  bot=PaddleScraper()\n",
    "  bot.find_all_products()  \n"
   ]
  },
  {
   "cell_type": "code",
   "execution_count": 4,
   "metadata": {},
   "outputs": [],
   "source": [
    "from scraper import Scraper\n",
    "# from scraper import PaddleScraper\n",
    "import time"
   ]
  },
  {
   "cell_type": "code",
   "execution_count": 5,
   "metadata": {},
   "outputs": [],
   "source": [
    "from selenium import webdriver\n",
    "from selenium.webdriver.common.keys import Keys\n",
    "from selenium.webdriver.common.by import By\n",
    "from selenium.webdriver.support.ui import WebDriverWait\n",
    "from selenium.webdriver.support import expected_conditions as EC\n",
    "from selenium.webdriver.common.action_chains import ActionChains\n",
    "from selenium.webdriver.common.keys import Keys\n",
    "from webdriver_manager.chrome import ChromeDriverManager\n",
    "# bot=PaddleScraper()\n",
    "\n",
    "# a=bot.find_all_products()\n"
   ]
  },
  {
   "cell_type": "code",
   "execution_count": 14,
   "metadata": {},
   "outputs": [
    {
     "data": {
      "text/plain": [
       "400"
      ]
     },
     "execution_count": 14,
     "metadata": {},
     "output_type": "execute_result"
    }
   ],
   "source": [
    "len(a)"
   ]
  },
  {
   "cell_type": "code",
   "execution_count": null,
   "metadata": {},
   "outputs": [],
   "source": [
    "c=a[]"
   ]
  },
  {
   "cell_type": "code",
   "execution_count": 15,
   "metadata": {},
   "outputs": [
    {
     "name": "stdout",
     "output_type": "stream",
     "text": [
      "https://www.ocado.com/webshop/startWebshop.do\n"
     ]
    }
   ],
   "source": [
    "b=a[0].find_element(By.XPATH,value='//a').get_attribute('href')\n",
    "print(b)"
   ]
  },
  {
   "cell_type": "code",
   "execution_count": 13,
   "metadata": {},
   "outputs": [
    {
     "name": "stdout",
     "output_type": "stream",
     "text": [
      "\n"
     ]
    }
   ],
   "source": [
    "bot=Scraper()\n",
    "# time.sleep(1)\n",
    "# bot.accept_cookies()\n",
    "# time.sleep(1)\n",
    "# bot.browse_button()\n",
    "# time.sleep(1)\n",
    "# bot.search_bar()\n",
    "# time.sleep(1)\n",
    "a=bot.find_all_products()\n"
   ]
  },
  {
   "cell_type": "code",
   "execution_count": 24,
   "metadata": {},
   "outputs": [
    {
     "ename": "StaleElementReferenceException",
     "evalue": "Message: stale element reference: element is not attached to the page document\n  (Session info: chrome=103.0.5060.134)\nStacktrace:\nBacktrace:\n\tOrdinal0 [0x00DB5FD3+2187219]\n\tOrdinal0 [0x00D4E6D1+1763025]\n\tOrdinal0 [0x00C63E78+802424]\n\tOrdinal0 [0x00C66854+813140]\n\tOrdinal0 [0x00C66712+812818]\n\tOrdinal0 [0x00C669A0+813472]\n\tOrdinal0 [0x00C91925+989477]\n\tOrdinal0 [0x00C91EAB+990891]\n\tOrdinal0 [0x00C88411+951313]\n\tOrdinal0 [0x00CACBD4+1100756]\n\tOrdinal0 [0x00C88394+951188]\n\tOrdinal0 [0x00CACDA4+1101220]\n\tOrdinal0 [0x00CBCFC2+1167298]\n\tOrdinal0 [0x00CAC9A6+1100198]\n\tOrdinal0 [0x00C86F80+946048]\n\tOrdinal0 [0x00C87E76+949878]\n\tGetHandleVerifier [0x010590C2+2721218]\n\tGetHandleVerifier [0x0104AAF0+2662384]\n\tGetHandleVerifier [0x00E4137A+526458]\n\tGetHandleVerifier [0x00E40416+522518]\n\tOrdinal0 [0x00D54EAB+1789611]\n\tOrdinal0 [0x00D597A8+1808296]\n\tOrdinal0 [0x00D59895+1808533]\n\tOrdinal0 [0x00D626C1+1844929]\n\tBaseThreadInitThunk [0x76476739+25]\n\tRtlGetFullPathName_UEx [0x77BE8FEF+1215]\n\tRtlGetFullPathName_UEx [0x77BE8FBD+1165]\n",
     "output_type": "error",
     "traceback": [
      "\u001b[1;31m---------------------------------------------------------------------------\u001b[0m",
      "\u001b[1;31mStaleElementReferenceException\u001b[0m            Traceback (most recent call last)",
      "\u001b[1;32mc:\\Users\\44772\\Documents\\GitHub\\Data-Collection-Pipeline\\test_new.ipynb Cell 8\u001b[0m in \u001b[0;36m<cell line: 1>\u001b[1;34m()\u001b[0m\n\u001b[1;32m----> <a href='vscode-notebook-cell:/c%3A/Users/44772/Documents/GitHub/Data-Collection-Pipeline/test_new.ipynb#X15sZmlsZQ%3D%3D?line=0'>1</a>\u001b[0m b\u001b[39m=\u001b[39ma[\u001b[39m0\u001b[39;49m]\u001b[39m.\u001b[39;49mfind_element(By\u001b[39m.\u001b[39;49mXPATH,value\u001b[39m=\u001b[39;49m\u001b[39m'\u001b[39;49m\u001b[39m//div[@class=\u001b[39;49m\u001b[39m\"\u001b[39;49m\u001b[39mfop-contentWrapper\u001b[39;49m\u001b[39m\"\u001b[39;49m\u001b[39m]\u001b[39;49m\u001b[39m'\u001b[39;49m)\n",
      "File \u001b[1;32mc:\\Users\\44772\\miniconda3\\envs\\Data_Collection_AiC\\lib\\site-packages\\selenium\\webdriver\\remote\\webelement.py:419\u001b[0m, in \u001b[0;36mWebElement.find_element\u001b[1;34m(self, by, value)\u001b[0m\n\u001b[0;32m    416\u001b[0m     by \u001b[39m=\u001b[39m By\u001b[39m.\u001b[39mCSS_SELECTOR\n\u001b[0;32m    417\u001b[0m     value \u001b[39m=\u001b[39m \u001b[39m'\u001b[39m\u001b[39m[name=\u001b[39m\u001b[39m\"\u001b[39m\u001b[39m%s\u001b[39;00m\u001b[39m\"\u001b[39m\u001b[39m]\u001b[39m\u001b[39m'\u001b[39m \u001b[39m%\u001b[39m value\n\u001b[1;32m--> 419\u001b[0m \u001b[39mreturn\u001b[39;00m \u001b[39mself\u001b[39;49m\u001b[39m.\u001b[39;49m_execute(Command\u001b[39m.\u001b[39;49mFIND_CHILD_ELEMENT,\n\u001b[0;32m    420\u001b[0m                      {\u001b[39m\"\u001b[39;49m\u001b[39musing\u001b[39;49m\u001b[39m\"\u001b[39;49m: by, \u001b[39m\"\u001b[39;49m\u001b[39mvalue\u001b[39;49m\u001b[39m\"\u001b[39;49m: value})[\u001b[39m'\u001b[39m\u001b[39mvalue\u001b[39m\u001b[39m'\u001b[39m]\n",
      "File \u001b[1;32mc:\\Users\\44772\\miniconda3\\envs\\Data_Collection_AiC\\lib\\site-packages\\selenium\\webdriver\\remote\\webelement.py:396\u001b[0m, in \u001b[0;36mWebElement._execute\u001b[1;34m(self, command, params)\u001b[0m\n\u001b[0;32m    394\u001b[0m     params \u001b[39m=\u001b[39m {}\n\u001b[0;32m    395\u001b[0m params[\u001b[39m'\u001b[39m\u001b[39mid\u001b[39m\u001b[39m'\u001b[39m] \u001b[39m=\u001b[39m \u001b[39mself\u001b[39m\u001b[39m.\u001b[39m_id\n\u001b[1;32m--> 396\u001b[0m \u001b[39mreturn\u001b[39;00m \u001b[39mself\u001b[39;49m\u001b[39m.\u001b[39;49m_parent\u001b[39m.\u001b[39;49mexecute(command, params)\n",
      "File \u001b[1;32mc:\\Users\\44772\\miniconda3\\envs\\Data_Collection_AiC\\lib\\site-packages\\selenium\\webdriver\\remote\\webdriver.py:435\u001b[0m, in \u001b[0;36mWebDriver.execute\u001b[1;34m(self, driver_command, params)\u001b[0m\n\u001b[0;32m    433\u001b[0m response \u001b[39m=\u001b[39m \u001b[39mself\u001b[39m\u001b[39m.\u001b[39mcommand_executor\u001b[39m.\u001b[39mexecute(driver_command, params)\n\u001b[0;32m    434\u001b[0m \u001b[39mif\u001b[39;00m response:\n\u001b[1;32m--> 435\u001b[0m     \u001b[39mself\u001b[39;49m\u001b[39m.\u001b[39;49merror_handler\u001b[39m.\u001b[39;49mcheck_response(response)\n\u001b[0;32m    436\u001b[0m     response[\u001b[39m'\u001b[39m\u001b[39mvalue\u001b[39m\u001b[39m'\u001b[39m] \u001b[39m=\u001b[39m \u001b[39mself\u001b[39m\u001b[39m.\u001b[39m_unwrap_value(\n\u001b[0;32m    437\u001b[0m         response\u001b[39m.\u001b[39mget(\u001b[39m'\u001b[39m\u001b[39mvalue\u001b[39m\u001b[39m'\u001b[39m, \u001b[39mNone\u001b[39;00m))\n\u001b[0;32m    438\u001b[0m     \u001b[39mreturn\u001b[39;00m response\n",
      "File \u001b[1;32mc:\\Users\\44772\\miniconda3\\envs\\Data_Collection_AiC\\lib\\site-packages\\selenium\\webdriver\\remote\\errorhandler.py:247\u001b[0m, in \u001b[0;36mErrorHandler.check_response\u001b[1;34m(self, response)\u001b[0m\n\u001b[0;32m    245\u001b[0m         alert_text \u001b[39m=\u001b[39m value[\u001b[39m'\u001b[39m\u001b[39malert\u001b[39m\u001b[39m'\u001b[39m]\u001b[39m.\u001b[39mget(\u001b[39m'\u001b[39m\u001b[39mtext\u001b[39m\u001b[39m'\u001b[39m)\n\u001b[0;32m    246\u001b[0m     \u001b[39mraise\u001b[39;00m exception_class(message, screen, stacktrace, alert_text)  \u001b[39m# type: ignore[call-arg]  # mypy is not smart enough here\u001b[39;00m\n\u001b[1;32m--> 247\u001b[0m \u001b[39mraise\u001b[39;00m exception_class(message, screen, stacktrace)\n",
      "\u001b[1;31mStaleElementReferenceException\u001b[0m: Message: stale element reference: element is not attached to the page document\n  (Session info: chrome=103.0.5060.134)\nStacktrace:\nBacktrace:\n\tOrdinal0 [0x00DB5FD3+2187219]\n\tOrdinal0 [0x00D4E6D1+1763025]\n\tOrdinal0 [0x00C63E78+802424]\n\tOrdinal0 [0x00C66854+813140]\n\tOrdinal0 [0x00C66712+812818]\n\tOrdinal0 [0x00C669A0+813472]\n\tOrdinal0 [0x00C91925+989477]\n\tOrdinal0 [0x00C91EAB+990891]\n\tOrdinal0 [0x00C88411+951313]\n\tOrdinal0 [0x00CACBD4+1100756]\n\tOrdinal0 [0x00C88394+951188]\n\tOrdinal0 [0x00CACDA4+1101220]\n\tOrdinal0 [0x00CBCFC2+1167298]\n\tOrdinal0 [0x00CAC9A6+1100198]\n\tOrdinal0 [0x00C86F80+946048]\n\tOrdinal0 [0x00C87E76+949878]\n\tGetHandleVerifier [0x010590C2+2721218]\n\tGetHandleVerifier [0x0104AAF0+2662384]\n\tGetHandleVerifier [0x00E4137A+526458]\n\tGetHandleVerifier [0x00E40416+522518]\n\tOrdinal0 [0x00D54EAB+1789611]\n\tOrdinal0 [0x00D597A8+1808296]\n\tOrdinal0 [0x00D59895+1808533]\n\tOrdinal0 [0x00D626C1+1844929]\n\tBaseThreadInitThunk [0x76476739+25]\n\tRtlGetFullPathName_UEx [0x77BE8FEF+1215]\n\tRtlGetFullPathName_UEx [0x77BE8FBD+1165]\n"
     ]
    }
   ],
   "source": [
    "b=a[0].find_element(By.XPATH,value='//div[@class=\"fop-contentWrapper\"]')"
   ]
  },
  {
   "cell_type": "code",
   "execution_count": null,
   "metadata": {},
   "outputs": [],
   "source": [
    "len(a)"
   ]
  },
  {
   "cell_type": "code",
   "execution_count": null,
   "metadata": {},
   "outputs": [],
   "source": [
    "a[0]"
   ]
  },
  {
   "cell_type": "code",
   "execution_count": null,
   "metadata": {},
   "outputs": [],
   "source": [
    "a[0].find_element(By.XPATH,value='//a').get_attribute('href')"
   ]
  },
  {
   "cell_type": "code",
   "execution_count": null,
   "metadata": {},
   "outputs": [],
   "source": [
    "len(b)"
   ]
  },
  {
   "cell_type": "code",
   "execution_count": null,
   "metadata": {},
   "outputs": [],
   "source": [
    "container='//ul[@class=\"fops fops-regular fops-shelf\"]',\n",
    "                                              tag= './li'"
   ]
  }
 ],
 "metadata": {
  "kernelspec": {
   "display_name": "Python 3.10.4 ('Data_Collection_AiC')",
   "language": "python",
   "name": "python3"
  },
  "language_info": {
   "codemirror_mode": {
    "name": "ipython",
    "version": 3
   },
   "file_extension": ".py",
   "mimetype": "text/x-python",
   "name": "python",
   "nbconvert_exporter": "python",
   "pygments_lexer": "ipython3",
   "version": "3.10.4"
  },
  "orig_nbformat": 4,
  "vscode": {
   "interpreter": {
    "hash": "53ec01ca0f0aec13aedb9a7a504d27dddcf537b0c3fda53760a67f820ca51f3f"
   }
  }
 },
 "nbformat": 4,
 "nbformat_minor": 2
}
