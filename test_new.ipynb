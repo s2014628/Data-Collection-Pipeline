{
 "cells": [
  {
   "cell_type": "code",
   "execution_count": null,
   "metadata": {},
   "outputs": [],
   "source": [
    "from scraper import Scraper\n",
    "from scraper import PaddleScraper\n",
    "import time\n",
    "if __name__=='__main__':\n",
    "  bot=PaddleScraper()\n",
    "  bot.find_all_products()  \n"
   ]
  },
  {
   "cell_type": "code",
   "execution_count": 1,
   "metadata": {},
   "outputs": [],
   "source": [
    "from scraper import Scraper\n",
    "# from scraper import PaddleScraper\n",
    "import time"
   ]
  },
  {
   "cell_type": "code",
   "execution_count": null,
   "metadata": {},
   "outputs": [],
   "source": [
    "from selenium import webdriver\n",
    "from selenium.webdriver.common.keys import Keys\n",
    "from selenium.webdriver.common.by import By\n",
    "from selenium.webdriver.support.ui import WebDriverWait\n",
    "from selenium.webdriver.support import expected_conditions as EC\n",
    "from selenium.webdriver.common.action_chains import ActionChains\n",
    "from selenium.webdriver.common.keys import Keys\n",
    "from webdriver_manager.chrome import ChromeDriverManager\n",
    "# bot=PaddleScraper()\n",
    "\n",
    "# a=bot.find_all_products()\n"
   ]
  },
  {
   "cell_type": "code",
   "execution_count": null,
   "metadata": {},
   "outputs": [],
   "source": [
    "len(a)"
   ]
  },
  {
   "cell_type": "code",
   "execution_count": null,
   "metadata": {},
   "outputs": [],
   "source": [
    "import uuid\n",
    "a=str(uuid.uuid4())\n",
    "a"
   ]
  },
  {
   "cell_type": "code",
   "execution_count": null,
   "metadata": {},
   "outputs": [],
   "source": [
    "b=a[0].find_element(By.XPATH,value=).get_attribute('href')\n",
    "print(b)"
   ]
  },
  {
   "cell_type": "code",
   "execution_count": 2,
   "metadata": {},
   "outputs": [
    {
     "name": "stdout",
     "output_type": "stream",
     "text": [
      "['https://www.ocado.com/webshop/startWebshop.do', 'https://www.ocado.com/webshop/startWebshop.do', 'https://www.ocado.com/webshop/startWebshop.do', 'https://www.ocado.com/webshop/startWebshop.do', 'https://www.ocado.com/webshop/startWebshop.do', 'https://www.ocado.com/webshop/startWebshop.do', 'https://www.ocado.com/webshop/startWebshop.do', 'https://www.ocado.com/webshop/startWebshop.do', 'https://www.ocado.com/webshop/startWebshop.do', 'https://www.ocado.com/webshop/startWebshop.do', 'https://www.ocado.com/webshop/startWebshop.do', 'https://www.ocado.com/webshop/startWebshop.do', 'https://www.ocado.com/webshop/startWebshop.do', 'https://www.ocado.com/webshop/startWebshop.do', 'https://www.ocado.com/webshop/startWebshop.do', 'https://www.ocado.com/webshop/startWebshop.do', 'https://www.ocado.com/webshop/startWebshop.do', 'https://www.ocado.com/webshop/startWebshop.do', 'https://www.ocado.com/webshop/startWebshop.do', 'https://www.ocado.com/webshop/startWebshop.do', 'https://www.ocado.com/webshop/startWebshop.do', 'https://www.ocado.com/webshop/startWebshop.do', 'https://www.ocado.com/webshop/startWebshop.do', 'https://www.ocado.com/webshop/startWebshop.do', 'https://www.ocado.com/webshop/startWebshop.do', 'https://www.ocado.com/webshop/startWebshop.do', 'https://www.ocado.com/webshop/startWebshop.do', 'https://www.ocado.com/webshop/startWebshop.do', 'https://www.ocado.com/webshop/startWebshop.do', 'https://www.ocado.com/webshop/startWebshop.do', 'https://www.ocado.com/webshop/startWebshop.do', 'https://www.ocado.com/webshop/startWebshop.do', 'https://www.ocado.com/webshop/startWebshop.do', 'https://www.ocado.com/webshop/startWebshop.do', 'https://www.ocado.com/webshop/startWebshop.do', 'https://www.ocado.com/webshop/startWebshop.do', 'https://www.ocado.com/webshop/startWebshop.do', 'https://www.ocado.com/webshop/startWebshop.do', 'https://www.ocado.com/webshop/startWebshop.do', 'https://www.ocado.com/webshop/startWebshop.do', 'https://www.ocado.com/webshop/startWebshop.do', 'https://www.ocado.com/webshop/startWebshop.do', 'https://www.ocado.com/webshop/startWebshop.do', 'https://www.ocado.com/webshop/startWebshop.do', 'https://www.ocado.com/webshop/startWebshop.do', 'https://www.ocado.com/webshop/startWebshop.do', 'https://www.ocado.com/webshop/startWebshop.do', 'https://www.ocado.com/webshop/startWebshop.do', 'https://www.ocado.com/webshop/startWebshop.do', 'https://www.ocado.com/webshop/startWebshop.do', 'https://www.ocado.com/webshop/startWebshop.do', 'https://www.ocado.com/webshop/startWebshop.do', 'https://www.ocado.com/webshop/startWebshop.do', 'https://www.ocado.com/webshop/startWebshop.do', 'https://www.ocado.com/webshop/startWebshop.do', 'https://www.ocado.com/webshop/startWebshop.do', 'https://www.ocado.com/webshop/startWebshop.do', 'https://www.ocado.com/webshop/startWebshop.do', 'https://www.ocado.com/webshop/startWebshop.do', 'https://www.ocado.com/webshop/startWebshop.do', 'https://www.ocado.com/webshop/startWebshop.do', 'https://www.ocado.com/webshop/startWebshop.do', 'https://www.ocado.com/webshop/startWebshop.do', 'https://www.ocado.com/webshop/startWebshop.do', 'https://www.ocado.com/webshop/startWebshop.do', 'https://www.ocado.com/webshop/startWebshop.do', 'https://www.ocado.com/webshop/startWebshop.do', 'https://www.ocado.com/webshop/startWebshop.do', 'https://www.ocado.com/webshop/startWebshop.do', 'https://www.ocado.com/webshop/startWebshop.do', 'https://www.ocado.com/webshop/startWebshop.do', 'https://www.ocado.com/webshop/startWebshop.do', 'https://www.ocado.com/webshop/startWebshop.do', 'https://www.ocado.com/webshop/startWebshop.do', 'https://www.ocado.com/webshop/startWebshop.do', 'https://www.ocado.com/webshop/startWebshop.do', 'https://www.ocado.com/webshop/startWebshop.do', 'https://www.ocado.com/webshop/startWebshop.do', 'https://www.ocado.com/webshop/startWebshop.do', 'https://www.ocado.com/webshop/startWebshop.do', 'https://www.ocado.com/webshop/startWebshop.do', 'https://www.ocado.com/webshop/startWebshop.do', 'https://www.ocado.com/webshop/startWebshop.do', 'https://www.ocado.com/webshop/startWebshop.do', 'https://www.ocado.com/webshop/startWebshop.do', 'https://www.ocado.com/webshop/startWebshop.do', 'https://www.ocado.com/webshop/startWebshop.do', 'https://www.ocado.com/webshop/startWebshop.do', 'https://www.ocado.com/webshop/startWebshop.do', 'https://www.ocado.com/webshop/startWebshop.do', 'https://www.ocado.com/webshop/startWebshop.do', 'https://www.ocado.com/webshop/startWebshop.do', 'https://www.ocado.com/webshop/startWebshop.do', 'https://www.ocado.com/webshop/startWebshop.do', 'https://www.ocado.com/webshop/startWebshop.do', 'https://www.ocado.com/webshop/startWebshop.do', 'https://www.ocado.com/webshop/startWebshop.do', 'https://www.ocado.com/webshop/startWebshop.do', 'https://www.ocado.com/webshop/startWebshop.do', 'https://www.ocado.com/webshop/startWebshop.do', 'https://www.ocado.com/webshop/startWebshop.do', 'https://www.ocado.com/webshop/startWebshop.do', 'https://www.ocado.com/webshop/startWebshop.do', 'https://www.ocado.com/webshop/startWebshop.do', 'https://www.ocado.com/webshop/startWebshop.do', 'https://www.ocado.com/webshop/startWebshop.do', 'https://www.ocado.com/webshop/startWebshop.do', 'https://www.ocado.com/webshop/startWebshop.do', 'https://www.ocado.com/webshop/startWebshop.do', 'https://www.ocado.com/webshop/startWebshop.do', 'https://www.ocado.com/webshop/startWebshop.do', 'https://www.ocado.com/webshop/startWebshop.do', 'https://www.ocado.com/webshop/startWebshop.do', 'https://www.ocado.com/webshop/startWebshop.do', 'https://www.ocado.com/webshop/startWebshop.do', 'https://www.ocado.com/webshop/startWebshop.do', 'https://www.ocado.com/webshop/startWebshop.do', 'https://www.ocado.com/webshop/startWebshop.do', 'https://www.ocado.com/webshop/startWebshop.do', 'https://www.ocado.com/webshop/startWebshop.do', 'https://www.ocado.com/webshop/startWebshop.do', 'https://www.ocado.com/webshop/startWebshop.do', 'https://www.ocado.com/webshop/startWebshop.do', 'https://www.ocado.com/webshop/startWebshop.do', 'https://www.ocado.com/webshop/startWebshop.do', 'https://www.ocado.com/webshop/startWebshop.do', 'https://www.ocado.com/webshop/startWebshop.do', 'https://www.ocado.com/webshop/startWebshop.do', 'https://www.ocado.com/webshop/startWebshop.do', 'https://www.ocado.com/webshop/startWebshop.do', 'https://www.ocado.com/webshop/startWebshop.do', 'https://www.ocado.com/webshop/startWebshop.do', 'https://www.ocado.com/webshop/startWebshop.do', 'https://www.ocado.com/webshop/startWebshop.do', 'https://www.ocado.com/webshop/startWebshop.do', 'https://www.ocado.com/webshop/startWebshop.do', 'https://www.ocado.com/webshop/startWebshop.do', 'https://www.ocado.com/webshop/startWebshop.do', 'https://www.ocado.com/webshop/startWebshop.do', 'https://www.ocado.com/webshop/startWebshop.do', 'https://www.ocado.com/webshop/startWebshop.do', 'https://www.ocado.com/webshop/startWebshop.do', 'https://www.ocado.com/webshop/startWebshop.do', 'https://www.ocado.com/webshop/startWebshop.do', 'https://www.ocado.com/webshop/startWebshop.do', 'https://www.ocado.com/webshop/startWebshop.do', 'https://www.ocado.com/webshop/startWebshop.do', 'https://www.ocado.com/webshop/startWebshop.do', 'https://www.ocado.com/webshop/startWebshop.do', 'https://www.ocado.com/webshop/startWebshop.do', 'https://www.ocado.com/webshop/startWebshop.do', 'https://www.ocado.com/webshop/startWebshop.do', 'https://www.ocado.com/webshop/startWebshop.do', 'https://www.ocado.com/webshop/startWebshop.do', 'https://www.ocado.com/webshop/startWebshop.do', 'https://www.ocado.com/webshop/startWebshop.do', 'https://www.ocado.com/webshop/startWebshop.do', 'https://www.ocado.com/webshop/startWebshop.do', 'https://www.ocado.com/webshop/startWebshop.do', 'https://www.ocado.com/webshop/startWebshop.do', 'https://www.ocado.com/webshop/startWebshop.do', 'https://www.ocado.com/webshop/startWebshop.do', 'https://www.ocado.com/webshop/startWebshop.do', 'https://www.ocado.com/webshop/startWebshop.do', 'https://www.ocado.com/webshop/startWebshop.do', 'https://www.ocado.com/webshop/startWebshop.do', 'https://www.ocado.com/webshop/startWebshop.do', 'https://www.ocado.com/webshop/startWebshop.do', 'https://www.ocado.com/webshop/startWebshop.do', 'https://www.ocado.com/webshop/startWebshop.do', 'https://www.ocado.com/webshop/startWebshop.do', 'https://www.ocado.com/webshop/startWebshop.do', 'https://www.ocado.com/webshop/startWebshop.do', 'https://www.ocado.com/webshop/startWebshop.do', 'https://www.ocado.com/webshop/startWebshop.do', 'https://www.ocado.com/webshop/startWebshop.do', 'https://www.ocado.com/webshop/startWebshop.do', 'https://www.ocado.com/webshop/startWebshop.do', 'https://www.ocado.com/webshop/startWebshop.do', 'https://www.ocado.com/webshop/startWebshop.do', 'https://www.ocado.com/webshop/startWebshop.do', 'https://www.ocado.com/webshop/startWebshop.do', 'https://www.ocado.com/webshop/startWebshop.do', 'https://www.ocado.com/webshop/startWebshop.do', 'https://www.ocado.com/webshop/startWebshop.do', 'https://www.ocado.com/webshop/startWebshop.do', 'https://www.ocado.com/webshop/startWebshop.do', 'https://www.ocado.com/webshop/startWebshop.do', 'https://www.ocado.com/webshop/startWebshop.do', 'https://www.ocado.com/webshop/startWebshop.do', 'https://www.ocado.com/webshop/startWebshop.do', 'https://www.ocado.com/webshop/startWebshop.do', 'https://www.ocado.com/webshop/startWebshop.do', 'https://www.ocado.com/webshop/startWebshop.do', 'https://www.ocado.com/webshop/startWebshop.do', 'https://www.ocado.com/webshop/startWebshop.do', 'https://www.ocado.com/webshop/startWebshop.do', 'https://www.ocado.com/webshop/startWebshop.do', 'https://www.ocado.com/webshop/startWebshop.do', 'https://www.ocado.com/webshop/startWebshop.do', 'https://www.ocado.com/webshop/startWebshop.do', 'https://www.ocado.com/webshop/startWebshop.do', 'https://www.ocado.com/webshop/startWebshop.do', 'https://www.ocado.com/webshop/startWebshop.do', 'https://www.ocado.com/webshop/startWebshop.do', 'https://www.ocado.com/webshop/startWebshop.do', 'https://www.ocado.com/webshop/startWebshop.do', 'https://www.ocado.com/webshop/startWebshop.do', 'https://www.ocado.com/webshop/startWebshop.do', 'https://www.ocado.com/webshop/startWebshop.do', 'https://www.ocado.com/webshop/startWebshop.do', 'https://www.ocado.com/webshop/startWebshop.do', 'https://www.ocado.com/webshop/startWebshop.do', 'https://www.ocado.com/webshop/startWebshop.do', 'https://www.ocado.com/webshop/startWebshop.do', 'https://www.ocado.com/webshop/startWebshop.do', 'https://www.ocado.com/webshop/startWebshop.do', 'https://www.ocado.com/webshop/startWebshop.do', 'https://www.ocado.com/webshop/startWebshop.do', 'https://www.ocado.com/webshop/startWebshop.do', 'https://www.ocado.com/webshop/startWebshop.do', 'https://www.ocado.com/webshop/startWebshop.do', 'https://www.ocado.com/webshop/startWebshop.do', 'https://www.ocado.com/webshop/startWebshop.do', 'https://www.ocado.com/webshop/startWebshop.do', 'https://www.ocado.com/webshop/startWebshop.do', 'https://www.ocado.com/webshop/startWebshop.do', 'https://www.ocado.com/webshop/startWebshop.do', 'https://www.ocado.com/webshop/startWebshop.do', 'https://www.ocado.com/webshop/startWebshop.do', 'https://www.ocado.com/webshop/startWebshop.do', 'https://www.ocado.com/webshop/startWebshop.do', 'https://www.ocado.com/webshop/startWebshop.do', 'https://www.ocado.com/webshop/startWebshop.do', 'https://www.ocado.com/webshop/startWebshop.do', 'https://www.ocado.com/webshop/startWebshop.do', 'https://www.ocado.com/webshop/startWebshop.do', 'https://www.ocado.com/webshop/startWebshop.do', 'https://www.ocado.com/webshop/startWebshop.do', 'https://www.ocado.com/webshop/startWebshop.do', 'https://www.ocado.com/webshop/startWebshop.do', 'https://www.ocado.com/webshop/startWebshop.do', 'https://www.ocado.com/webshop/startWebshop.do', 'https://www.ocado.com/webshop/startWebshop.do', 'https://www.ocado.com/webshop/startWebshop.do', 'https://www.ocado.com/webshop/startWebshop.do', 'https://www.ocado.com/webshop/startWebshop.do', 'https://www.ocado.com/webshop/startWebshop.do', 'https://www.ocado.com/webshop/startWebshop.do', 'https://www.ocado.com/webshop/startWebshop.do', 'https://www.ocado.com/webshop/startWebshop.do', 'https://www.ocado.com/webshop/startWebshop.do', 'https://www.ocado.com/webshop/startWebshop.do', 'https://www.ocado.com/webshop/startWebshop.do', 'https://www.ocado.com/webshop/startWebshop.do', 'https://www.ocado.com/webshop/startWebshop.do', 'https://www.ocado.com/webshop/startWebshop.do', 'https://www.ocado.com/webshop/startWebshop.do', 'https://www.ocado.com/webshop/startWebshop.do', 'https://www.ocado.com/webshop/startWebshop.do', 'https://www.ocado.com/webshop/startWebshop.do', 'https://www.ocado.com/webshop/startWebshop.do', 'https://www.ocado.com/webshop/startWebshop.do', 'https://www.ocado.com/webshop/startWebshop.do', 'https://www.ocado.com/webshop/startWebshop.do', 'https://www.ocado.com/webshop/startWebshop.do', 'https://www.ocado.com/webshop/startWebshop.do', 'https://www.ocado.com/webshop/startWebshop.do', 'https://www.ocado.com/webshop/startWebshop.do', 'https://www.ocado.com/webshop/startWebshop.do', 'https://www.ocado.com/webshop/startWebshop.do', 'https://www.ocado.com/webshop/startWebshop.do', 'https://www.ocado.com/webshop/startWebshop.do', 'https://www.ocado.com/webshop/startWebshop.do', 'https://www.ocado.com/webshop/startWebshop.do', 'https://www.ocado.com/webshop/startWebshop.do', 'https://www.ocado.com/webshop/startWebshop.do', 'https://www.ocado.com/webshop/startWebshop.do', 'https://www.ocado.com/webshop/startWebshop.do', 'https://www.ocado.com/webshop/startWebshop.do', 'https://www.ocado.com/webshop/startWebshop.do', 'https://www.ocado.com/webshop/startWebshop.do', 'https://www.ocado.com/webshop/startWebshop.do', 'https://www.ocado.com/webshop/startWebshop.do', 'https://www.ocado.com/webshop/startWebshop.do', 'https://www.ocado.com/webshop/startWebshop.do', 'https://www.ocado.com/webshop/startWebshop.do', 'https://www.ocado.com/webshop/startWebshop.do', 'https://www.ocado.com/webshop/startWebshop.do', 'https://www.ocado.com/webshop/startWebshop.do', 'https://www.ocado.com/webshop/startWebshop.do', 'https://www.ocado.com/webshop/startWebshop.do', 'https://www.ocado.com/webshop/startWebshop.do', 'https://www.ocado.com/webshop/startWebshop.do', 'https://www.ocado.com/webshop/startWebshop.do', 'https://www.ocado.com/webshop/startWebshop.do', 'https://www.ocado.com/webshop/startWebshop.do', 'https://www.ocado.com/webshop/startWebshop.do', 'https://www.ocado.com/webshop/startWebshop.do', 'https://www.ocado.com/webshop/startWebshop.do', 'https://www.ocado.com/webshop/startWebshop.do', 'https://www.ocado.com/webshop/startWebshop.do', 'https://www.ocado.com/webshop/startWebshop.do', 'https://www.ocado.com/webshop/startWebshop.do', 'https://www.ocado.com/webshop/startWebshop.do', 'https://www.ocado.com/webshop/startWebshop.do', 'https://www.ocado.com/webshop/startWebshop.do', 'https://www.ocado.com/webshop/startWebshop.do', 'https://www.ocado.com/webshop/startWebshop.do', 'https://www.ocado.com/webshop/startWebshop.do', 'https://www.ocado.com/webshop/startWebshop.do', 'https://www.ocado.com/webshop/startWebshop.do', 'https://www.ocado.com/webshop/startWebshop.do', 'https://www.ocado.com/webshop/startWebshop.do', 'https://www.ocado.com/webshop/startWebshop.do', 'https://www.ocado.com/webshop/startWebshop.do', 'https://www.ocado.com/webshop/startWebshop.do', 'https://www.ocado.com/webshop/startWebshop.do', 'https://www.ocado.com/webshop/startWebshop.do', 'https://www.ocado.com/webshop/startWebshop.do', 'https://www.ocado.com/webshop/startWebshop.do', 'https://www.ocado.com/webshop/startWebshop.do', 'https://www.ocado.com/webshop/startWebshop.do', 'https://www.ocado.com/webshop/startWebshop.do', 'https://www.ocado.com/webshop/startWebshop.do', 'https://www.ocado.com/webshop/startWebshop.do', 'https://www.ocado.com/webshop/startWebshop.do', 'https://www.ocado.com/webshop/startWebshop.do', 'https://www.ocado.com/webshop/startWebshop.do', 'https://www.ocado.com/webshop/startWebshop.do', 'https://www.ocado.com/webshop/startWebshop.do', 'https://www.ocado.com/webshop/startWebshop.do', 'https://www.ocado.com/webshop/startWebshop.do', 'https://www.ocado.com/webshop/startWebshop.do', 'https://www.ocado.com/webshop/startWebshop.do', 'https://www.ocado.com/webshop/startWebshop.do', 'https://www.ocado.com/webshop/startWebshop.do', 'https://www.ocado.com/webshop/startWebshop.do', 'https://www.ocado.com/webshop/startWebshop.do', 'https://www.ocado.com/webshop/startWebshop.do', 'https://www.ocado.com/webshop/startWebshop.do', 'https://www.ocado.com/webshop/startWebshop.do', 'https://www.ocado.com/webshop/startWebshop.do', 'https://www.ocado.com/webshop/startWebshop.do', 'https://www.ocado.com/webshop/startWebshop.do', 'https://www.ocado.com/webshop/startWebshop.do', 'https://www.ocado.com/webshop/startWebshop.do', 'https://www.ocado.com/webshop/startWebshop.do', 'https://www.ocado.com/webshop/startWebshop.do', 'https://www.ocado.com/webshop/startWebshop.do', 'https://www.ocado.com/webshop/startWebshop.do', 'https://www.ocado.com/webshop/startWebshop.do', 'https://www.ocado.com/webshop/startWebshop.do', 'https://www.ocado.com/webshop/startWebshop.do', 'https://www.ocado.com/webshop/startWebshop.do', 'https://www.ocado.com/webshop/startWebshop.do', 'https://www.ocado.com/webshop/startWebshop.do', 'https://www.ocado.com/webshop/startWebshop.do', 'https://www.ocado.com/webshop/startWebshop.do', 'https://www.ocado.com/webshop/startWebshop.do', 'https://www.ocado.com/webshop/startWebshop.do', 'https://www.ocado.com/webshop/startWebshop.do', 'https://www.ocado.com/webshop/startWebshop.do', 'https://www.ocado.com/webshop/startWebshop.do', 'https://www.ocado.com/webshop/startWebshop.do', 'https://www.ocado.com/webshop/startWebshop.do', 'https://www.ocado.com/webshop/startWebshop.do', 'https://www.ocado.com/webshop/startWebshop.do', 'https://www.ocado.com/webshop/startWebshop.do', 'https://www.ocado.com/webshop/startWebshop.do', 'https://www.ocado.com/webshop/startWebshop.do', 'https://www.ocado.com/webshop/startWebshop.do', 'https://www.ocado.com/webshop/startWebshop.do', 'https://www.ocado.com/webshop/startWebshop.do', 'https://www.ocado.com/webshop/startWebshop.do', 'https://www.ocado.com/webshop/startWebshop.do', 'https://www.ocado.com/webshop/startWebshop.do', 'https://www.ocado.com/webshop/startWebshop.do', 'https://www.ocado.com/webshop/startWebshop.do', 'https://www.ocado.com/webshop/startWebshop.do', 'https://www.ocado.com/webshop/startWebshop.do', 'https://www.ocado.com/webshop/startWebshop.do', 'https://www.ocado.com/webshop/startWebshop.do', 'https://www.ocado.com/webshop/startWebshop.do', 'https://www.ocado.com/webshop/startWebshop.do', 'https://www.ocado.com/webshop/startWebshop.do', 'https://www.ocado.com/webshop/startWebshop.do', 'https://www.ocado.com/webshop/startWebshop.do', 'https://www.ocado.com/webshop/startWebshop.do', 'https://www.ocado.com/webshop/startWebshop.do', 'https://www.ocado.com/webshop/startWebshop.do', 'https://www.ocado.com/webshop/startWebshop.do', 'https://www.ocado.com/webshop/startWebshop.do', 'https://www.ocado.com/webshop/startWebshop.do', 'https://www.ocado.com/webshop/startWebshop.do', 'https://www.ocado.com/webshop/startWebshop.do', 'https://www.ocado.com/webshop/startWebshop.do', 'https://www.ocado.com/webshop/startWebshop.do', 'https://www.ocado.com/webshop/startWebshop.do', 'https://www.ocado.com/webshop/startWebshop.do']\n"
     ]
    },
    {
     "ename": "NameError",
     "evalue": "name 'food_products' is not defined",
     "output_type": "error",
     "traceback": [
      "\u001b[1;31m---------------------------------------------------------------------------\u001b[0m",
      "\u001b[1;31mNameError\u001b[0m                                 Traceback (most recent call last)",
      "\u001b[1;32mc:\\Users\\44772\\Documents\\GitHub\\Data-Collection-Pipeline\\test_new.ipynb Cell 7\u001b[0m in \u001b[0;36m<cell line: 9>\u001b[1;34m()\u001b[0m\n\u001b[0;32m      <a href='vscode-notebook-cell:/c%3A/Users/44772/Documents/GitHub/Data-Collection-Pipeline/test_new.ipynb#W6sZmlsZQ%3D%3D?line=0'>1</a>\u001b[0m bot\u001b[39m=\u001b[39mScraper()\n\u001b[0;32m      <a href='vscode-notebook-cell:/c%3A/Users/44772/Documents/GitHub/Data-Collection-Pipeline/test_new.ipynb#W6sZmlsZQ%3D%3D?line=1'>2</a>\u001b[0m \u001b[39m# time.sleep(1)\u001b[39;00m\n\u001b[0;32m      <a href='vscode-notebook-cell:/c%3A/Users/44772/Documents/GitHub/Data-Collection-Pipeline/test_new.ipynb#W6sZmlsZQ%3D%3D?line=2'>3</a>\u001b[0m \u001b[39m# bot.accept_cookies()\u001b[39;00m\n\u001b[0;32m      <a href='vscode-notebook-cell:/c%3A/Users/44772/Documents/GitHub/Data-Collection-Pipeline/test_new.ipynb#W6sZmlsZQ%3D%3D?line=3'>4</a>\u001b[0m \u001b[39m# time.sleep(1)\u001b[39;00m\n\u001b[1;32m   (...)\u001b[0m\n\u001b[0;32m      <a href='vscode-notebook-cell:/c%3A/Users/44772/Documents/GitHub/Data-Collection-Pipeline/test_new.ipynb#W6sZmlsZQ%3D%3D?line=6'>7</a>\u001b[0m \u001b[39m# bot.search_bar()\u001b[39;00m\n\u001b[0;32m      <a href='vscode-notebook-cell:/c%3A/Users/44772/Documents/GitHub/Data-Collection-Pipeline/test_new.ipynb#W6sZmlsZQ%3D%3D?line=7'>8</a>\u001b[0m \u001b[39m# time.sleep(1)\u001b[39;00m\n\u001b[1;32m----> <a href='vscode-notebook-cell:/c%3A/Users/44772/Documents/GitHub/Data-Collection-Pipeline/test_new.ipynb#W6sZmlsZQ%3D%3D?line=8'>9</a>\u001b[0m a\u001b[39m=\u001b[39mbot\u001b[39m.\u001b[39;49mfind_product()\n",
      "File \u001b[1;32mc:\\Users\\44772\\Documents\\GitHub\\Data-Collection-Pipeline\\scraper.py:138\u001b[0m, in \u001b[0;36mScraper.find_product\u001b[1;34m(self, container, tag)\u001b[0m\n\u001b[0;32m     50\u001b[0m     \u001b[39mprint\u001b[39m(links)\n\u001b[0;32m     66\u001b[0m \u001b[39m# def get_links(self):\u001b[39;00m\n\u001b[0;32m     67\u001b[0m \u001b[39m#     self.accept_cookies()\u001b[39;00m\n\u001b[0;32m     68\u001b[0m \u001b[39m#     self.driver.implicitly_wait(1)\u001b[39;00m\n\u001b[1;32m   (...)\u001b[0m\n\u001b[0;32m    136\u001b[0m     \u001b[39m#     link=food_product.find_element(By.XPATH,value='//a').get_attribute('href')\u001b[39;00m\n\u001b[0;32m    137\u001b[0m     \u001b[39m#     links.append(link)\u001b[39;00m\n\u001b[1;32m--> 138\u001b[0m     \u001b[39mreturn\u001b[39;00m food_products\n",
      "\u001b[1;31mNameError\u001b[0m: name 'food_products' is not defined"
     ]
    }
   ],
   "source": [
    "bot=Scraper()\n",
    "# time.sleep(1)\n",
    "# bot.accept_cookies()\n",
    "# time.sleep(1)\n",
    "# bot.browse_button()\n",
    "# time.sleep(1)\n",
    "# bot.search_bar()\n",
    "# time.sleep(1)\n",
    "a=bot.find_product()\n",
    "\n"
   ]
  },
  {
   "cell_type": "code",
   "execution_count": null,
   "metadata": {},
   "outputs": [],
   "source": [
    "a[]"
   ]
  },
  {
   "cell_type": "code",
   "execution_count": null,
   "metadata": {},
   "outputs": [],
   "source": [
    "len(a)\n",
    "find_all_div_under_li_class=a[1].find_elements(By.XPATH,value='./div')\n",
    "find_url_tag=find_all_div_under_li_class[1].find_element(By.XPATH,\n",
    "                    value='//div[@class=\"fop-contentWrapper\"]')\n",
    "d=find_url_tag.find_element(By.XPATH,value='//a').get_attribute('href')\n",
    "d\n"
   ]
  },
  {
   "cell_type": "code",
   "execution_count": null,
   "metadata": {},
   "outputs": [],
   "source": [
    "from lib2to3.pgen2 import driver\n",
    "\n",
    "\n",
    "names=[]\n",
    "\n",
    "\n",
    "for b in a:\n",
    "    driver.get(b)\n",
    "    b.click()\n",
    "    name_section=b.find_element(By.XPATH,value='//section[@class=\"bop-section bop-intro\"]')\n",
    "    name_tag=name_section.find_element(By.XPATH,value='//header[@class=\"bop-title\"]')\n",
    "    name=name_tag.find_element(By.XPATH,value='//h1')\n",
    "    names.append(name)\n",
    "print(names)\n",
    "    \n",
    "    "
   ]
  },
  {
   "cell_type": "code",
   "execution_count": null,
   "metadata": {},
   "outputs": [],
   "source": [
    "d"
   ]
  },
  {
   "cell_type": "code",
   "execution_count": null,
   "metadata": {},
   "outputs": [],
   "source": [
    "\n",
    "b=a[3].find_elements(By.XPATH,value='./div')\n",
    "c=b[1].get_attribute('data-sku')\n",
    "d=b[1].find_elements(By.XPATH,value='./div')\n",
    "e=d[1].find_element(By.XPATH,value='//a').get_attribute('href')"
   ]
  },
  {
   "cell_type": "code",
   "execution_count": null,
   "metadata": {},
   "outputs": [],
   "source": [
    "len(a)\n",
    "a"
   ]
  },
  {
   "cell_type": "code",
   "execution_count": null,
   "metadata": {},
   "outputs": [],
   "source": [
    "import uuid\n",
    "# from uuid import uuid4\n",
    "\n",
    "\n",
    "str(uuid.uuid4())"
   ]
  },
  {
   "cell_type": "code",
   "execution_count": null,
   "metadata": {},
   "outputs": [],
   "source": [
    "a[0].find_element(By.XPATH,value='//a').get_attribute('href')"
   ]
  },
  {
   "cell_type": "code",
   "execution_count": null,
   "metadata": {},
   "outputs": [],
   "source": [
    "len(b)"
   ]
  },
  {
   "cell_type": "code",
   "execution_count": null,
   "metadata": {},
   "outputs": [],
   "source": [
    "import pandas as pd"
   ]
  },
  {
   "cell_type": "code",
   "execution_count": null,
   "metadata": {},
   "outputs": [],
   "source": [
    "container='//ul[@class=\"fops fops-regular fops-shelf\"]',\n",
    "                                              tag= './li'"
   ]
  }
 ],
 "metadata": {
  "kernelspec": {
   "display_name": "Python 3.9.12 ('base')",
   "language": "python",
   "name": "python3"
  },
  "language_info": {
   "codemirror_mode": {
    "name": "ipython",
    "version": 3
   },
   "file_extension": ".py",
   "mimetype": "text/x-python",
   "name": "python",
   "nbconvert_exporter": "python",
   "pygments_lexer": "ipython3",
   "version": "3.9.12"
  },
  "orig_nbformat": 4,
  "vscode": {
   "interpreter": {
    "hash": "1b3b782e63fbf522679a3ddb6a648670947d439445328eeaba21f11825643340"
   }
  }
 },
 "nbformat": 4,
 "nbformat_minor": 2
}
